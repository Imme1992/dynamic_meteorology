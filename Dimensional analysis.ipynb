{
 "cells": [
  {
   "cell_type": "markdown",
   "metadata": {},
   "source": [
    "$$\n",
    "\\dfrac{du}{dt} = -\\dfrac{1}{\\rho}\\dfrac{dp}{dx} + fv\\\\\n",
    "\\dfrac{dw}{dt} = -\\dfrac{1}{\\rho}\\dfrac{dp}{dz} - g\n",
    "$$"
   ]
  },
  {
   "cell_type": "code",
   "execution_count": 4,
   "metadata": {
    "collapsed": true
   },
   "outputs": [],
   "source": [
    "U = 10.\n",
    "W = 1.\n",
    "T = 1.e5\n",
    "rho = 1.\n",
    "Px = 1.e3\n",
    "Pz = 1.e5\n",
    "g = 10.\n",
    "Lx = 1.e6\n",
    "Lz = 1.e4\n",
    "f = 1.e-4"
   ]
  },
  {
   "cell_type": "code",
   "execution_count": 5,
   "metadata": {
    "collapsed": false
   },
   "outputs": [],
   "source": [
    "lhs_u_1 = U/T\n",
    "rhs_u_1 = Px/(rho*Lx)\n",
    "rhs_u_2 = f*U\n",
    "\n",
    "lhs_w_1 = W/T\n",
    "rhs_w_1 = Pz/(rho*Lz)\n",
    "rhs_w_2 = g"
   ]
  },
  {
   "cell_type": "code",
   "execution_count": 6,
   "metadata": {
    "collapsed": false
   },
   "outputs": [
    {
     "name": "stdout",
     "output_type": "stream",
     "text": [
      "u: 0.0001 = 0.001 + 0.001\n",
      "w: 1e-05 = 10.0 + 10.0\n"
     ]
    }
   ],
   "source": [
    "print \"u: {0} = {1} + {2}\".format(lhs_u_1, rhs_u_1, rhs_u_2)\n",
    "print \"w: {0} = {1} + {2}\".format(lhs_w_1, rhs_w_1, rhs_w_2)"
   ]
  },
  {
   "cell_type": "markdown",
   "metadata": {
    "variables": {
     "lhs_u_1": "0.0001"
    }
   },
   "source": [
    "$$\n",
    "\\dfrac{du}{dt} - \\left( 2\\Omega + \\dfrac{u}{r \\cos \\phi} \\right)\n",
    "\\left( v \\sin \\phi - w \\cos \\phi \\right) =\n",
    "-\\dfrac{1}{\\rho r \\cos \\phi} \\dfrac{\\partial p}{\\partial \\lambda}\n",
    "$$\n",
    "\n",
    "a = {{lhs_u_1}}"
   ]
  },
  {
   "cell_type": "code",
   "execution_count": null,
   "metadata": {
    "collapsed": true
   },
   "outputs": [],
   "source": []
  }
 ],
 "metadata": {
  "kernelspec": {
   "display_name": "Python 2",
   "language": "python",
   "name": "python2"
  },
  "language_info": {
   "codemirror_mode": {
    "name": "ipython",
    "version": 2
   },
   "file_extension": ".py",
   "mimetype": "text/x-python",
   "name": "python",
   "nbconvert_exporter": "python",
   "pygments_lexer": "ipython2",
   "version": "2.7.12"
  }
 },
 "nbformat": 4,
 "nbformat_minor": 0
}
