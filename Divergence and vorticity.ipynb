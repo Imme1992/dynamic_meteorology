{
 "cells": [
  {
   "cell_type": "markdown",
   "metadata": {},
   "source": [
    "# Week 3: Divergence and vorticity\n",
    "### MAQ - 32806, Chiel van Heerwaarden & Imme Benedict, 2016\n",
    "In this assignment you will investigate whether the large-scale flow is in geostrophic and thermal wind balance. For this, you will use ECMWF ERA-Interim data from the 1st of January 2016 0:00.\n",
    "___"
   ]
  },
  {
   "cell_type": "code",
   "execution_count": null,
   "metadata": {
    "collapsed": true
   },
   "outputs": [],
   "source": [
    "import numpy as np              # Numpy is the fundamental package for scientific computing in Python.\n",
    "import netCDF4 as nc            # NetCDF is the data format of the meteorological data that we use.\n",
    "import matplotlib.pyplot as pl  # Matplotlib is a scientific plotting package.\n",
    "from mpl_toolkits.basemap import Basemap # Import the map plotting interface.\n",
    "from ipywidgets import interact\n",
    "#import warnings\n",
    "#warnings.filterwarnings('ignore')"
   ]
  },
  {
   "cell_type": "markdown",
   "metadata": {},
   "source": [
    "___\n",
    "### Understanding divergence, vorticity and deformation"
   ]
  },
  {
   "cell_type": "code",
   "execution_count": null,
   "metadata": {
    "collapsed": false
   },
   "outputs": [],
   "source": [
    "def plot_streamlines(div=0, zeta=0, d1=0, d2=0):\n",
    "    n = 65\n",
    "    x = np.linspace(-1., 1., n)\n",
    "    y = np.linspace(-1., 1., n)\n",
    "    u = 0.5*(div +d1)*x[np.newaxis, :] + 0.5*(d2 -zeta)*y[:,np.newaxis]\n",
    "    v = 0.5*(zeta+d2)*x[np.newaxis, :] + 0.5*(div-d1  )*y[:,np.newaxis]\n",
    "    U = (u**2 + v**2)**.5\n",
    "\n",
    "    pl.subplot(111, aspect='equal')\n",
    "    pl.contourf(x, y, U, 21)\n",
    "    pl.colorbar()\n",
    "    pl.streamplot(x, y, u, v, color='k', arrowsize=2.)\n",
    "    pl.xlabel('x')\n",
    "    pl.ylabel('y')\n",
    "    pl.show()\n",
    "    \n",
    "interact(plot_streamlines,\n",
    "         div=(-1,1,0.1), zeta=(-1,1,0.1), d1=(-1,1,0.1), d2=(-1,1,0.1));"
   ]
  },
  {
   "cell_type": "markdown",
   "metadata": {},
   "source": [
    "___\n",
    "### Setting up a Python Basemap and read out 3D fields\n",
    "We start the tutorial by loading the required Python packages and setting the figure properties."
   ]
  },
  {
   "cell_type": "code",
   "execution_count": null,
   "metadata": {
    "collapsed": false
   },
   "outputs": [],
   "source": [
    "import numpy as np              # Numpy is the fundamental package for scientific computing in Python.\n",
    "import netCDF4 as nc            # NetCDF is the data format of the meteorological data that we use.\n",
    "import matplotlib.pyplot as pl  # Matplotlib is a scientific plotting package.\n",
    "from mpl_toolkits.basemap import Basemap # Import the map plotting interface.\n",
    "import warnings\n",
    "warnings.filterwarnings('ignore')\n",
    "\n",
    "# The statement below enforces the plots to be put into this notebook, instead of in their own windows.\n",
    "%matplotlib inline\n",
    "pl.rcParams.update({'font.size': 11})          # Set the standard font size of the plots to 11pt.\n",
    "pl.rcParams.update({'figure.figsize': [13,6]}) # Set the standard figure size."
   ]
  },
  {
   "cell_type": "markdown",
   "metadata": {},
   "source": [
    "___\n",
    "With the code below, you initialize the world map with the desired coordinates."
   ]
  },
  {
   "cell_type": "code",
   "execution_count": null,
   "metadata": {
    "collapsed": false
   },
   "outputs": [],
   "source": [
    "# We define a map of the northern hemisphere that is stored in the m object.\n",
    "lon_start = - 60.\n",
    "lon_end   =   60.\n",
    "lat_start =   20.\n",
    "lat_end   =   65.\n",
    "m = Basemap(llcrnrlon=lon_start,\n",
    "            llcrnrlat=lat_start,\n",
    "            urcrnrlon=lon_end,\n",
    "            urcrnrlat=lat_end,\n",
    "            projection='mill', resolution='l')"
   ]
  },
  {
   "cell_type": "markdown",
   "metadata": {},
   "source": [
    "___\n",
    "Now, you load the data and read out the desired variables from a NetCDF file from the ECMWF ERA-Interim data archive."
   ]
  },
  {
   "cell_type": "code",
   "execution_count": null,
   "metadata": {
    "collapsed": false
   },
   "outputs": [],
   "source": [
    "nc_file = nc.Dataset(\"data/era_data.nc\", \"r\")\n",
    "#nc_file = nc.Dataset(\"data/era5_data.nc\", \"r\")\n",
    "lat = nc_file.variables[\"latitude\"][:]\n",
    "lon = nc_file.variables[\"longitude\"][:]\n",
    "p = nc_file.variables[\"level\"][:]*100.\n",
    "t = 0\n",
    "nroll = lon.size//2\n",
    "lon = np.roll(lon, nroll)\n",
    "lon = np.where(lon>=180., lon-360., lon)\n",
    "\n",
    "u     = np.roll(nc_file.variables[\"u\"][t,:,:,:], nroll, -1)\n",
    "v     = np.roll(nc_file.variables[\"v\"][t,:,:,:], nroll, -1)\n",
    "Phi   = np.roll(nc_file.variables[\"z\"][t,:,:,:], nroll, -1)\n",
    "T     = np.roll(nc_file.variables[\"t\"][t,:,:,:], nroll, -1)\n",
    "\n",
    "nc_file.close()\n",
    "\n",
    "lons, lats = m(*np.meshgrid(lon, lat))\n",
    "lonrad, latrad = np.meshgrid(np.pi/180.*lon, np.pi/180.*lat)"
   ]
  },
  {
   "cell_type": "markdown",
   "metadata": {},
   "source": [
    "___\n",
    "### Plotting the temperature, geopotential and wind vectors\n",
    "As a starting point you find below the temperature and geopotential at 500 hPa."
   ]
  },
  {
   "cell_type": "code",
   "execution_count": null,
   "metadata": {
    "collapsed": false,
    "scrolled": true
   },
   "outputs": [],
   "source": [
    "p_plot = 50000.\n",
    "n = abs(p-p_plot).argmin()\n",
    "nq = 8 # In the quiver plot we take steps of nq, otherwise there are too many arrows.\n",
    "\n",
    "m.contourf(lons, lats, T[n,:,:], 20, cmap=pl.cm.jet)\n",
    "m.colorbar()\n",
    "qu = m.quiver(lons[::nq,::nq], lats[::nq,::nq],\n",
    "              u[n,::nq,::nq], v[n,::nq, ::nq],\n",
    "              pivot='mid', width=1.2e-3,\n",
    "              scale=1000.)\n",
    "\n",
    "cz = m.contour(lons, lats, Phi[n,:,:], 15, colors='w', linewidths=1.5)\n",
    "pl.clabel(cz, fontsize=10., fmt='%1.0f')\n",
    "m.drawcoastlines(color='#666666')\n",
    "# draw parallels.\n",
    "parallels = np.arange(-80.,90,20.)\n",
    "m.drawparallels(parallels,labels=[1,0,0,0])\n",
    "# draw meridians\n",
    "meridians = np.arange(0.,360.,20.)\n",
    "m.drawmeridians(meridians,labels=[0,0,0,1])\n",
    "pl.title('T and $\\Phi$ at p = {0:.0f} hPa'.format(p[n] / 100));\n",
    "pl.tight_layout()"
   ]
  },
  {
   "cell_type": "code",
   "execution_count": null,
   "metadata": {
    "collapsed": false
   },
   "outputs": [],
   "source": [
    "a = 6.37e6\n",
    "dudx = 1./(a * np.cos(latrad)) * np.gradient(u, axis=2) / np.gradient(lonrad, axis=1)\n",
    "dvdy = 1./a * np.gradient(v, axis=1) / np.gradient(latrad, axis=0)\n",
    "divh = dudx + dvdy"
   ]
  },
  {
   "cell_type": "code",
   "execution_count": null,
   "metadata": {
    "collapsed": false
   },
   "outputs": [],
   "source": [
    "p_plot = 50000.\n",
    "n = abs(p-p_plot).argmin()\n",
    "nq = 8 # In the quiver plot we take steps of nq, otherwise there are too many arrows.\n",
    "\n",
    "div_range = np.linspace(-7e-5, 7e-5, 21)\n",
    "\n",
    "m.contourf(lons, lats, divh[n,:,:], div_range, cmap=pl.cm.seismic_r, extend='both')\n",
    "m.colorbar()\n",
    "qu = m.quiver(lons[::nq,::nq], lats[::nq,::nq],\n",
    "              u[n,::nq,::nq], v[n,::nq, ::nq],\n",
    "              pivot='mid', width=1.2e-3,\n",
    "              scale=2000.)\n",
    "\n",
    "cz = m.contour(lons, lats, Phi[n,:,:], 15, colors='k', linewidths=1.5)\n",
    "pl.clabel(cz, fontsize=10., fmt='%1.0f')\n",
    "m.drawcoastlines(color='#666666')\n",
    "# draw parallels.\n",
    "parallels = np.arange(-80.,90,20.)\n",
    "m.drawparallels(parallels,labels=[1,0,0,0])\n",
    "# draw meridians\n",
    "meridians = np.arange(0.,360.,20.)\n",
    "m.drawmeridians(meridians,labels=[0,0,0,1])\n",
    "pl.title('div(V) and $\\Phi$ at p = {0:.0f} hPa'.format(p[n] / 100));\n",
    "pl.tight_layout()"
   ]
  },
  {
   "cell_type": "code",
   "execution_count": null,
   "metadata": {
    "collapsed": true
   },
   "outputs": [],
   "source": [
    "a = 6.37e6\n",
    "dvdx = 1./(a * np.cos(latrad)) * np.gradient(v, axis=2) / np.gradient(lonrad, axis=1)\n",
    "dudy = 1./a * np.gradient(u, axis=1) / np.gradient(latrad, axis=0)\n",
    "zeta = dvdx - dudy\n",
    "\n",
    "Omega = 7.292e-5\n",
    "f = 2.*Omega*np.sin(latrad)"
   ]
  },
  {
   "cell_type": "code",
   "execution_count": null,
   "metadata": {
    "collapsed": false
   },
   "outputs": [],
   "source": [
    "p_plot = 50000.\n",
    "n = abs(p-p_plot).argmin()\n",
    "nq = 8 # In the quiver plot we take steps of nq, otherwise there are too many arrows.\n",
    "\n",
    "zeta_range = np.linspace(-2e-4, 2e-4, 21)\n",
    "\n",
    "pl.figure()\n",
    "m.contourf(lons, lats, zeta[n,:,:], zeta_range, cmap=pl.cm.seismic_r, extend='both')\n",
    "m.colorbar()\n",
    "qu = m.quiver(lons[::nq,::nq], lats[::nq,::nq],\n",
    "              u[n,::nq,::nq], v[n,::nq, ::nq],\n",
    "              pivot='mid', width=1.2e-3,\n",
    "              scale=2000.)\n",
    "\n",
    "cz = m.contour(lons, lats, Phi[n,:,:], 15, colors='k', linewidths=1.5)\n",
    "pl.clabel(cz, fontsize=10., fmt='%1.0f')\n",
    "m.drawcoastlines(color='#666666')\n",
    "# draw parallels.\n",
    "parallels = np.arange(-80.,90,20.)\n",
    "m.drawparallels(parallels,labels=[1,0,0,0])\n",
    "# draw meridians\n",
    "meridians = np.arange(0.,360.,20.)\n",
    "m.drawmeridians(meridians,labels=[0,0,0,1])\n",
    "pl.title('$\\zeta$ and $\\Phi$ at p = {0:.0f} hPa'.format(p[n] / 100));\n",
    "pl.tight_layout()\n",
    "\n",
    "pl.figure()\n",
    "m.contourf(lons, lats, f, zeta_range, cmap=pl.cm.seismic_r, extend='both')\n",
    "m.colorbar()\n",
    "qu = m.quiver(lons[::nq,::nq], lats[::nq,::nq],\n",
    "              u[n,::nq,::nq], v[n,::nq, ::nq],\n",
    "              pivot='mid', width=1.2e-3,\n",
    "              scale=2000.)\n",
    "\n",
    "cz = m.contour(lons, lats, Phi[n,:,:], 15, colors='k', linewidths=1.5)\n",
    "pl.clabel(cz, fontsize=10., fmt='%1.0f')\n",
    "m.drawcoastlines(color='#666666')\n",
    "# draw parallels.\n",
    "parallels = np.arange(-80.,90,20.)\n",
    "m.drawparallels(parallels,labels=[1,0,0,0])\n",
    "# draw meridians\n",
    "meridians = np.arange(0.,360.,20.)\n",
    "m.drawmeridians(meridians,labels=[0,0,0,1])\n",
    "pl.title('$\\zeta$ and $\\Phi$ at p = {0:.0f} hPa'.format(p[n] / 100));\n",
    "pl.tight_layout()"
   ]
  },
  {
   "cell_type": "code",
   "execution_count": null,
   "metadata": {
    "collapsed": false
   },
   "outputs": [],
   "source": [
    "p_plot = 50000.\n",
    "n = abs(p-p_plot).argmin()\n",
    "nq = 8 # In the quiver plot we take steps of nq, otherwise there are too many arrows.\n",
    "\n",
    "m.contourf(lons, lats, zeta[n,:,:] + f[:,:], zeta_range, cmap=pl.cm.seismic_r, extend='both')\n",
    "m.colorbar()\n",
    "qu = m.quiver(lons[::nq,::nq], lats[::nq,::nq],\n",
    "              u[n,::nq,::nq], v[n,::nq, ::nq],\n",
    "              pivot='mid', width=1.2e-3,\n",
    "              scale=2000.)\n",
    "\n",
    "cz = m.contour(lons, lats, Phi[n,:,:], 15, colors='k', linewidths=1.5)\n",
    "pl.clabel(cz, fontsize=10., fmt='%1.0f')\n",
    "m.drawcoastlines(color='#666666')\n",
    "# draw parallels.\n",
    "parallels = np.arange(-80.,90,20.)\n",
    "m.drawparallels(parallels,labels=[1,0,0,0])\n",
    "# draw meridians\n",
    "meridians = np.arange(0.,360.,20.)\n",
    "m.drawmeridians(meridians,labels=[0,0,0,1])\n",
    "pl.title('$\\zeta + f$ and $\\Phi$ at p = {0:.0f} hPa'.format(p[n] / 100));\n",
    "pl.tight_layout()"
   ]
  },
  {
   "cell_type": "code",
   "execution_count": null,
   "metadata": {
    "collapsed": false
   },
   "outputs": [],
   "source": [
    "dzetadx = 1./(a * np.cos(latrad)) * np.gradient(zeta, axis=2) / np.gradient(lonrad, axis=1)\n",
    "dzetady = 1./a * np.gradient(zeta, axis=1) / np.gradient(latrad, axis=0)\n",
    "dfdy = 1./a * np.gradient(f, axis=0) / np.gradient(latrad, axis=0)\n",
    "\n",
    "dzetadt_adv   = - u*dzetadx - v*dzetady \n",
    "dzetadt_adv_f = - v*dfdy\n",
    "dzetadt_div   = - (zeta + f) * divh\n",
    "dzetadt = dzetadt_adv + dzetadt_div + dzetadt_adv_f"
   ]
  },
  {
   "cell_type": "code",
   "execution_count": null,
   "metadata": {
    "collapsed": false
   },
   "outputs": [],
   "source": [
    "p_plot = 50000.\n",
    "n = abs(p-p_plot).argmin()\n",
    "nq = 4\n",
    "\n",
    "dzetadt_range = np.linspace(-1e-8, 1e-8, 21)\n",
    "\n",
    "m.contourf(lons, lats, dzetadt[n,:,:], dzetadt_range,\n",
    "           cmap=pl.cm.seismic, extend='both')\n",
    "m.colorbar()\n",
    "qu = m.quiver(lons[::nq,::nq], lats[::nq,::nq],\n",
    "              u[n,::nq,::nq], v[n,::nq, ::nq],\n",
    "              pivot='mid', width=1.2e-3,\n",
    "              scale=2000.)\n",
    "\n",
    "cz = m.contour(lons, lats, Phi[n,:,:], 21, colors='w', linewidths=1.5)\n",
    "pl.clabel(cz, fontsize=10., fmt='%1.0f')\n",
    "m.drawcoastlines(color='#666666')\n",
    "# draw parallels.\n",
    "parallels = np.arange(-80.,90,20.)\n",
    "m.drawparallels(parallels,labels=[1,0,0,0])\n",
    "# draw meridians\n",
    "meridians = np.arange(0.,360.,20.)\n",
    "m.drawmeridians(meridians,labels=[0,0,0,1])\n",
    "pl.title('dzetadt at p = {0:.0f} hPa'.format(p[n] / 100));\n",
    "pl.tight_layout()"
   ]
  },
  {
   "cell_type": "code",
   "execution_count": null,
   "metadata": {
    "collapsed": false
   },
   "outputs": [],
   "source": [
    "pl.figure()\n",
    "m.contourf(lons, lats, dzetadt_adv[n,:,:], dzetadt_range,\n",
    "           cmap=pl.cm.seismic, extend='both')\n",
    "m.colorbar()\n",
    "qu = m.quiver(lons[::nq,::nq], lats[::nq,::nq],\n",
    "              u[n,::nq,::nq], v[n,::nq, ::nq],\n",
    "              pivot='mid', width=1.2e-3,\n",
    "              scale=2000.)\n",
    "\n",
    "cz = m.contour(lons, lats, Phi[n,:,:], 21, colors='w', linewidths=1.5)\n",
    "pl.clabel(cz, fontsize=10., fmt='%1.0f')\n",
    "m.drawcoastlines(color='#666666')\n",
    "# draw parallels.\n",
    "parallels = np.arange(-80.,90,20.)\n",
    "m.drawparallels(parallels,labels=[1,0,0,0])\n",
    "# draw meridians\n",
    "meridians = np.arange(0.,360.,20.)\n",
    "m.drawmeridians(meridians,labels=[0,0,0,1])\n",
    "pl.title('dzetadt_adv at p = {0:.0f} hPa'.format(p[n] / 100));\n",
    "pl.tight_layout()\n",
    "\n",
    "pl.figure()\n",
    "m.contourf(lons, lats, dzetadt_div[n,:,:], dzetadt_range,\n",
    "           cmap=pl.cm.seismic, extend='both')\n",
    "m.colorbar()\n",
    "qu = m.quiver(lons[::nq,::nq], lats[::nq,::nq],\n",
    "              u[n,::nq,::nq], v[n,::nq, ::nq],\n",
    "              pivot='mid', width=1.2e-3,\n",
    "              scale=2000.)\n",
    "\n",
    "cz = m.contour(lons, lats, Phi[n,:,:], 21, colors='w', linewidths=1.5)\n",
    "pl.clabel(cz, fontsize=10., fmt='%1.0f')\n",
    "m.drawcoastlines(color='#666666')\n",
    "# draw parallels.\n",
    "parallels = np.arange(-80.,90,20.)\n",
    "m.drawparallels(parallels,labels=[1,0,0,0])\n",
    "# draw meridians\n",
    "meridians = np.arange(0.,360.,20.)\n",
    "m.drawmeridians(meridians,labels=[0,0,0,1])\n",
    "pl.title('dzetadt_div at p = {0:.0f} hPa'.format(p[n] / 100));\n",
    "pl.tight_layout()\n",
    "\n",
    "pl.figure()\n",
    "m.contourf(lons, lats, dzetadt_adv_f[n,:,:], dzetadt_range,\n",
    "           cmap=pl.cm.seismic, extend='both')\n",
    "m.colorbar()\n",
    "qu = m.quiver(lons[::nq,::nq], lats[::nq,::nq],\n",
    "              u[n,::nq,::nq], v[n,::nq, ::nq],\n",
    "              pivot='mid', width=1.2e-3,\n",
    "              scale=2000.)\n",
    "\n",
    "cz = m.contour(lons, lats, Phi[n,:,:], 21, colors='w', linewidths=1.5)\n",
    "pl.clabel(cz, fontsize=10., fmt='%1.0f')\n",
    "m.drawcoastlines(color='#666666')\n",
    "# draw parallels.\n",
    "parallels = np.arange(-80.,90,20.)\n",
    "m.drawparallels(parallels,labels=[1,0,0,0])\n",
    "# draw meridians\n",
    "meridians = np.arange(0.,360.,20.)\n",
    "m.drawmeridians(meridians,labels=[0,0,0,1])\n",
    "pl.title('dzetadt_adv_f at p = {0:.0f} hPa'.format(p[n] / 100));\n",
    "pl.tight_layout()"
   ]
  },
  {
   "cell_type": "code",
   "execution_count": null,
   "metadata": {
    "collapsed": true
   },
   "outputs": [],
   "source": []
  }
 ],
 "metadata": {
  "kernelspec": {
   "display_name": "Python 3",
   "language": "python",
   "name": "python3"
  },
  "language_info": {
   "codemirror_mode": {
    "name": "ipython",
    "version": 3
   },
   "file_extension": ".py",
   "mimetype": "text/x-python",
   "name": "python",
   "nbconvert_exporter": "python",
   "pygments_lexer": "ipython3",
   "version": "3.5.2"
  },
  "widgets": {
   "state": {
    "5a61ad5b091c4946850d184962fbe8e1": {
     "views": [
      {
       "cell_index": 3
      }
     ]
    }
   },
   "version": "1.2.0"
  }
 },
 "nbformat": 4,
 "nbformat_minor": 0
}
