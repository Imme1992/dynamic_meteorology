{
 "cells": [
  {
   "cell_type": "markdown",
   "metadata": {},
   "source": [
    "# Exercises week 1 - Introduction\n",
    "\n",
    "MAQ - 32806, Imme Benedict, 2016\n",
    "\n",
    "In the first tutorial of this course we will introduce some basic concepts related to vectors."
   ]
  },
  {
   "cell_type": "markdown",
   "metadata": {},
   "source": [
    "# 1. Vectors\n",
    "\n",
    "In meteorology and climatology we often work with variables that have four dimensions: $x$, $y$, $z$ and $t$, which represent the variable in the three-dimensional space and in time. These variables can be split into two categories: scalars and vectors. Scalars, such as temperature, humidity and pressure do not have a direction, whereas vectors, such as wind or the temperature gradient do. In this tutorial, we refresh the basics of vectors, their notation and related rules and mathematical operations.\n",
    "\n",
    "We express vectors using bold letters: $\\boldsymbol{u}$ is the wind vector. This vector is defined as:\n",
    "\n",
    "$$\\boldsymbol{u} \\equiv \\left( u, v, w\\right).$$\n",
    "\n",
    "Its three components are thus the east-west wind $u$, the north-south wind $v$ and the vertical wind $w$.\n",
    "\n",
    "a) Calculate the gradient of the wind vector: $ \\nabla u $. Is this a vector or a scalar?\n",
    "\n",
    "The divergence of a vector is a scalar. In vector notation, we write it down as:\n",
    "$$\\text{div} \\left( \\boldsymbol{u} \\right) \\equiv \\nabla \\cdot \\boldsymbol{u}$$\n",
    "b) Expand the right hand side of the previous expression:\n",
    "\n",
    "$$\\nabla \\cdot \\boldsymbol{u} = \\dots$$\n",
    "\n",
    "c) What happens when $$\\nabla \\cdot \\boldsymbol{u} = 0 $$\n",
    "\n",
    "Besides a dot product we often also see a cross product in meteorological equations, for example when you calculate vorticity: $$ \\omega =  \\nabla \\times \\boldsymbol{u} $$\n",
    "\n",
    "d) Expand the right hand side of the previous expression.\n",
    "\n",
    "$$\\nabla \\times \\boldsymbol{u} = \\dots$$\n",
    "\n",
    "In the equation below the geostrophic wind is given in vector form. \n",
    "\n",
    "e) Write down the different components.\n",
    "\n",
    "$$ \\boldsymbol{u}_{g} = k \\times \\dfrac{1}{\\rho f} \\nabla p $$"
   ]
  },
  {
   "cell_type": "markdown",
   "metadata": {},
   "source": [
    "# 2. Taylor series \n",
    "\n",
    "This Taylor approximation and infinitesimal control volumes are used in atmospheric science to express budgets of mass momentum and energy. \n",
    "Two types of control volumes are used in fluid dynamics: the Eulerian and Lagrangian frame.\n",
    "\n",
    "$$\n",
    "f \\left( x + \\delta x, y, z, t \\right) = f \\left( x,y,z,t \\right) \n",
    "    + \\left( \\delta x \\right) \\left. \\dfrac{\\partial f}{\\partial x} \\right|_x\n",
    "    + \\dfrac{ \\left( \\delta x \\right)^2 }{2!} \\left. \\dfrac{\\partial^2 f}{\\partial x^2} \\right|_x\n",
    "    + \\dfrac{ \\left( \\delta x \\right)^3 }{3!} \\left. \\dfrac{\\partial^3 f}{\\partial x^3} \\right|_x + \\cdots\n",
    "$$\n",
    "\n",
    "If $\\delta x$ is an inifinitesimal element $dx$ and the limit $dx \\rightarrow 0$ is taken then\n",
    "$$\n",
    "\\lim_{dx \\rightarrow 0} \\dfrac{f(x + dx, y, z, t) - f(x, y, z, t)}{dx} = \\dfrac{\\partial f}{\\partial x}\n",
    "$$"
   ]
  },
  {
   "cell_type": "markdown",
   "metadata": {},
   "source": [
    "Here, we consider a fixed infinitesimal box of size $\\delta x \\times \\delta y \\times \\delta z$.\n",
    "In such a box the net rate of mass in- and outflow trough the sides must equal the rate of accumulation of mass within the volume.\n",
    "\n",
    "$$\n",
    "  \\rho \\left( x, y, z, t + \\delta t \\right) \\delta x\\,\\delta y\\,\\delta z\n",
    "- \\rho \\left( x, y, z, t \\right) \\delta x\\,\\delta y\\,\\delta z \\\\\n",
    "+ \\rho u \\left( x + \\tfrac{1}{2}\\delta x, y, z, t \\right) \\delta y\\,\\delta z\\,\\delta t\n",
    "- \\rho u \\left( x - \\tfrac{1}{2}\\delta x, y, z, t \\right) \\delta y\\,\\delta z\\,\\delta t \\\\\n",
    "+ \\rho v \\left( x, y + \\tfrac{1}{2}\\delta y, z, t \\right) \\delta x\\,\\delta z\\,\\delta t\n",
    "- \\rho v \\left( x, y - \\tfrac{1}{2}\\delta y, z, t \\right) \\delta x\\,\\delta z\\,\\delta t \\\\\n",
    "+ \\rho w \\left( x, y, z + \\tfrac{1}{2}\\delta z,t  \\right) \\delta x\\,\\delta y\\,\\delta t\n",
    "- \\rho w \\left( x, y, z - \\tfrac{1}{2}\\delta z, t \\right) \\delta x\\,\\delta y\\,\\delta t = 0\n",
    "$$\n",
    "\n",
    "a)\n",
    "* Divide by $\\delta x\\,\\delta y\\,\\delta z\\,\\delta t$\n",
    "* Apply the Taylor approximation\n",
    "\n",
    "You have now derived the continuity equation from an Eulerian frame (mass divergence form).\n",
    "\n",
    "$$\n",
    "\\dfrac{\\partial \\rho}{\\partial t} + \\nabla \\rho U = 0\n",
    "$$\n",
    "\n",
    "b) You can rewrite this equation into the form of a Lagrangian frame (velocity divergence form).\n",
    "\n",
    "$$\n",
    "\\dfrac{D \\rho}{D t} + \\rho \\nabla U = 0\n",
    "$$\n",
    "\n",
    "c) What happens with the continuity equation if we assume: $$ \\rho = \\rho_{0}$$"
   ]
  },
  {
   "cell_type": "markdown",
   "metadata": {},
   "source": [
    "# 3 Holton exercises\n",
    "\n",
    "Make excercise 2.1 and 2.2 from Holton"
   ]
  },
  {
   "cell_type": "markdown",
   "metadata": {},
   "source": [
    "End of tutorial."
   ]
  }
 ],
 "metadata": {
  "anaconda-cloud": {},
  "kernelspec": {
   "display_name": "Python [Root]",
   "language": "python",
   "name": "Python [Root]"
  },
  "language_info": {
   "codemirror_mode": {
    "name": "ipython",
    "version": 2
   },
   "file_extension": ".py",
   "mimetype": "text/x-python",
   "name": "python",
   "nbconvert_exporter": "python",
   "pygments_lexer": "ipython2",
   "version": "2.7.12"
  }
 },
 "nbformat": 4,
 "nbformat_minor": 0
}
