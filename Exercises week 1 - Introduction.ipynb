{
 "cells": [
  {
   "cell_type": "markdown",
   "metadata": {},
   "source": [
    "# Exercises week 1 - Introduction\n",
    "\n",
    "MAQ - 32806, Imme Benedict, 2016\n",
    "\n",
    "In the first tutorial of this course we will introduce some basic concepts related to vectors."
   ]
  },
  {
   "cell_type": "markdown",
   "metadata": {},
   "source": [
    "# 1. Vectors\n",
    "\n",
    "In meteorology and climatology we often work with variables that have four dimensions: $x$, $y$, $z$ and $t$, which represent the variable in the three-dimensional space and in time. These variables can be split into two categories: scalars and vectors. Scalars, such as temperature, humidity and pressure do not have a direction, whereas vectors, such as wind or the temperature gradient do. In this tutorial, we refresh the basics of vectors, their notation and related rules and mathematical operations.\n",
    "\n",
    "We express vectors using bold letters: $\\boldsymbol{U}$ is the wind vector. This vector is defined as:\n",
    "\n",
    "$$\\boldsymbol{U} = \\left( u, v, w\\right) = \\boldsymbol{i}u + \\boldsymbol{j}v + \\boldsymbol{k}w.$$\n",
    "\n",
    "Its three components are thus the zonal wind $u$, the meridional wind $v$ and the vertical wind $w$. $\\boldsymbol{i}, \\boldsymbol{j}$ and $\\boldsymbol{k}$ are the unit vectors in respectively the $x,y$ and $z$ direction: $\\boldsymbol{i} \\equiv (1,0,0)$ , $\\boldsymbol{j} \\equiv (0,1,0)$ and $\\boldsymbol{k} \\equiv (0,0,1)$. \n",
    "\n",
    "a) Remember what is $\\nabla$ (symbol called nabla) and calculate the gradient of the wind vector: $ \\nabla \\boldsymbol{U} $.\n",
    "\n",
    "Vectors can be multiplied with each other in two different ways, with two different vector multiplication operations. The first one is the dot product. The dot product of two vectors leads to a scalar as can be demonstrated by the divergence of the wind vector: \n",
    "$$\\text{div} \\left( \\boldsymbol{U} \\right) = \\nabla \\cdot \\boldsymbol{U}$$\n",
    "b) Expand the right hand side of the previous expression:\n",
    "\n",
    "$$\\nabla \\cdot \\boldsymbol{U} = \\dots$$\n",
    "\n",
    "c) What is the physical interpretation of $\\nabla \\cdot \\boldsymbol{U} $ and what happens when $\\nabla \\cdot \\boldsymbol{U} = 0 $ ?\n",
    "\n",
    "The dot product of two vectors perpencidular to each other is zero. This can be demonstrated by taking the dot product of unit vector $\\boldsymbol{i}$ and $\\boldsymbol{j}$.\n",
    "\n",
    "d) Take the dot produt of the unit vector $\\boldsymbol{i}$ and $\\boldsymbol{j}$:\n",
    "\n",
    "$$ \\boldsymbol{i} \\cdot \\boldsymbol{j} = \\dots $$\n",
    "\n",
    "The other vector multiplication operation is the cross product. In meteorology, the cross product of the nabla ($ \\nabla $) and the wind vector $\\boldsymbol{u}$ results in vorticity (also known as the curl of the wind vector) :\n",
    "\n",
    "$$ \\omega =  \\nabla \\times \\boldsymbol{U} $$\n",
    "\n",
    "e) Expand the right hand side of the previous expression. Is the result a scalar or a vector?\n",
    "\n",
    "The direction of the resulting vector of the cross product is perpendicular to the plane of vector $\\nabla$ and vector $\\boldsymbol{U}$. This can be nicely illustrated by taking the cross product of unit vector $\\boldsymbol{i}$ and $\\boldsymbol{j}$:\n",
    "\n",
    "$$ \\boldsymbol{i} \\times \\boldsymbol{j} = \\dots $$\n",
    "\n",
    "f) Write out this cross product. What is the resulting vector and what is the direction?\n",
    "\n",
    "Another example of the cross product is to determine the rotation vector of the earth, namely:\n",
    "\n",
    "$$ \\boldsymbol{U} = \\boldsymbol{\\Omega} \\times \\boldsymbol{r}$$\n",
    "\n",
    "The direction of $\\boldsymbol{\\Omega}$ is perpendicular to the plane of $\\boldsymbol{U}$ and $\\boldsymbol{r}$."
   ]
  },
  {
   "cell_type": "markdown",
   "metadata": {},
   "source": [
    "g) To get some more grip on the vector notation write out the different components\n",
    "of the geostrophic wind given in vector form. \n",
    "\n",
    "$$ \\boldsymbol{V}_{g} = \\boldsymbol{k} \\times \\dfrac{1}{\\rho f} \\nabla p $$"
   ]
  },
  {
   "cell_type": "markdown",
   "metadata": {},
   "source": [
    "# 2. The continuity equation \n",
    "\n",
    "The mathematical relationship that expresses conservation of mass for a fluid is called the continuity equation. This equation can be given using two different methods. The two methods are based on the type of control volumes used in fluid dynamics: the Eulerian and Lagrangian frame.\n",
    "\n",
    "To derive the continuity equation in the Eulerian frame we consider a volume element $ \\delta x\\,\\delta y\\,\\delta z $ which is fixed in the Cartesian coordinate frame. \n",
    "For such a fixed control volume, the net rate of mass inflow trough the sides must equal the rate of accumulation of mass within the volume.\n",
    "\n",
    "The continuity equation from an Eulerian frame (mass divergence form) \n",
    "$$\n",
    "\\dfrac{\\partial \\rho}{\\partial t} + \\nabla \\cdot (\\rho \\boldsymbol{U}) = 0\n",
    "$$\n",
    "\n",
    "a) Re-write the different terms of the continuity equation so you end up with the continuity equation in the Lagrangian frame \n",
    "(velocity divergence form): \n",
    "\n",
    "$$\n",
    "\\dfrac{1}{\\rho} \\dfrac{D \\rho}{D t} + \\nabla \\cdot \\boldsymbol{U} = 0\n",
    "$$\n",
    "\n",
    "c) Explain what is stated in this Lagrangian form of the continuity equation. What do the different terms indicate and how do they change?\n",
    "\n",
    "c) What happens with the continuity equation if we assume: $ \\rho = \\rho_{0} $? \n"
   ]
  },
  {
   "cell_type": "markdown",
   "metadata": {},
   "source": [
    "# 3 Holton exercises\n",
    "\n",
    "Make excercise 1.1, 1.12, 1.17, 2.1 and 2.2 from Holton"
   ]
  },
  {
   "cell_type": "markdown",
   "metadata": {},
   "source": [
    "End of tutorial."
   ]
  }
 ],
 "metadata": {
  "anaconda-cloud": {},
  "kernelspec": {
   "display_name": "Python [Root]",
   "language": "python",
   "name": "Python [Root]"
  },
  "language_info": {
   "codemirror_mode": {
    "name": "ipython",
    "version": 2
   },
   "file_extension": ".py",
   "mimetype": "text/x-python",
   "name": "python",
   "nbconvert_exporter": "python",
   "pygments_lexer": "ipython2",
   "version": "2.7.12"
  }
 },
 "nbformat": 4,
 "nbformat_minor": 0
}
