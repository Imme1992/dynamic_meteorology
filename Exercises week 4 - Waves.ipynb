{
 "cells": [
  {
   "cell_type": "markdown",
   "metadata": {},
   "source": [
    "# Exercises week 4 - Waves\n",
    "\n",
    "MAQ - 32806, Imme Benedict, 2016\n",
    "\n",
    "In this tutorial we will refresh the basic concepts of waves."
   ]
  },
  {
   "cell_type": "markdown",
   "metadata": {},
   "source": [
    "# Solving linear partial differential equations\n",
    "\n",
    "In the chapters to come, several linear systems of partial differential euqations will be solved by a wave unset. The knowledge of this technique shall be refreshed by this example.\n",
    "\n",
    "a) Derive the dispersion relation for the 1-dimensional advection-diffusion equation for temperature $ T = T (x,t) $, a constant wind speed $\\bar{u}$ and a constant diffusion coefficient D.\n",
    "\n",
    "$$ \\dfrac{\\partial{T}}{\\partial{t}} + \\bar{u} \\dfrac{\\partial{T}}{\\partial{x}} = D \\dfrac{\\partial^2 T}{\\partial{x^2}}$$\n",
    "\n",
    "b) What are the solutions to this equation? What is the phase and the group velocity?"
   ]
  },
  {
   "cell_type": "markdown",
   "metadata": {},
   "source": [
    "# Rossby waves in Quasi-Geostrophy\n",
    "\n",
    "Rossby waves can also be derived from the QG tendency equation. Written entirely in terms of the streamfunctino, assuming constant stratification and neglecting diabatic effects, this equation reads\n",
    "\n",
    "$$ ( \\dfrac{\\partial}{\\partial t} + ( k \\times \\nabla_p \\psi) \\nabla_p ) ( \\nabla_p^2 + \\dfrac{f_0^2}{\\sigma} \\dfrac{\\partial^2}{\\partial p^2}) \\psi ' $$\n",
    "\n",
    "This rather lengthy equation is linear in  and can hence be solved using the usual technique.\n",
    "\n",
    "a) Linearise the equation, assuming a homogeneous stationary zonal background flow $\\bar{u}$.\n",
    "\n",
    "(Result: $$)\n",
    "\n",
    "b) Solve this equation and show that the resulting dispersion relation is $\\omega = k \\bar{u} - \\dfrac{\\beta k}{K^2}$ with $K^2 = k^2 + l^2 + \\dfrac{f_0^2}{\\sigma} m^2 $. k , l and m denote the wave numbers in x, y and z-direction, respectively.\n",
    "\n",
    "c) Are Rossby waves dispersive? In which directions propagate the waves and the wave energy? At which wavelength are Rossby waves stationary? Assume a typical value for the background flow to estimate the stationary wave length.\n"
   ]
  },
  {
   "cell_type": "markdown",
   "metadata": {},
   "source": [
    "# Holton exercises\n",
    "\n",
    "Make the following exercises from Holton: 5.1, 5.2, 5.7"
   ]
  },
  {
   "cell_type": "code",
   "execution_count": null,
   "metadata": {
    "collapsed": true
   },
   "outputs": [],
   "source": []
  }
 ],
 "metadata": {
  "kernelspec": {
   "display_name": "Python [Root]",
   "language": "python",
   "name": "Python [Root]"
  },
  "language_info": {
   "codemirror_mode": {
    "name": "ipython",
    "version": 2
   },
   "file_extension": ".py",
   "mimetype": "text/x-python",
   "name": "python",
   "nbconvert_exporter": "python",
   "pygments_lexer": "ipython2",
   "version": "2.7.12"
  }
 },
 "nbformat": 4,
 "nbformat_minor": 0
}
