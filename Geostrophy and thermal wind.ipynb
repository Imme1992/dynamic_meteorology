{
 "cells": [
  {
   "cell_type": "markdown",
   "metadata": {},
   "source": [
    "# Week 2: Geostrophy and thermal wind balance\n",
    "### MAQ - 32806, Chiel van Heerwaarden & Imme Benedict, 2016\n",
    "In this assignment you will investigate whether the large-scale flow is in geostrophic and thermal wind balance. For this, you will use ECMWF ERA-Interim data from the 1st of January 2016 0:00.\n",
    "___"
   ]
  },
  {
   "cell_type": "markdown",
   "metadata": {},
   "source": [
    "### Setting up a Python Basemap and read out 3D fields\n",
    "We start the tutorial by loading the required Python packages and setting the figure properties."
   ]
  },
  {
   "cell_type": "code",
   "execution_count": null,
   "metadata": {
    "collapsed": false
   },
   "outputs": [],
   "source": [
    "import numpy as np              # Numpy is the fundamental package for scientific computing in Python.\n",
    "import netCDF4 as nc            # NetCDF is the data format of the meteorological data that we use.\n",
    "import matplotlib.pyplot as pl  # Matplotlib is a scientific plotting package.\n",
    "import matplotlib.colors as cl\n",
    "from mpl_toolkits.basemap import Basemap # Import the map plotting interface.\n",
    "import warnings\n",
    "warnings.filterwarnings('ignore')\n",
    "\n",
    "# The statement below enforces the plots to be put into this notebook, instead of in their own windows.\n",
    "%matplotlib inline\n",
    "pl.rcParams.update({'font.size': 11})          # Set the standard font size of the plots to 11pt.\n",
    "pl.rcParams.update({'figure.figsize': [13,6]}) # Set the standard figure size."
   ]
  },
  {
   "cell_type": "markdown",
   "metadata": {},
   "source": [
    "___\n",
    "With the code below, you initialize the world map with the desired coordinates."
   ]
  },
  {
   "cell_type": "code",
   "execution_count": null,
   "metadata": {
    "collapsed": false
   },
   "outputs": [],
   "source": [
    "# We define a map of the northern hemisphere that is stored in the m object.\n",
    "lon_start = - 50.\n",
    "lon_end   =   60.\n",
    "lat_start =   20.\n",
    "lat_end   =   65.\n",
    "m = Basemap(llcrnrlon=lon_start,\n",
    "            llcrnrlat=lat_start,\n",
    "            urcrnrlon=lon_end,\n",
    "            urcrnrlat=lat_end,\n",
    "            projection='mill', resolution='l')"
   ]
  },
  {
   "cell_type": "markdown",
   "metadata": {},
   "source": [
    "___\n",
    "Now, you load the data and read out the desired variables from a NetCDF file from the ECMWF ERA-Interim data archive. You are loading a file with data from October 1st, 2015."
   ]
  },
  {
   "cell_type": "code",
   "execution_count": null,
   "metadata": {
    "collapsed": false
   },
   "outputs": [],
   "source": [
    "nc_file = nc.Dataset(\"data/era_data.nc\", \"r\")\n",
    "#nc_file = nc.Dataset(\"data/era5_data.nc\", \"r\")\n",
    "lat = nc_file.variables[\"latitude\"][:]\n",
    "lon = nc_file.variables[\"longitude\"][:]\n",
    "p = nc_file.variables[\"level\"][:]*100.\n",
    "t = 0\n",
    "nroll = lon.size//2\n",
    "lon = np.roll(lon, nroll)\n",
    "lon = np.where(lon>=180., lon-360., lon)\n",
    "\n",
    "u = np.roll(nc_file.variables[\"u\"][t,:,:,:], nroll, -1)\n",
    "v = np.roll(nc_file.variables[\"v\"][t,:,:,:], nroll, -1)\n",
    "z = np.roll(nc_file.variables[\"z\"][t,:,:,:], nroll, -1)\n",
    "T = np.roll(nc_file.variables[\"t\"][t,:,:,:], nroll, -1)\n",
    "\n",
    "lons, lats = m(*np.meshgrid(lon, lat))\n",
    "lonrad, latrad = np.meshgrid(np.pi/180.*lon, np.pi/180.*lat)"
   ]
  },
  {
   "cell_type": "markdown",
   "metadata": {},
   "source": [
    "___\n",
    "### Plotting the temperature and geopotential on both maps\n",
    "As a starting point you find below the temperature and geopotential at 500 hPa."
   ]
  },
  {
   "cell_type": "code",
   "execution_count": null,
   "metadata": {
    "collapsed": false,
    "scrolled": true
   },
   "outputs": [],
   "source": [
    "p_plot = 50000.\n",
    "n = abs(p-p_plot).argmin()\n",
    "nq = 3 # In the quiver plot we take steps of nq, otherwise there are too many arrows.\n",
    "\n",
    "m.contourf(lons, lats, T[n,:,:], 20, cmap=pl.cm.jet)\n",
    "m.colorbar()\n",
    "qu = m.quiver(lons[::nq,::nq], lats[::nq,::nq],\n",
    "              u[n,::nq,::nq], v[n,::nq, ::nq],\n",
    "              pivot='mid', width=1.2e-3,\n",
    "              scale=800.)\n",
    "    \n",
    "cz = m.contour(lons, lats, z[n,:,:], 15, colors='w', linewidths=1.5)\n",
    "pl.clabel(cz, fontsize=10., fmt='%1.0f')\n",
    "m.drawcoastlines(color='#666666')\n",
    "# draw parallels.\n",
    "parallels = np.arange(-80.,90,20.)\n",
    "m.drawparallels(parallels,labels=[1,0,0,0])\n",
    "# draw meridians\n",
    "meridians = np.arange(0.,360.,60.)\n",
    "m.drawmeridians(meridians,labels=[0,0,0,1])\n",
    "pl.title('T and Z at p = {0:.0f} hPa'.format(p[n] / 100));\n",
    "pl.tight_layout()"
   ]
  },
  {
   "cell_type": "markdown",
   "metadata": {},
   "source": [
    "___\n",
    "### Assignment\n",
    "In this assignment you are going to verify the existence of geostrophic wind balance and thermal wind balance. The instructions below give you some hints how to proceed. You are free to plot everything that you consider helpful in this task. Work out the question in the large map or choose a region that you find interesting (thus change the map region in the beginning of the script. Make sure to restart the notebook via the `Kernel` item on top when you change the map range).\n",
    "\n",
    "#### Geostrophic balance\n",
    "1. Explain the meaning of geostrophic wind balance and write it out in pressure coordinates. Does the flow in the plot seem to be in geostrophic balance?\n",
    "1. Calculate and plot the geostrophic wind speed $\\left| \\boldsymbol{V_g} \\right|$ at 500 hPa and compare it with the actual wind speed $\\left| \\boldsymbol{V} \\right|$. This is a complex task that contains a sequence of steps. You have to calculate the geostrophic wind components $u_g$ and $v_g$ from the 3d field `z` that contains the geopotential $\\Phi$. You need the Coriolis parameter $f \\equiv 2\\Omega \\sin \\phi$ as well. This one you have to calculate yourself.\n",
    "2. Where is the atmosphere in geostrophic balance and where not? Discuss the explanation in detail.\n",
    "3. Do the same at an other height of your choice and discuss the differences with the 500 hPa level.\n",
    "\n",
    "#### Thermal wind balance\n",
    "1. Derive the thermal wind balance in pressure coordinates. Explain the meaning in detail.\n",
    "2. Calculate and plot the term that contains the vertical gradient (around 500 hPa) of the zonal geostrophic wind.\n",
    "3. Calculate and plot the term that contains the meridional gradient of the temperature.\n",
    "4. Is the atmosphere in thermal wind balance? Where is it and where not?\n"
   ]
  },
  {
   "cell_type": "markdown",
   "metadata": {
    "collapsed": true
   },
   "source": [
    "___\n",
    "Work out the assignment below. If you feel more comfortable in using Word, you can also work the assignment out in there. You can save the pictures by clicking right on them. You can use the Notebook from last week to look up how to calculate gradients.\n",
    "___"
   ]
  },
  {
   "cell_type": "code",
   "execution_count": null,
   "metadata": {
    "collapsed": true
   },
   "outputs": [],
   "source": []
  }
 ],
 "metadata": {
  "kernelspec": {
   "display_name": "Python 3",
   "language": "python",
   "name": "python3"
  },
  "language_info": {
   "codemirror_mode": {
    "name": "ipython",
    "version": 3
   },
   "file_extension": ".py",
   "mimetype": "text/x-python",
   "name": "python",
   "nbconvert_exporter": "python",
   "pygments_lexer": "ipython3",
   "version": "3.5.2"
  }
 },
 "nbformat": 4,
 "nbformat_minor": 0
}
