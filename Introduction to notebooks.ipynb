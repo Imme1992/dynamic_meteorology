{
 "cells": [
  {
   "cell_type": "markdown",
   "metadata": {},
   "source": [
    "# Week 1: Getting used to Jupyter Notebooks\n",
    "### MAQ - 32806, Chiel van Heerwaarden & Imme Benedict, 2016\n",
    "This is the first tutorial. In this tutorial, you will get used to the Jupyter Notebooks, and their work flow. In Jupyter notebooks you can write either text in Markdown format (including mathematics using LaTeX) or code in Python format. In this course, you will on assignments that you can work out in your own notebook.\n",
    "___"
   ]
  },
  {
   "cell_type": "markdown",
   "metadata": {},
   "source": [
    "### SOME ESSENTIAL TIPS BEFORE STARTING!\n",
    "* Make a copy of the notebook via the `File` menu. By doing so, you always have the original file to revert to.\n",
    "* Save your work often.\n",
    "* In case of weird behavior, try to restart the notebook via the `Kernel` menu.\n",
    "* Play around, the best way to find out how things work is to try them out!\n",
    "* Use the internet for help on `numpy`, `matplotlib`, `Basemap` or `LaTeX` if you want to try something out.\n",
    "* With `Shift+Enter` you can move down while executing cells.\n",
    "* You can complete commands by pressing `Tab`.\n",
    "___"
   ]
  },
  {
   "cell_type": "markdown",
   "metadata": {},
   "source": [
    "### Setting up a Python Basemap and read out 3D fields\n",
    "We start the tutorial by loading the required Python packages and setting the figure properties."
   ]
  },
  {
   "cell_type": "code",
   "execution_count": null,
   "metadata": {
    "collapsed": false
   },
   "outputs": [],
   "source": [
    "import numpy as np              # Numpy is the package for scientific computing in Python.\n",
    "import netCDF4 as nc            # NetCDF is the data format of our meteorological data.\n",
    "import matplotlib.pyplot as pl  # Matplotlib is a scientific plotting package.\n",
    "\n",
    "from mpl_toolkits.basemap import Basemap # Import the map plotting interface.\n",
    "\n",
    "# The statement below enforces the plots to be put inline.\n",
    "%pylab inline\n",
    "pl.rcParams.update({'font.size': 12})          # Set the font size of the plots to 12pt.\n",
    "pl.rcParams.update({'figure.figsize': [13,6]}) # Set the standard figure size."
   ]
  },
  {
   "cell_type": "markdown",
   "metadata": {},
   "source": [
    "___\n",
    "With the code below, you up the world map with the desired coordinates."
   ]
  },
  {
   "cell_type": "code",
   "execution_count": null,
   "metadata": {
    "collapsed": true
   },
   "outputs": [],
   "source": [
    "lon_start = -150.\n",
    "lon_end   =   50.\n",
    "lat_start =   20.\n",
    "lat_end   =   70.\n",
    "m = Basemap(llcrnrlon=lon_start,\n",
    "            llcrnrlat=lat_start,\n",
    "            urcrnrlon=lon_end,\n",
    "            urcrnrlat=lat_end,\n",
    "            projection='mill', resolution='l')"
   ]
  },
  {
   "cell_type": "markdown",
   "metadata": {},
   "source": [
    "___\n",
    "Now, you load the data and read out the desired variables from a NetCDF file from the ECMWF ERA-Interim data archive. You are loading a file with data from the first two weeks of October 2015."
   ]
  },
  {
   "cell_type": "code",
   "execution_count": null,
   "metadata": {
    "collapsed": false
   },
   "outputs": [],
   "source": [
    "nc_file = nc.Dataset(\"data/test.nc\", \"r\")\n",
    "lat = nc_file.variables[\"latitude\"][:]\n",
    "lon = nc_file.variables[\"longitude\"][:]\n",
    "p = nc_file.variables[\"level\"][:]*100  # Conversion of pressure to Pa.\n",
    "\n",
    "t = 0 # We only load the first time index from the data.\n",
    "time = nc_file.variables[\"time\"][0]\n",
    "\n",
    "# With the code below, we roll the map, to get the 0 meridian,\n",
    "# rather than the Pacific in the middle.\n",
    "nroll = lon.size//2\n",
    "lon = np.roll(lon, nroll)\n",
    "lon = np.where(lon>=180., lon-360., lon)\n",
    "\n",
    "# We load 3D fields of the two horizontal wind components, the geopotential and the temperature.\n",
    "u = np.roll(nc_file.variables[\"u\"][t,:,:,:], nroll, -1)\n",
    "v = np.roll(nc_file.variables[\"v\"][t,:,:,:], nroll, -1)\n",
    "z = np.roll(nc_file.variables[\"z\"][t,:,:,:], nroll, -1)\n",
    "T = np.roll(nc_file.variables[\"t\"][t,:,:,:], nroll, -1)\n",
    "\n",
    "nc_file.close() # The file access is closed as no further data is needed now.\n",
    "\n",
    "# We create two-dimensional grids for lons and lats in degrees and radians. These arrays\n",
    "# are used for plotting and computation.\n",
    "lons, lats = m(*np.meshgrid(lon, lat))\n",
    "lonrad, latrad = np.meshgrid(np.pi/180.*lon, np.pi/180.*lat)"
   ]
  },
  {
   "cell_type": "markdown",
   "metadata": {},
   "source": [
    "This is it. With the actions below, you have done everything to be able to work with ECMWF ERA-Interim weather data.\n",
    "___"
   ]
  },
  {
   "cell_type": "markdown",
   "metadata": {},
   "source": [
    "### Working with numpy\n",
    "Before plotting the data, we have a quick look at the shape of the loaded data. Our 3D fields have three dimensions: `height`, `lat` and `lon` from which we can select the desired fields. Pressure is the height coordinate of our data. Below we show some simple examples."
   ]
  },
  {
   "cell_type": "code",
   "execution_count": null,
   "metadata": {
    "collapsed": false
   },
   "outputs": [],
   "source": [
    "print(z.shape)     # We have 37 height levels, 241 latitudes and 480 longitudes.\n",
    "print(p[0])        # Our lowest pressure level is 1000 hPa.\n",
    "print(p[6])        # At level 6 we find 850 hPa.\n",
    "z_850 = z[6,:,:]   # We create a new variable that contains only the geopotential height at 850 hPa.\n",
    "print(z_850.shape) # The new data has only two dimensions, lat and lon.\n",
    "\n",
    "# We can also write formatted output to the screen.\n",
    "print(\"The standard deviation is {0}\".format(z_850.std())) # We can format the output.\n",
    "print(\"The mean, max and min are {0}, {1}, {2}\".format(z_850.mean(), z_850.min(), z_850.max()))"
   ]
  },
  {
   "cell_type": "markdown",
   "metadata": {},
   "source": [
    "___\n",
    "### Plotting data\n",
    "We are now going to plot the temperature and geopotential at 500 hPa. Note that our units are SI."
   ]
  },
  {
   "cell_type": "code",
   "execution_count": null,
   "metadata": {
    "collapsed": false,
    "scrolled": true
   },
   "outputs": [],
   "source": [
    "p_plot = 50000.            # Choose the height in pressure level at which you want to plot.\n",
    "n = abs(p-p_plot).argmin() # This is a trick to find the index closest to the desired value.\n",
    "\n",
    "m.pcolormesh(lons, lats, T[n,:,:], cmap=pl.cm.gist_ncar)        # We plot a colormesh using the gist_ncar colormap.\n",
    "m.colorbar()                                                    # We add a colorbar to show the values of temperature.\n",
    "m.contour(lons, lats, z[n,:,:], 15, colors='w', linewidths=1.5) # We plot the geopotential in contours.\n",
    "m.drawcoastlines(color='#222222') # We add coastlines.\n",
    "# Draw parallels.\n",
    "parallels = np.arange(0.,90,30.)\n",
    "m.drawparallels(parallels,labels=[1,0,0,0])\n",
    "# Draw meridians.\n",
    "meridians = np.arange(0.,360.,60.)\n",
    "m.drawmeridians(meridians,labels=[0,0,0,1])\n",
    "pl.title('T and Z at p = {0}'.format(p[n])); # We add a title to the plot. \n",
    "pl.tight_layout() # With this function we make the figure fit as good as possible."
   ]
  },
  {
   "cell_type": "markdown",
   "metadata": {},
   "source": [
    "___\n",
    "### Manipulating data\n",
    "In Python, the underlying language of the notebooks, it is very easy to do manipulations on the data. Below, we calculate the 3D field of total wind speed and plot it. Again, we plot the data on the previously defined index of the 500 hPa level `n`. We calculate the total wind speed $U$ as\n",
    "$$ U = \\sqrt{u^2 + v^2} $$\n",
    "\n",
    "The equation above has been rendered using $\\LaTeX$, which is very useful for typesetting equations."
   ]
  },
  {
   "cell_type": "code",
   "execution_count": null,
   "metadata": {
    "collapsed": false
   },
   "outputs": [],
   "source": [
    "U = (u**2 + v**2)**.5\n",
    "\n",
    "m.pcolormesh(lons, lats, U[n,:,:], cmap=pl.cm.gist_ncar)\n",
    "m.colorbar()\n",
    "m.contour(lons, lats, z[n,:,:], 15, colors='w', linewidths=1.5)\n",
    "m.drawcoastlines(color='#222222')\n",
    "# draw parallels.\n",
    "parallels = np.arange(0.,90,30.)\n",
    "m.drawparallels(parallels,labels=[1,0,0,0])\n",
    "# draw meridians\n",
    "meridians = np.arange(0.,360.,60.)\n",
    "m.drawmeridians(meridians,labels=[0,0,0,1])\n",
    "pl.title('U at p = {0}'.format(p[n]));\n",
    "pl.tight_layout()"
   ]
  },
  {
   "cell_type": "markdown",
   "metadata": {},
   "source": [
    "___\n",
    "With the example below, you can calculate the gradient of the geopotential in the zonal and meridional direction. This is a tricky example, and needs to be studied with care. In spherical coordinates, the two components of the gradient of the geopotential $\\nabla\\Phi$ are\n",
    "\n",
    "$$\n",
    "\\dfrac{\\partial z}{\\partial x} = \\dfrac{1}{a \\cos \\phi} \\dfrac{\\partial z}{\\partial \\lambda},\\\\\n",
    "\\dfrac{\\partial z}{\\partial y} = \\dfrac{1}{a} \\dfrac{\\partial z}{\\partial \\phi},\n",
    "$$\n",
    "\n",
    "where $a$ is the radius of the earth, $\\phi$ the latitude and $\\lambda$ the longitude.\n",
    "With `numpy`, these terms can be computed using the `np.gradient` function."
   ]
  },
  {
   "cell_type": "code",
   "execution_count": null,
   "metadata": {
    "collapsed": false
   },
   "outputs": [],
   "source": [
    "r_earth = 6.37e6 # Here, we define the radius of the earth.\n",
    "\n",
    "# Two arrays of zeros are initialized with the same shape as that of Z.\n",
    "dzdx = np.zeros(z.shape)\n",
    "dzdy = np.zeros(z.shape)\n",
    "\n",
    "# We initialize an array with the cosine of the latitude.\n",
    "cos_lat = np.cos(latrad)\n",
    "\n",
    "# Below, we calculate the two partial derivatives defined in the equations above. Note that axis\n",
    "# indicates the direction over which the gradient is computed. We create a loop here over the \n",
    "for k in range(p.size):\n",
    "    dzdx[k,:,:] = 1./(r_earth*cos_lat) * np.gradient(z[k,:,:], axis=1) / np.gradient(lonrad, axis=1)\n",
    "\n",
    "for k in range(p.size):\n",
    "    dzdy[k,:,:] = (1./r_earth) * np.gradient(z[k,:,:], axis=0) / np.gradient(latrad, axis=0)"
   ]
  },
  {
   "cell_type": "code",
   "execution_count": null,
   "metadata": {
    "collapsed": false
   },
   "outputs": [],
   "source": [
    "m.pcolormesh(lons, lats, dzdy[n,:,:], cmap=pl.cm.gist_ncar)\n",
    "m.colorbar()\n",
    "m.contour(lons, lats, z[n,:,:], 15, colors='w', linewidths=1.5)\n",
    "m.drawcoastlines(color='#222222')\n",
    "# draw parallels.\n",
    "parallels = np.arange(0.,90,30.)\n",
    "m.drawparallels(parallels,labels=[1,0,0,0])\n",
    "# draw meridians\n",
    "meridians = np.arange(0.,360.,60.)\n",
    "m.drawmeridians(meridians,labels=[0,0,0,1])\n",
    "pl.title('dzdy at p = {0}'.format(p[n]));\n",
    "pl.tight_layout()"
   ]
  },
  {
   "cell_type": "markdown",
   "metadata": {},
   "source": [
    "___\n",
    "End of tutorial.\n",
    "___"
   ]
  }
 ],
 "metadata": {
  "kernelspec": {
   "display_name": "Python 3",
   "language": "python",
   "name": "python3"
  },
  "language_info": {
   "codemirror_mode": {
    "name": "ipython",
    "version": 3
   },
   "file_extension": ".py",
   "mimetype": "text/x-python",
   "name": "python",
   "nbconvert_exporter": "python",
   "pygments_lexer": "ipython3",
   "version": "3.5.2"
  }
 },
 "nbformat": 4,
 "nbformat_minor": 0
}
