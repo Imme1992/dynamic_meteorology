{
 "cells": [
  {
   "cell_type": "markdown",
   "metadata": {},
   "source": [
    "The weather is chaotic and perturbations of the fluid are happening in the atmosphere all the time. These perturbations can lead to instabilities. The most important instabilities in meteorology are related to wave propagation. An example of such a wave perturbation is shown with the Rossby adjustment problem in the shallow water practical.\n",
    "\n",
    "# 1. Mid-latitudes\n",
    "\n",
    "The primary energy source for synoptic-scale disturbances in the mid-latitudes is related to the latitudinal temperature gradient.  \n",
    "\n",
    "Baroclinic instability, jet stream, storm track\n",
    "\n",
    "Show jet streams with wind profiles at certain height\n",
    "Show storm tracks with \n",
    "\n",
    "\n",
    "# 2. Tropics\n",
    "\n",
    "In the tropics, the latitudinal temperature gradient is rather small, and therefore the storage of available energy is small. \n",
    "\n",
    "Hadley cells, trade winds, ITCZ\n"
   ]
  },
  {
   "cell_type": "markdown",
   "metadata": {
    "collapsed": false
   },
   "source": []
  }
 ],
 "metadata": {
  "anaconda-cloud": {},
  "kernelspec": {
   "display_name": "Python [Root]",
   "language": "python",
   "name": "Python [Root]"
  },
  "language_info": {
   "codemirror_mode": {
    "name": "ipython",
    "version": 2
   },
   "file_extension": ".py",
   "mimetype": "text/x-python",
   "name": "python",
   "nbconvert_exporter": "python",
   "pygments_lexer": "ipython2",
   "version": "2.7.12"
  }
 },
 "nbformat": 4,
 "nbformat_minor": 0
}
