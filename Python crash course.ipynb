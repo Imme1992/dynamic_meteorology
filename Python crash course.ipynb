{
 "cells": [
  {
   "cell_type": "markdown",
   "metadata": {},
   "source": [
    "# Practical week 1 - Crash course\n",
    "\n",
    "MAQ - 32806, Imme Benedict, 2016\n",
    "\n",
    "This tutorial provides a crash course related to ipython notebooks and the python language itself, which we will both use during this course of Atmospheric Dynamics."
   ]
  },
  {
   "cell_type": "markdown",
   "metadata": {},
   "source": [
    "# 1. iPython Notebook\n",
    "\n",
    "Python notebook is an interactive computational environment, in which you can combine code execution, text, \n",
    "mathematics and plots. \n",
    "\n",
    "By using cells, different cells can be assigned as either text or code. \n",
    "This cell is assigned to text as is indicated by the markdown option above.\n",
    "\n",
    "If you want to include a formula in the text you can do so by using the latex way of writing an equation, for example:\n",
    "    $$ \\dfrac{v}{t} = 0 $$\n",
    "\n",
    "To write Python code we have to start a new cell which we assign to code:"
   ]
  },
  {
   "cell_type": "code",
   "execution_count": null,
   "metadata": {
    "collapsed": false
   },
   "outputs": [],
   "source": [
    "# This cell is assigned to Code\n",
    "\n",
    "a = 5\n",
    "b = 6\n",
    "c = a + b\n",
    "print c"
   ]
  },
  {
   "cell_type": "markdown",
   "metadata": {},
   "source": [
    "# 2. Python coding\n",
    "\n",
    "In this tutorial you learn how to read in a netcdf file and plot certain variables from this file."
   ]
  },
  {
   "cell_type": "code",
   "execution_count": null,
   "metadata": {
    "collapsed": true
   },
   "outputs": [],
   "source": [
    "# now we can start with python coding\n",
    "# python is based on different packages which we upload first\n",
    "\n",
    "import numpy as np              # Numpy is the fundamental package for scientific computing in Python.\n",
    "import netCDF4 as nc            # NetCDF is the data format of the meteorological data that we use.\n",
    "import matplotlib.pyplot as pl  # Matplotlib is a scientific plotting package.\n",
    "from mpl_toolkits.basemap import Basemap # Import the map plotting interface."
   ]
  },
  {
   "cell_type": "markdown",
   "metadata": {},
   "source": [
    "During this course we will study the dynamics by analysing data from a re-analysis dataset. Re-analysis  is a climate or weather model simulation of the past that includes data assimilation of historical observations. \n",
    "The dataset used here is called Era-Interim and is produced at the European Centre for Medium Range Forecasting. It is freely available, and provided in netcdf format, which is a common format in climate science. \n",
    "\n",
    "We have provided a dataset from ERA-Interim from one particular day. \n",
    "You can read in a dataset in python in the following way:    "
   ]
  },
  {
   "cell_type": "code",
   "execution_count": null,
   "metadata": {
    "collapsed": false
   },
   "outputs": [],
   "source": [
    "nc_file = nc.Dataset(\"data/test.nc\", \"r\")  # read in netcdf file\n",
    "lat = nc_file.variables[\"latitude\"][:]     # upload latitude \n",
    "lon = nc_file.variables[\"longitude\"][:]    # upload longitude \n",
    "p = nc_file.variables[\"level\"][:]*100      # upload level (in mbars = hPa) *100 to transform it into Pa\n",
    "Temp = nc_file.variables[\"t\"][:,:,:,:]     # upload variable temperature [time, level, latitude, longitude] \n",
    "\n",
    "nc_file.close() # close the file"
   ]
  },
  {
   "cell_type": "markdown",
   "metadata": {},
   "source": [
    "After reading in the different variables we can start to have a look at the data.\n",
    "\n",
    "a) Find out the domain of the data and how many different levels are present in the dataset."
   ]
  },
  {
   "cell_type": "markdown",
   "metadata": {},
   "source": [
    "A good way to have a look at your data is to plot it. The re-analysis data is presented in the netcdf file with a longitude from 0 to 360 degrees. As we are interested in Europe we want the data to be in the format with a longitude from -180 to 180 degrees. "
   ]
  },
  {
   "cell_type": "code",
   "execution_count": null,
   "metadata": {
    "collapsed": false
   },
   "outputs": [],
   "source": [
    "# The statement below enforces the plots to be put into this notebook, instead of in their own windows.\n",
    "%pylab inline\n",
    "pl.rcParams.update({'font.size': 12})          # Set the standard font size of the plots to 11pt.\n",
    "pl.rcParams.update({'figure.figsize': [13,6]}) # Set the standard figure size.\n",
    "\n",
    "t = -1                                        \n",
    "p_plot = 50000.                                # the pressure level which we want to plot\n",
    "n = abs(p-p_plot).argmin()                     \n",
    "# normalize the pressure levels and find the location of the p_plot value in the list of pressure levels\n",
    "\n",
    "nroll = lon.size//2\n",
    "lon = np.roll(lon, nroll)                      # np.roll: roll array elements along a given axis. \n",
    "lon = np.where(lon>=180., lon-360., lon)       # change longitude to -180 to 180 degrees\n",
    "\n",
    "T = np.roll(Temp[t,:,:,:], nroll, -1)          # numpy.roll(a, shift, axis=None)"
   ]
  },
  {
   "cell_type": "code",
   "execution_count": null,
   "metadata": {
    "collapsed": false
   },
   "outputs": [],
   "source": [
    "m = Basemap(llcrnrlon=-180, llcrnrlat=-90, urcrnrlon=180, urcrnrlat=90, projection='mill', resolution='l')\n",
    "#create a basemap with the latitudes, longitudes and projection you want to plot\n",
    "\n",
    "# Convert lat/lon to map coordinates\n",
    "lons, lats = m(*np.meshgrid(lon, lat))         \n",
    "\n",
    "# plot the variable T with a colorbar\n",
    "m.pcolormesh(lons, lats, T[n,:,:])           \n",
    "m.colorbar()                        \n",
    "\n",
    "# Draw coastlines\n",
    "m.drawcoastlines(color='#222222')\n",
    "\n",
    "# Draw parallels and meridians.\n",
    "m.drawparallels(np.arange(-90.,90.,30.),labels=[1,0,0,0])\n",
    "m.drawmeridians(np.arange(0.,360.,60.),labels=[0,0,0,1])\n",
    "\n",
    "pl.title('T at p = {0}'.format(p[n]));         # plot title\n",
    "pl.tight_layout()"
   ]
  },
  {
   "cell_type": "markdown",
   "metadata": {},
   "source": [
    "b) Create a map only over Europe by changing the code\n",
    "\n",
    "c) Plot temperature at the surface"
   ]
  },
  {
   "cell_type": "markdown",
   "metadata": {},
   "source": [
    "We have now looked at temperature over a horizontal domain. But we can also plot temperature in the vertical."
   ]
  },
  {
   "cell_type": "code",
   "execution_count": null,
   "metadata": {
    "collapsed": false
   },
   "outputs": [],
   "source": [
    "# take vertical slice of temperature (at Cabauw 51.9653° N, 4.8979° E )\n",
    "lon_plot = 4.8979                           \n",
    "lat_plot = 51.9653\n",
    "lon_n = abs(lon-lon_plot).argmin()     \n",
    "lat_n = abs(lat-lat_plot).argmin()\n",
    "\n",
    "# plot figure\n",
    "pl.figure()\n",
    "plot(T[:,lat_n, lon_n],p, 'b', label= 'Cabauw')\n",
    "pl.xlabel('Temperature [K]')                    # Assign title to x-axis\n",
    "pl.ylabel('height [Pa]')                        # Assign title to y-axis\n",
    "# invert yaxis as pressure coordinates go from high to low\n",
    "pl.gca().invert_yaxis()   \n",
    "leg1 = legend(loc=1,ncol=1)                     # include legend"
   ]
  },
  {
   "cell_type": "markdown",
   "metadata": {},
   "source": [
    "d) Include a vertical profile of a different location in the same plot"
   ]
  },
  {
   "cell_type": "markdown",
   "metadata": {},
   "source": [
    "To asses and bewerk your data often loops are used to assign each element is a list. Here we show an example of a loop in python: We want to calculate the gradient in temperature between the different grid points."
   ]
  },
  {
   "cell_type": "code",
   "execution_count": null,
   "metadata": {
    "collapsed": false
   },
   "outputs": [],
   "source": [
    "T_gradient_lon = np.zeros(T[n,:,:].shape)\n",
    "for i in range(1,lon.size): # T [level, latitude, longitude]\n",
    "    T_gradient_lon[:,i] =  T[n,:,i] - T[n,:,i-1]\n",
    "    \n",
    "T_gradient_lat = np.zeros(T[n,:,:].shape)\n",
    "for j in range(lat.size):\n",
    "    T_gradient_lat[j,] = T[n,j,:] - T[n,j-1,:]"
   ]
  },
  {
   "cell_type": "markdown",
   "metadata": {},
   "source": [
    "Now we have calculated the gradient of the temperature in both the x and the y direction. \n",
    "Python also has an automatic function for this called np.gradient. \n",
    "np.diff : Calculate the n-th discrete difference along given axis"
   ]
  },
  {
   "cell_type": "markdown",
   "metadata": {
    "collapsed": false
   },
   "source": [
    "`T_gradient_lat1 = np.diff(T[n,:,:], axis=0)`\n",
    "T_gradient_lon1 = np.diff(T[n,:,:], axis=1)"
   ]
  },
  {
   "cell_type": "markdown",
   "metadata": {},
   "source": [
    "e) Check if both methods have produces the same output.\n",
    "\n",
    "f) Python also provides the function np.gradient. Find out what happens when you apply this function."
   ]
  }
 ],
 "metadata": {
  "anaconda-cloud": {},
  "kernelspec": {
   "display_name": "Python [Root]",
   "language": "python",
   "name": "Python [Root]"
  },
  "language_info": {
   "codemirror_mode": {
    "name": "ipython",
    "version": 2
   },
   "file_extension": ".py",
   "mimetype": "text/x-python",
   "name": "python",
   "nbconvert_exporter": "python",
   "pygments_lexer": "ipython2",
   "version": "2.7.12"
  }
 },
 "nbformat": 4,
 "nbformat_minor": 0
}
