{
 "cells": [
  {
   "cell_type": "markdown",
   "metadata": {},
   "source": [
    "# Using shallow water equations to understand large-scale dynamics\n",
    "### MAQ - 32806, Chiel van Heerwaarden, 2016\n",
    "In this tutorial you will use the previously derived shallow water equations to solve the famous Rossby adjustment problem in which a perturbation is added to a layer of fluid."
   ]
  },
  {
   "cell_type": "code",
   "execution_count": null,
   "metadata": {
    "collapsed": false
   },
   "outputs": [],
   "source": [
    "%matplotlib inline\n",
    "import numpy as np\n",
    "import matplotlib.pyplot as pl\n",
    "from matplotlib import animation\n",
    "from IPython.display import HTML\n",
    "figsize_s = 6,4\n",
    "figsize_l = 10,4"
   ]
  },
  {
   "cell_type": "code",
   "execution_count": null,
   "metadata": {
    "collapsed": false
   },
   "outputs": [],
   "source": [
    "f_multiplier = 1.\n",
    "lat = 52.\n",
    "f = f_multiplier * 2.*7.29e-5*np.sin(np.pi/180.*lat)\n",
    "g = 9.81\n",
    "L = 6.371e6 * (2.*np.pi) * np.cos(np.pi/180.*lat)\n",
    "L_dist = 1.e6 # Disturbance size.\n",
    "h_ref = 200.\n",
    "h_prime = 0.1"
   ]
  },
  {
   "cell_type": "code",
   "execution_count": null,
   "metadata": {
    "collapsed": false
   },
   "outputs": [],
   "source": [
    "nx = 1501\n",
    "x = np.linspace(-L/2., L/2., nx)\n",
    "dx = x[1]-x[0]\n",
    "u0 = np.zeros(nx)\n",
    "v0 = np.zeros(nx)\n",
    "\n",
    "# Smooth step function.\n",
    "# h0 = np.copy(x)\n",
    "# h_sigma = 20.*dx\n",
    "# for i in range(nx):\n",
    "#    h0[i] = h_ref - h_prime*np.math.erf(h0[i]/(20*dx))\n",
    "\n",
    "# Gaussian\n",
    "x_sigma = L_dist/6.\n",
    "h0 = np.exp(-x**2/(2.*x_sigma**2))\n",
    "h0 = h_ref - h_prime*h0/np.max(h0)\n",
    "\n",
    "# Mexican hat (Ricker wavelet).\n",
    "# h_sigma = 25.*dx # The wavelet is approximately 8 h_sigma in total width.\n",
    "# h_width = 2./((3.*h_sigma)**.5*np.pi**.25)\n",
    "# h0 = 2./((3.*h_sigma)**.5*np.pi**.25) * (1. - x**2/h_sigma**2) * np.exp(-x**2/(2.*h_sigma**2))\n",
    "# h0 = h_ref + h_prime*h0/np.max(h0)\n",
    "\n",
    "# Just a check that the disturbance is well enough resolved.\n",
    "pl.figure(figsize=figsize_s)\n",
    "pl.plot(x/x_sigma, h0 - h_ref, 'bo-')\n",
    "pl.xlim(-5, 5)\n",
    "pl.xlabel('x / x_sigma')\n",
    "pl.ylabel('h - h_ref');\n",
    "pl.tight_layout()"
   ]
  },
  {
   "cell_type": "code",
   "execution_count": null,
   "metadata": {
    "code_folding": [],
    "collapsed": false
   },
   "outputs": [],
   "source": [
    "try:\n",
    "    Lr = (g*h_ref)**.5 / f\n",
    "except ZeroDivisionError:\n",
    "    Lr = np.infty\n",
    "finally:\n",
    "    print(\"Circumference of Earth at latitude = {0:.1f} km\".format(L/1.e3))\n",
    "    print(\"Rossby radius of deformation = {0:.1f} km\".format(Lr/1.e3))\n",
    "    print(\"Size of disturbance = {0:.1f} km\".format(L_dist/1.e3))\n",
    "    print(\"Lr / L = {0}\".format(Lr/L))\n",
    "    print(\"Lr / x_sigma = {0}\".format(Lr/x_sigma))\n",
    "\n",
    "i_start, i_end = nx//2 - 6*(np.int(Lr/dx)+1), nx//2 + 6*(np.int(Lr/dx)+1)"
   ]
  },
  {
   "cell_type": "code",
   "execution_count": null,
   "metadata": {
    "code_folding": [],
    "collapsed": false
   },
   "outputs": [],
   "source": [
    "u = np.copy(u0)\n",
    "v = np.copy(v0)\n",
    "h = np.copy(h0)\n",
    "\n",
    "nt = 50000\n",
    "ni = 500\n",
    "dt = 10.\n",
    "\n",
    "u_out = np.zeros((nt//ni+1, nx))\n",
    "v_out = np.zeros((nt//ni+1, nx))\n",
    "h_out = np.zeros((nt//ni+1, nx))\n",
    "u_out[0,:], v_out[0,:], h_out[0,:] = u0, v0, h0\n",
    "\n",
    "for n in range(1,nt+1):\n",
    "    u += dt * (  f*v - g*np.gradient(h,dx) )\n",
    "    v += dt * ( -f*u )\n",
    "    h += dt * ( -h_ref*np.gradient(u,dx) )\n",
    "    \n",
    "    if (n%ni == 0):\n",
    "        u_out[n//ni,:] = u[:]\n",
    "        v_out[n//ni,:] = v[:]\n",
    "        h_out[n//ni,:] = h[:]"
   ]
  },
  {
   "cell_type": "code",
   "execution_count": null,
   "metadata": {
    "collapsed": false
   },
   "outputs": [],
   "source": [
    "pl.figure(figsize=figsize_l)\n",
    "pl.subplot(121)\n",
    "pl.plot(x/Lr, h , 'b-')\n",
    "pl.plot(x/Lr, h0, 'b:')\n",
    "pl.xlabel('x/Lr')\n",
    "pl.ylabel('h')\n",
    "pl.xlim(-8, 8)\n",
    "pl.subplot(122)\n",
    "pl.plot(x/Lr, u, 'b-', label='u')\n",
    "pl.plot(x/Lr, v, 'r-', label='v')\n",
    "pl.ylabel('u,v')\n",
    "pl.xlim(-8, 8)\n",
    "pl.legend(loc=0, frameon=False);\n",
    "pl.tight_layout()"
   ]
  },
  {
   "cell_type": "code",
   "execution_count": null,
   "metadata": {
    "collapsed": false
   },
   "outputs": [],
   "source": [
    "q0 = f/h0\n",
    "q  = (np.gradient(v,dx) + f) / h\n",
    "pl.figure(figsize=figsize_s)\n",
    "pl.plot(x/Lr, q , label='q_end  ')\n",
    "pl.plot(x/Lr, q0, label='q_start')\n",
    "pl.xlabel('x')\n",
    "pl.ylabel('q')\n",
    "pl.xlim(-8, 8)\n",
    "pl.legend(loc=0, frameon=False);\n",
    "pl.tight_layout()"
   ]
  },
  {
   "cell_type": "code",
   "execution_count": null,
   "metadata": {
    "collapsed": false,
    "scrolled": false
   },
   "outputs": [],
   "source": [
    "# First set up the figure, the axis, and the plot element we want to animate\n",
    "fig, ax = pl.subplots(figsize=figsize_l)\n",
    "xmin, xmax = min(x), max(x)\n",
    "hmin, hmax = np.min(h_out), np.max(h_out)\n",
    "hmin -= 0.05*(hmax-hmin)\n",
    "hmax += 0.05*(hmax-hmin)\n",
    "ax.set_xlim(xmin, xmax)\n",
    "ax.set_ylim(hmin, hmax)\n",
    "ax.set_xlabel('x')\n",
    "ax.set_ylabel('h')\n",
    "ax.plot(x, h_out[0,:], 'b:')\n",
    "line, = ax.plot([], [], lw=2)\n",
    "fig.tight_layout()"
   ]
  },
  {
   "cell_type": "code",
   "execution_count": null,
   "metadata": {
    "collapsed": false
   },
   "outputs": [],
   "source": [
    "# initialization function: plot the background of each frame\n",
    "def init():\n",
    "    line.set_data([], [])\n",
    "    return (line,)\n",
    "\n",
    "def animate(i):\n",
    "    line.set_data(x, h_out[i,:])\n",
    "    return (line,)\n",
    "\n",
    "# call the animator.  blit=True means only re-draw the parts that have changed.\n",
    "anim = animation.FuncAnimation(fig, animate, init_func=init,\n",
    "                               frames=h_out.shape[0], interval=40, blit=True)\n",
    "\n",
    "# call our new function to display the animation\n",
    "HTML(anim.to_html5_video())"
   ]
  },
  {
   "cell_type": "code",
   "execution_count": null,
   "metadata": {
    "collapsed": false
   },
   "outputs": [],
   "source": [
    "print(\"Summing from x/Lr = ({0}, {1})\".format(x[i_start]/Lr, x[i_end]/Lr))\n",
    "print(\"A fraction {0} of the potential energy is retained near the disturbance.\"\\\n",
    "    .format(sum((h_out[-1,i_start:i_end]-h_ref)**2)/sum((h_out[0,i_start:i_end]-h_ref)**2)))\n",
    "print(\"A fraction {0} of the initial height is retained.\"\\\n",
    "    .format( (h_out[-1,nx//2]-h_ref) / (h_out[0,nx//2]-h_ref) ))\n",
    "    \n",
    "pl.plot(x[i_start:i_end]/Lr, h_out[-1,i_start:i_end]-h_ref, lw=2)\n",
    "pl.plot(x[i_start:i_end]/Lr, h_out[ 0,i_start:i_end]-h_ref, 'b--')\n",
    "pl.xlim(x[i_start]/Lr, x[i_end]/Lr)\n",
    "pl.xlabel('x/Lr')\n",
    "pl.ylabel('h-h_ref')\n",
    "pl.tight_layout();"
   ]
  },
  {
   "cell_type": "markdown",
   "metadata": {},
   "source": [
    "In the previous tutorial, you have derived the potential vorticity. As you have discovered that the material derivative is conserved, the final solution can be found from the initial conditions, without solving the time varying equations. This can be done by matrix inversion.\n",
    "\n",
    "In the steady state, we have\n",
    "$$\n",
    "0 = fv - g \\dfrac{\\partial h}{\\partial x}\\\\\n",
    "0 = -fu\\\\\n",
    "0 = -H \\dfrac{\\partial u}{\\partial x}\n",
    "$$\n",
    "and we know that potential vorticity has not changed:\n",
    "$$\n",
    "q = q_0\n",
    "$$\n",
    "___\n",
    "* Derive an equation that relates $h$ to the initial potential vorticity $q_0$. This is a differential equation, you do not have to solve it.\n",
    "___"
   ]
  },
  {
   "cell_type": "code",
   "execution_count": null,
   "metadata": {
    "code_folding": [],
    "collapsed": false
   },
   "outputs": [],
   "source": [
    "class steady_state:\n",
    "    def __init__(self, f):\n",
    "        q0 = f/h0\n",
    "        c1 = g/(f*dx**2)\n",
    "    \n",
    "        # Matrix solver\n",
    "        M = np.zeros((nx, nx))\n",
    "    \n",
    "        for i in range(1,nx-1):\n",
    "            M[i,i-1] = c1\n",
    "            M[i,i  ] = -(2.*c1 + q0[i])\n",
    "            M[i,i+1] = c1\n",
    "\n",
    "        M[ 0, 0] = 1.\n",
    "        M[-1,-1] = 1.\n",
    "\n",
    "        h_mat = -1.*np.ones(nx)*f\n",
    "        h_mat[ 0] = h_ref\n",
    "        h_mat[-1] = h_ref\n",
    "\n",
    "        self.h = np.linalg.inv(M).dot(h_mat)\n",
    "        self.v = g/f*np.gradient(self.h, dx)\n",
    "        \n",
    "        self.Lr = (g*h_ref)**.5/f\n",
    "        \n",
    "sol = steady_state(f)\n",
    "\n",
    "# Plot solutions.    \n",
    "pl.figure(figsize=figsize_l)\n",
    "pl.subplot(121)\n",
    "pl.plot(x/Lr, h_out[ 0,:], 'k:', label='initial')\n",
    "pl.plot(x/Lr, sol.h, 'y-', lw=2, label='analytical')\n",
    "pl.plot(x/Lr, h_out[-1,:], 'k--', lw=2, label='simulation')\n",
    "pl.xlim(-20, 20)\n",
    "pl.xlabel('x/Lr')\n",
    "pl.ylabel('h')\n",
    "pl.legend(loc=0, frameon=False)\n",
    "pl.subplot(122)\n",
    "pl.plot(x/Lr, v_out[ 0,:], 'k:', label='initial')\n",
    "pl.plot(x/Lr, sol.v, 'y-', lw=2, label='analytical')\n",
    "pl.plot(x/Lr, v_out[-1,:], 'k--', lw=2, label='simulation')\n",
    "pl.xlim(-20, 20)\n",
    "pl.xlabel('x/Lr')\n",
    "pl.ylabel('v')\n",
    "pl.legend(loc=0, frameon=False)\n",
    "pl.tight_layout()"
   ]
  },
  {
   "cell_type": "code",
   "execution_count": null,
   "metadata": {
    "collapsed": false
   },
   "outputs": [],
   "source": [
    "f_half = 0.5*f\n",
    "f_double = 2.*f\n",
    "\n",
    "sol_ref = steady_state(f)\n",
    "sol_half = steady_state(f_half)\n",
    "sol_double = steady_state(f_double)\n",
    "\n",
    "pl.figure(figsize=figsize_l)\n",
    "pl.subplot(121)\n",
    "pl.plot(x, sol_ref.h    - h_ref, 'b-')\n",
    "pl.plot(x, sol_half.h   - h_ref, 'r-')\n",
    "pl.plot(x, sol_double.h - h_ref, 'g-')\n",
    "pl.plot(x, h0 - h_ref, 'k:')\n",
    "pl.xlabel('x')\n",
    "pl.ylabel('h')\n",
    "pl.xlim(-30*x_sigma, 30*x_sigma)\n",
    "pl.subplot(122)\n",
    "pl.plot(x, sol_ref.v   , 'b-', label='ref'   )\n",
    "pl.plot(x, sol_half.v  , 'r-', label='half'  )\n",
    "pl.plot(x, sol_double.v, 'g-', label='double')\n",
    "pl.xlabel('x')\n",
    "pl.ylabel('v')\n",
    "pl.xlim(-30*x_sigma, 30*x_sigma)\n",
    "pl.legend(loc=0, frameon=False);\n",
    "pl.tight_layout()"
   ]
  },
  {
   "cell_type": "code",
   "execution_count": null,
   "metadata": {
    "collapsed": false
   },
   "outputs": [],
   "source": [
    "pl.figure(figsize=figsize_l)\n",
    "pl.subplot(121)\n",
    "pl.plot(x/sol_ref.Lr   , (sol_ref.h    - h_ref)/sol_ref.Lr   , 'b-')\n",
    "pl.plot(x/sol_half.Lr  , (sol_half.h   - h_ref)/sol_half.Lr  , 'r-')\n",
    "pl.plot(x/sol_double.Lr, (sol_double.h - h_ref)/sol_double.Lr, 'g-')\n",
    "pl.xlabel('x/Lr')\n",
    "pl.ylabel('h')\n",
    "pl.xlim(-8, 8)\n",
    "pl.subplot(122)\n",
    "pl.plot(x/sol_ref.Lr   , sol_ref.v   , 'b-', label='ref'   )\n",
    "pl.plot(x/sol_half.Lr  , sol_half.v  , 'r-', label='half'  )\n",
    "pl.plot(x/sol_double.Lr, sol_double.v, 'g-', label='double')\n",
    "pl.xlabel('x/Lr')\n",
    "pl.ylabel('v')\n",
    "pl.xlim(-8, 8)\n",
    "pl.legend(loc=0, frameon=False);\n",
    "pl.tight_layout()"
   ]
  },
  {
   "cell_type": "markdown",
   "metadata": {},
   "source": [
    "___\n",
    "End of tutorial.\n",
    "___"
   ]
  }
 ],
 "metadata": {
  "kernelspec": {
   "display_name": "Python 3",
   "language": "python",
   "name": "python3"
  },
  "language_info": {
   "codemirror_mode": {
    "name": "ipython",
    "version": 3
   },
   "file_extension": ".py",
   "mimetype": "text/x-python",
   "name": "python",
   "nbconvert_exporter": "python",
   "pygments_lexer": "ipython3",
   "version": "3.5.2"
  }
 },
 "nbformat": 4,
 "nbformat_minor": 0
}
