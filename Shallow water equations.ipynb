{
 "cells": [
  {
   "cell_type": "markdown",
   "metadata": {},
   "source": [
    "# Shallow water equations and potential vorticity\n",
    "### MAQ - 32806, Chiel van Heerwaarden and Imme Benedict, 2016\n",
    "The complete set of equations that describe atmospheric motions is too complex to easily derive important characteristics of large-scale atmospheric flow. A much simpler system that carries many of the same properties as the atmospheric flow are the shallow water equations. Carl-Gustav Rossby showed the concept first for ocean currents. Later it turned out that this set of equations is a very good predictor for the evolution of the 500 hPa geopotential surface, and therefore can be used to do weather forecasting. Furthermore, he showed that this already simple set of equations can be simplified even more by introducing the concept of potential vorticity.\n",
    "\n",
    "The shallow water equations describe the motions of a thin layer of fluid of uniform density. In this tutorial, you will derive the shallow water equations and the potential vorticity."
   ]
  },
  {
   "cell_type": "markdown",
   "metadata": {},
   "source": [
    "### The derivation of the shallow water conservation equations\n",
    "Our starting point is the following set of equations, consisting of three equations for the three velocity components and one for the conservation of mass. Assume that we are on a $\\beta$-plane, thus that $f \\equiv f_0 + \\beta y$.\n",
    "$$\n",
    "\\dfrac{Du}{Dt} = fv - \\dfrac{1}{\\rho_0}\\dfrac{\\partial p}{\\partial x},\\\\\n",
    "\\dfrac{Dv}{Dt} = -fu - \\dfrac{1}{\\rho_0}\\dfrac{\\partial p}{\\partial y},\\\\\n",
    "0 = - \\dfrac{1}{\\rho_0}\\dfrac{\\partial p}{\\partial z} - g,\\\\\n",
    "\\nabla \\cdot \\boldsymbol{U} = 0.\n",
    "$$\n",
    "\n",
    "___\n",
    "* Which simplifications have been applied to the equations of motions that are presented above?\n",
    "* Why is there no thermodynamic equation in this set?\n",
    "* Which of these simplifications would not hold if the depth of the water were not shallow?\n",
    "___"
   ]
  },
  {
   "cell_type": "markdown",
   "metadata": {},
   "source": [
    "Now, you will step-by-step derive the shallow water equations. First, you will derive an equation for $p$ from the conservation equation of the vertical component of velocity $w$. Assume that the surface is located at $z_b(x,y)$, the top at $z_t(x,y,t)$, and that the pressure at the top of the layer is a constant $p_0$.\n",
    "___\n",
    "* Integrate the equation from $z_b$ to $z$ to get an equation $p(x,y,z,t)$. TIP: The pressure at the bottom $p(x,y,z_b,t)$ relates to the total mass on top of it.\n",
    "___"
   ]
  },
  {
   "cell_type": "markdown",
   "metadata": {},
   "source": [
    "With the expression derived above, it is possible to replace pressure $p$ by $z_t$ in the horizontal momentum equations.\n",
    "___\n",
    "* Take the horizontal derivatives of the equation for $p$ and substitute these expressions into the two evolution equations for horizontal velocity.\n",
    "* Write the two evolution equations for horizontal velocity into a single equation in vector form.\n",
    "* How does the horizontal velocity vary with respect to $z$ within the fluid layer? Can you see this in the equation? What is the consequence?\n",
    "___"
   ]
  },
  {
   "cell_type": "markdown",
   "metadata": {},
   "source": [
    "The next challenge is to derive an evolution equation for the depth of the layer $h$, which we define to be $h \\equiv z_t - z_b$. With the help of the conservation of mass you will derive this equation.\n",
    "___\n",
    "* Separate the vertical velocity component in the conservation of mass equation from the two horizontal ones and integrate the equation in the $z$-direction from $z_b$ to $z_t$.\n",
    "* How do the velocities at the bottom $w(x,y,z_b,t)$ and top $w(x,y,z_t,t)$ relate to the rate of change in time $Dz_b/Dt$ and $Dz_t/Dt$?\n",
    "* Replace $z_t - z_b$ by $h$ where possible and write down the final equation.\n",
    "___"
   ]
  },
  {
   "cell_type": "markdown",
   "metadata": {
    "collapsed": true
   },
   "source": [
    "### The derivation of potential vorticity\n",
    "The starting point of this step in the tutorial is the set of three equations derived in the previous exercise\n",
    "\n",
    "$$\n",
    "\\dfrac{Du}{Dt} = fv - g \\dfrac{\\partial z_t}{\\partial x}, \\\\\n",
    "\\dfrac{Dv}{Dt} = -fu - g \\dfrac{\\partial z_t}{\\partial y}, \\\\\n",
    "\\dfrac{Dh}{Dt} = -h \\left( \\dfrac{\\partial u}{\\partial x} + \\dfrac{\\partial v}{\\partial y} \\right).\n",
    "$$\n",
    "\n",
    "In the next step we are going to combine these equations to a single conservation equation: that of potential vorticity. This step, first done by Rossby in 1936, is one of the greatest breakthroughs ever made in large-scale meteorology.\n",
    "\n",
    "To get this equation, you will follow a sequence of steps; first, you will derive a conservation equation for the vertical component of the relative vorticity $\\zeta \\equiv  \\partial v / \\partial x + \\partial u / \\partial y$, then you will rewrite this equation as a conservation equation for the absolute vorticity $\\zeta + f$, and with this equation, you will form the conservation equation for shallow water potential vorticity $q \\equiv (\\zeta + f) / h$\n",
    "\n",
    "___\n",
    "* Derive the conservation equation for the relative vorticity $\\zeta$, by subtracting the horizontal derivatives of the two conservation equations of horizontal velocity from each other. TIP: expand $Du/Dt$ and $Dv/Dt$ before you take the derivative. Group all terms in such a way that the equation can be written in terms of $\\zeta$ and horizontal divergence ($\\partial u / \\partial x + \\partial v / \\partial y$). Remember that we are on a $\\beta$-plane, thus $f = f_0 + \\beta y$.\n",
    "* Rewrite the latter equation into a conservation equation for the absolute vertical vorticity $\\zeta + f$. TIP: include $f$ into the total derivative, and check carefully how $Df/Dt$ relates to $v(\\partial f/\\partial y)$.\n",
    "___"
   ]
  },
  {
   "cell_type": "markdown",
   "metadata": {},
   "source": [
    "If everything has worked out fine, you have ended up with:\n",
    "\n",
    "$$\n",
    "\\dfrac{D \\left( \\zeta + f \\right)}{Dt} + \\left( \\zeta + f \\right) \\left( \\dfrac{\\partial u}{\\partial x} + \\dfrac{\\partial v}{\\partial y}\\right) = 0.\n",
    "$$\n",
    "\n",
    "In the last step, you have to introduce the conservation equation of the layer depth $h$ into the equation.\n",
    "___\n",
    "* Eliminate the divergence term from the conservation equation for absolute vorticity with the help of the conservation equation for $h$.\n",
    "* Combine the two terms of the previous equation into a single time derivative. TIP: remember the quotient rule:\n",
    "\n",
    "$$\\dfrac{D}{Dt}\\left(\\dfrac{a}{b}\\right) = \\dfrac{b \\dfrac{Da}{Dt} - a \\dfrac{Db}{Dt}}{b^2} \n",
    "                                         = \\dfrac{1}{b} \\dfrac{Da}{Dt} - \\dfrac{a}{b^2} \\dfrac{Db}{Dt}.$$\n",
    "___"
   ]
  },
  {
   "cell_type": "markdown",
   "metadata": {},
   "source": [
    "With the last step you have completed the derivation of the conservation for shallow water potential vorticity $q \\equiv \\left( \\zeta + f \\right) / h$:\n",
    "\n",
    "$$\n",
    "\\dfrac{D}{Dt} \\left( \\dfrac{\\zeta + f}{h} \\right) = \\dfrac{Dq}{Dt}= 0.\n",
    "$$\n",
    "\n",
    "This powerful equation shows that the absolute vorticity divided by the layer depth is conserved along the flow. With this accomplishment you have reduced a set of four equations with four unknowns $(u, v, w, p)$ into a single equation. This greatly simplifies the analysis of atmospheric flow."
   ]
  },
  {
   "cell_type": "markdown",
   "metadata": {},
   "source": [
    "___\n",
    "End of tutorial.\n",
    "___"
   ]
  }
 ],
 "metadata": {
  "kernelspec": {
   "display_name": "Python 3",
   "language": "python",
   "name": "python3"
  },
  "language_info": {
   "codemirror_mode": {
    "name": "ipython",
    "version": 3
   },
   "file_extension": ".py",
   "mimetype": "text/x-python",
   "name": "python",
   "nbconvert_exporter": "python",
   "pygments_lexer": "ipython3",
   "version": "3.5.2"
  }
 },
 "nbformat": 4,
 "nbformat_minor": 0
}
