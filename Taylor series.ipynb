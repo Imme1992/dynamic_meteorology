{
 "cells": [
  {
   "cell_type": "markdown",
   "metadata": {},
   "source": [
    "# Taylor series\n",
    "\n",
    "$$\n",
    "f \\left( x + \\delta x, y, z, t \\right) = f \\left( x,y,z,t \\right) \n",
    "    + \\left( \\delta x \\right) \\left. \\dfrac{\\partial f}{\\partial x} \\right|_x\n",
    "    + \\dfrac{ \\left( \\delta x \\right)^2 }{2!} \\left. \\dfrac{\\partial^2 f}{\\partial x^2} \\right|_x\n",
    "    + \\dfrac{ \\left( \\delta x \\right)^3 }{3!} \\left. \\dfrac{\\partial^3 f}{\\partial x^3} \\right|_x + \\cdots\n",
    "$$\n",
    "\n",
    "If $\\delta x$ is an inifinitesimal element $dx$ and the limit $dx \\rightarrow 0$ is taken then\n",
    "$$\n",
    "\\lim_{dx \\rightarrow 0} \\dfrac{f(x + dx, y, z, t) - f(x, y, z, t)}{dx} = \\dfrac{\\partial f}{\\partial x}\n",
    "$$"
   ]
  },
  {
   "cell_type": "markdown",
   "metadata": {},
   "source": [
    "Imagine a box of size $\\delta x \\times \\delta y \\times \\delta z$.\n",
    "\n",
    "$$\n",
    "  \\rho \\left( x, y, z, t + \\delta t \\right) \\delta x\\,\\delta y\\,\\delta z\n",
    "- \\rho \\left( x, y, z, t \\right) \\delta x\\,\\delta y\\,\\delta z \\\\\n",
    "+ \\rho u \\left( x + \\tfrac{1}{2}\\delta x, y, z, t \\right) \\delta y\\,\\delta z\\,\\delta t\n",
    "- \\rho u \\left( x - \\tfrac{1}{2}\\delta x, y, z, t \\right) \\delta y\\,\\delta z\\,\\delta t \\\\\n",
    "+ \\rho v \\left( x, y + \\tfrac{1}{2}\\delta y, z, t \\right) \\delta x\\,\\delta z\\,\\delta t\n",
    "- \\rho v \\left( x, y - \\tfrac{1}{2}\\delta y, z, t \\right) \\delta x\\,\\delta z\\,\\delta t \\\\\n",
    "+ \\rho w \\left( x, y, z + \\tfrac{1}{2}\\delta z,t  \\right) \\delta x\\,\\delta y\\,\\delta t\n",
    "- \\rho w \\left( x, y, z - \\tfrac{1}{2}\\delta z, t \\right) \\delta x\\,\\delta y\\,\\delta t = 0\n",
    "$$\n",
    "\n",
    "* Divide by $\\delta x\\,\\delta y\\,\\delta z\\,\\delta t$\n",
    "* Replace line by line the"
   ]
  },
  {
   "cell_type": "code",
   "execution_count": null,
   "metadata": {
    "collapsed": true
   },
   "outputs": [],
   "source": []
  }
 ],
 "metadata": {
  "kernelspec": {
   "display_name": "Python 2",
   "language": "python",
   "name": "python2"
  },
  "language_info": {
   "codemirror_mode": {
    "name": "ipython",
    "version": 2
   },
   "file_extension": ".py",
   "mimetype": "text/x-python",
   "name": "python",
   "nbconvert_exporter": "python",
   "pygments_lexer": "ipython2",
   "version": "2.7.12"
  }
 },
 "nbformat": 4,
 "nbformat_minor": 0
}
