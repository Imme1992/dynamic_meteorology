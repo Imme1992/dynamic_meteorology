{
 "cells": [
  {
   "cell_type": "markdown",
   "metadata": {},
   "source": [
    "# Vectors\n",
    "In this tutorial we refresh some knowledge on vectors."
   ]
  },
  {
   "cell_type": "markdown",
   "metadata": {},
   "source": [
    "In meteorology and climatology we often work with variables that have four dimensions: $x$, $y$, $z$ and $t$, which represent the variable in the three-dimensional space and in time. These variables can be split into two categories: scalars and vectors. Scalars, such as temperature, humidity and pressure do not have a direction, whereas vectors, such as wind or the temperature gradient do. In this tutorial, we refresh the basics of vectors, their notation and related rules and mathematical operations."
   ]
  },
  {
   "cell_type": "markdown",
   "metadata": {},
   "source": [
    "We express vectors using bold letters: $\\boldsymbol{u}$ is the wind vector. This vector is defined as:\n",
    "\n",
    "$$\\boldsymbol{u} \\equiv \\left( u, v, w\\right).$$\n",
    "\n",
    "Its three components are thus the east-west wind $u$, the north-south wind $v$ and the vertical wind $w$."
   ]
  },
  {
   "cell_type": "code",
   "execution_count": null,
   "metadata": {
    "collapsed": false
   },
   "outputs": [],
   "source": [
    "from ipywidgets import interact # Package ipywidgets contains the features of interactive notebooks.\n",
    "import numpy as np              # Numpy is the fundamental package for scientific computing in Python.\n",
    "import netCDF4 as nc            # NetCDF is the data format of the meteorological data that we use.\n",
    "import matplotlib.pyplot as pl  # Matplotlib is a scientific plotting package.\n",
    "# The statement below enforces the plots to be put into this notebook, instead of in their own windows.\n",
    "%pylab inline\n",
    "pl.rcParams.update({'font.size': 12})          # Set the standard font size of the plots to 11pt.\n",
    "pl.rcParams.update({'figure.figsize': [12,6]}) # Set the standard figure size."
   ]
  },
  {
   "cell_type": "code",
   "execution_count": null,
   "metadata": {
    "collapsed": false
   },
   "outputs": [],
   "source": [
    "nc_file = nc.Dataset(\"dyn_met.nc\", \"r\")\n",
    "lat = nc_file.variables[\"lat\"][:]\n",
    "lon = nc_file.variables[\"lon\"][:]\n",
    "u   = nc_file.variables[\"ua\" ][-1,0,:,:]\n",
    "v   = nc_file.variables[\"va\" ][-1,0,:,:]\n",
    "zg  = nc_file.variables[\"zg\" ][-1,0,:,:]"
   ]
  },
  {
   "cell_type": "markdown",
   "metadata": {},
   "source": [
    "Calculate a scalar $u_{tot}$ that is the magnitude of the wind vector:"
   ]
  },
  {
   "cell_type": "code",
   "execution_count": null,
   "metadata": {
    "collapsed": true
   },
   "outputs": [],
   "source": [
    "# Write the correct Python code below, replace the random numbers with the correct code.\n",
    "# u_tot = np.random.rand(lat.size, lon.size)\n",
    "u_tot = (u**2 + v**2)**.5"
   ]
  },
  {
   "cell_type": "code",
   "execution_count": null,
   "metadata": {
    "collapsed": false
   },
   "outputs": [],
   "source": [
    "pl.contourf(lon, lat, u_tot, 16, cmap=pl.cm.viridis)\n",
    "pl.colorbar()\n",
    "pl.xlim(lon.min(), lon.max())\n",
    "pl.ylim(lat.min(), lat.max())\n",
    "pl.xlabel('lat')\n",
    "pl.ylabel('lon');"
   ]
  },
  {
   "cell_type": "markdown",
   "metadata": {},
   "source": [
    "___"
   ]
  },
  {
   "cell_type": "code",
   "execution_count": null,
   "metadata": {
    "collapsed": false
   },
   "outputs": [],
   "source": [
    "def plot_p_u_vector(lon_min=lon.min(), lon_max=lon.max(), lat_min=lat.min(), lat_max=lat.max()):\n",
    "    pl.contourf(lon, lat, u_tot, 20, cmap=pl.cm.YlOrRd)\n",
    "    pl.colorbar()\n",
    "    pl.streamplot(lon, lat, u, v, density=5, color='k')\n",
    "    pl.xlim(lon_min, lon_max)\n",
    "    pl.ylim(lat_min, lat_max)\n",
    "    pl.xlabel('lon')\n",
    "    pl.ylabel('lat')\n",
    "    pl.savefig('circulation.pdf');\n",
    "\n",
    "interact(plot_p_u_vector, lon_min=(0, 360), lon_max=(0,360), lat_min=(-90, 90), lat_max=(-90, 90), __manual = True);"
   ]
  },
  {
   "cell_type": "markdown",
   "metadata": {},
   "source": [
    "The plot above shows the wind speed:\n",
    "\n",
    "$$ u = 10 $$"
   ]
  },
  {
   "cell_type": "code",
   "execution_count": null,
   "metadata": {
    "collapsed": false
   },
   "outputs": [],
   "source": [
    "step = 2\n",
    "lon_min = 180\n",
    "lon_max = 300\n",
    "lat_min =   0\n",
    "lat_max =  80\n",
    "ilon_min = (abs(lon-lon_min)).argmin()\n",
    "ilon_max = (abs(lon-lon_max)).argmin()\n",
    "ilat_min = (abs(lat-lat_min)).argmin()\n",
    "ilat_max = (abs(lat-lat_max)).argmin()\n",
    "ilat_min, ilat_max = ilat_max, ilat_min\n",
    "\n",
    "pl.contourf(lon[ilon_min:ilon_max+1],\n",
    "            lat[ilat_min:ilat_max+1],\n",
    "            zg[ilat_min:ilat_max+1, ilon_min:ilon_max+1],\n",
    "            20, cmap=pl.cm.viridis)\n",
    "pl.colorbar()\n",
    "\n",
    "pl.streamplot(lon[ilon_min:ilon_max+1],\n",
    "              lat[ilat_min:ilat_max+1],\n",
    "              u[ilat_min:ilat_max+1, ilon_min:ilon_max+1],\n",
    "              v[ilat_min:ilat_max+1, ilon_min:ilon_max+1],\n",
    "              density=4, color='k')\n",
    "\n",
    "#pl.quiver(lon[ilon_min:ilon_max+1:step],\n",
    "#          lat[ilat_min:ilat_max+1:step],\n",
    "#          u[ilat_min:ilat_max+1:step, ilon_min:ilon_max+1:step],\n",
    "#          v[ilat_min:ilat_max+1:step, ilon_min:ilon_max+1:step],\n",
    "#          pivot='mid')\n",
    "\n",
    "pl.xlim(lon_min, lon_max)\n",
    "pl.ylim(lat_min, lat_max)\n",
    "pl.xlabel('lon')\n",
    "pl.ylabel('lat');"
   ]
  },
  {
   "cell_type": "markdown",
   "metadata": {},
   "source": [
    "The divergence of a vector is a scalar. In vector notation, we write it down as:\n",
    "$$\\text{div} \\left( \\boldsymbol{u} \\right) \\equiv \\nabla \\cdot \\boldsymbol{u}$$\n",
    "Expand the right hand side of the previous expression:"
   ]
  },
  {
   "cell_type": "markdown",
   "metadata": {},
   "source": [
    "$$\\nabla \\cdot \\boldsymbol{u} = \\dots$$\n",
    "$$\\nabla \\cdot \\boldsymbol{u} = \\dfrac{\\partial u}{\\partial x} + \\dfrac{\\partial v}{\\partial y} $$"
   ]
  },
  {
   "cell_type": "code",
   "execution_count": null,
   "metadata": {
    "collapsed": false
   },
   "outputs": [],
   "source": [
    "r_earth = 6.37e6\n",
    "dx = 2.*np.pi*r_earth*cos(np.pi/180*lat) / lon.size\n",
    "dy = np.pi*r_earth / lat.size\n",
    "divu = np.zeros(u.shape)\n",
    "for l in range(lat.size):\n",
    "    divu[l,:] += np.gradient(u[l,:], dx[l])\n",
    "for l in range(lon.size):\n",
    "    divu[:,l] += np.gradient(v[:,l], dy)"
   ]
  },
  {
   "cell_type": "code",
   "execution_count": null,
   "metadata": {
    "collapsed": false
   },
   "outputs": [],
   "source": [
    "divu_max = (abs(divu[ilat_min:ilat_max+1, ilon_min:ilon_max+1]).max())\n",
    "divu_range = np.linspace(-divu_max, divu_max, 20)\n",
    "pl.contourf(lon[ilon_min:ilon_max+1],\n",
    "            lat[ilat_min:ilat_max+1],\n",
    "            divu[ilat_min:ilat_max+1, ilon_min:ilon_max+1],\n",
    "            divu_range, cmap=pl.cm.RdBu, extend='both')\n",
    "pl.colorbar()\n",
    "\n",
    "pl.streamplot(lon[ilon_min:ilon_max+1],\n",
    "              lat[ilat_min:ilat_max+1],\n",
    "              u[ilat_min:ilat_max+1, ilon_min:ilon_max+1],\n",
    "              v[ilat_min:ilat_max+1, ilon_min:ilon_max+1],\n",
    "              density=4, color='k')\n",
    "\n",
    "pl.xlim(lon_min, lon_max)\n",
    "pl.ylim(lat_min, lat_max)\n",
    "pl.xlabel('lon')\n",
    "pl.ylabel('lat');"
   ]
  },
  {
   "cell_type": "code",
   "execution_count": null,
   "metadata": {
    "collapsed": false
   },
   "outputs": [],
   "source": [
    "dlon = 2.*np.pi*cos(np.pi/180*lat) / lon.size\n",
    "dlat = np.pi / lat.size\n",
    "divu_sphere = np.zeros(u.shape)\n",
    "cos_lat = np.cos(np.pi/180.*lat)\n",
    "for l in range(lat.size):\n",
    "    divu_sphere[l,:] += np.gradient(u[l,:], dlon[l]) / (r_earth*cos_lat[l])\n",
    "for l in range(lon.size):\n",
    "    divu_sphere[:,l] += np.gradient(cos_lat*v[:,l], dlat) / (r_earth*cos_lat)"
   ]
  },
  {
   "cell_type": "code",
   "execution_count": null,
   "metadata": {
    "collapsed": false
   },
   "outputs": [],
   "source": [
    "divu_sphere_max = (abs(divu_sphere[ilat_min:ilat_max+1, ilon_min:ilon_max+1]).max())\n",
    "divu_sphere_range = np.linspace(-divu_sphere_max, divu_sphere_max, 20)\n",
    "pl.contourf(lon[ilon_min:ilon_max+1],\n",
    "            lat[ilat_min:ilat_max+1],\n",
    "            divu_sphere[ilat_min:ilat_max+1, ilon_min:ilon_max+1],\n",
    "            divu_sphere_range, cmap=pl.cm.RdBu, extend='both')\n",
    "pl.colorbar()\n",
    "\n",
    "pl.streamplot(lon[ilon_min:ilon_max+1],\n",
    "              lat[ilat_min:ilat_max+1],\n",
    "              u[ilat_min:ilat_max+1, ilon_min:ilon_max+1],\n",
    "              v[ilat_min:ilat_max+1, ilon_min:ilon_max+1],\n",
    "              density=4, color='k')\n",
    "\n",
    "pl.xlim(lon_min, lon_max)\n",
    "pl.ylim(lat_min, lat_max)\n",
    "pl.xlabel('lon')\n",
    "pl.ylabel('lat');"
   ]
  },
  {
   "cell_type": "code",
   "execution_count": null,
   "metadata": {
    "collapsed": false
   },
   "outputs": [],
   "source": [
    "pl.contourf(lon[ilon_min:ilon_max+1],\n",
    "            lat[ilat_min:ilat_max+1],\n",
    "            divu       [ilat_min:ilat_max+1, ilon_min:ilon_max+1]-\n",
    "            divu_sphere[ilat_min:ilat_max+1, ilon_min:ilon_max+1],\n",
    "            divu_sphere_range, cmap=pl.cm.RdBu, extend='both')\n",
    "pl.colorbar()\n",
    "\n",
    "pl.streamplot(lon[ilon_min:ilon_max+1],\n",
    "              lat[ilat_min:ilat_max+1],\n",
    "              u[ilat_min:ilat_max+1, ilon_min:ilon_max+1],\n",
    "              v[ilat_min:ilat_max+1, ilon_min:ilon_max+1],\n",
    "              density=4, color='k')\n",
    "\n",
    "pl.xlim(lon_min, lon_max)\n",
    "pl.ylim(lat_min, lat_max)\n",
    "pl.xlabel('lon')\n",
    "pl.ylabel('lat');"
   ]
  },
  {
   "cell_type": "code",
   "execution_count": null,
   "metadata": {
    "collapsed": true
   },
   "outputs": [],
   "source": []
  }
 ],
 "metadata": {
  "kernelspec": {
   "display_name": "Python 2",
   "language": "python",
   "name": "python2"
  },
  "language_info": {
   "codemirror_mode": {
    "name": "ipython",
    "version": 2
   },
   "file_extension": ".py",
   "mimetype": "text/x-python",
   "name": "python",
   "nbconvert_exporter": "python",
   "pygments_lexer": "ipython2",
   "version": "2.7.11"
  }
 },
 "nbformat": 4,
 "nbformat_minor": 0
}
