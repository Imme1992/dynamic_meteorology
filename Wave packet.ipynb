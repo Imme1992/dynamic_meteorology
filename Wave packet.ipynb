{
 "cells": [
  {
   "cell_type": "code",
   "execution_count": null,
   "metadata": {
    "collapsed": true
   },
   "outputs": [],
   "source": [
    "import numpy as np\n",
    "from matplotlib import animation\n",
    "from IPython.display import HTML\n",
    "import matplotlib.pyplot as pl\n",
    "%matplotlib inline\n",
    "pl.rcParams.update({'font.size': 12})          # Set the standard font size of the plots to 11pt.\n",
    "#pl.rcParams.update({'figure.figsize': [13,6]}) # Set the standard figure size."
   ]
  },
  {
   "cell_type": "code",
   "execution_count": null,
   "metadata": {
    "collapsed": false
   },
   "outputs": [],
   "source": [
    "k1 = 8.\n",
    "k2 = 9.\n",
    "\n",
    "nx = 384\n",
    "nt = 128\n",
    "\n",
    "x = np.linspace(0., 8.*np.pi, nx)\n",
    "t = np.linspace(0., 25., nt)\n",
    "xx, tt = np.meshgrid(x, t)"
   ]
  },
  {
   "cell_type": "code",
   "execution_count": null,
   "metadata": {
    "collapsed": false
   },
   "outputs": [],
   "source": [
    "g = 9.81\n",
    "H = 1.\n",
    "omega1 = (g*k1)**.5 \n",
    "omega2 = (g*k2)**.5\n",
    "\n",
    "y1 = np.cos(k1*xx - omega1*tt)\n",
    "y2 = np.cos(k2*xx - omega2*tt)\n",
    "y = y1 + y2\n",
    "\n",
    "pl.plot(x, y[0,:])\n",
    "pl.xlabel('x')\n",
    "pl.ylabel('y')\n",
    "pl.xlim(x.min(), x.max())\n",
    "pl.tight_layout()"
   ]
  },
  {
   "cell_type": "code",
   "execution_count": null,
   "metadata": {
    "collapsed": false
   },
   "outputs": [],
   "source": [
    "c1 = g**.5 * k1**(-.5)\n",
    "c2 = g**.5 * k2**(-.5)\n",
    "cg1 = 0.5 * g**.5 * k1**(-.5)\n",
    "cg2 = 0.5 * g**.5 * k2**(-.5)\n",
    "\n",
    "c1_x = c1*t\n",
    "c2_x = c2*t\n",
    "cg1_x = cg1*t\n",
    "c1_x %= max(x)\n",
    "c2_x %= max(x)\n",
    "cg1_x %= max(x)"
   ]
  },
  {
   "cell_type": "code",
   "execution_count": null,
   "metadata": {
    "code_folding": [],
    "collapsed": false
   },
   "outputs": [],
   "source": [
    "# First set up the figure, the axis, and the plot element we want to animate\n",
    "fig = pl.figure(figsize=(13,8))\n",
    "xmin, xmax = np.min(x), np.max(x)\n",
    "ymin, ymax = -2., 2\n",
    "tmin, tmax = np.min(t), np.max(t)\n",
    "\n",
    "ax  = pl.subplot(411, xlim=(xmin, xmax), ylim=(ymin, ymax), ylabel='y')\n",
    "line,  = ax .plot([], [], lw=2, c='b')\n",
    "pl.setp(ax.get_xticklabels(), visible=False)\n",
    "ax1 = pl.subplot(412, xlim=(xmin, xmax), ylim=(ymin, ymax), ylabel='y')\n",
    "line1, = ax1.plot([], [], lw=2, c='r')\n",
    "pl.setp(ax1.get_xticklabels(), visible=False)\n",
    "ax2 = pl.subplot(413, xlim=(xmin, xmax), ylim=(ymin, ymax), xlabel='x', ylabel='y')\n",
    "line2, = ax2.plot([], [], lw=2, c='g')\n",
    "ax_c = pl.subplot(414, xlim=(xmin, xmax), ylim=(-1.1, 1.1), xlabel='x', ylabel='y')\n",
    "linet,  = ax_c.plot([], [], 'bo-', lw=2)\n",
    "linet1, = ax_c.plot([], [], 'ro-', lw=2)\n",
    "linet2, = ax_c.plot([], [], 'go-', lw=2)\n",
    "fig.tight_layout()"
   ]
  },
  {
   "cell_type": "code",
   "execution_count": null,
   "metadata": {
    "collapsed": false
   },
   "outputs": [],
   "source": [
    "# initialization function: plot the background of each frame\n",
    "def animate(i):\n",
    "    line .set_data(x, y [i,:])\n",
    "    line1.set_data(x, y1[i,:])\n",
    "    line2.set_data(x, y2[i,:])\n",
    "    \n",
    "    linet .set_data([0, cg1_x[i]], [ 1,  1])\n",
    "    linet1.set_data([0, c1_x [i]], [ 0,  0])\n",
    "    linet2.set_data([0, c2_x [i]], [-1, -1])\n",
    "    return line, line1, line2, linet, linet1, linet2\n",
    "\n",
    "# call the animator.  blit=True means only re-draw the parts that have changed.\n",
    "anim = animation.FuncAnimation(fig, animate, frames=y.shape[0], interval=40, blit=True)\n",
    "\n",
    "HTML(anim.to_html5_video())"
   ]
  }
 ],
 "metadata": {
  "kernelspec": {
   "display_name": "Python 3",
   "language": "python",
   "name": "python3"
  },
  "language_info": {
   "codemirror_mode": {
    "name": "ipython",
    "version": 3
   },
   "file_extension": ".py",
   "mimetype": "text/x-python",
   "name": "python",
   "nbconvert_exporter": "python",
   "pygments_lexer": "ipython3",
   "version": "3.5.2"
  }
 },
 "nbformat": 4,
 "nbformat_minor": 0
}
