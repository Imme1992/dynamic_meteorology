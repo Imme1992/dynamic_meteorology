{
 "cells": [
  {
   "cell_type": "code",
   "execution_count": null,
   "metadata": {
    "collapsed": true
   },
   "outputs": [],
   "source": [
    "import numpy as np\n",
    "import matplotlib.pyplot as pl\n",
    "%matplotlib inline\n",
    "pl.rcParams.update({'font.size': 12})          # Set the standard font size of the plots to 11pt.\n",
    "#pl.rcParams.update({'figure.figsize': [13,6]}) # Set the standard figure size."
   ]
  },
  {
   "cell_type": "code",
   "execution_count": null,
   "metadata": {
    "collapsed": false
   },
   "outputs": [],
   "source": [
    "k1 = 8.\n",
    "k2 = 9.\n",
    "\n",
    "nx = 384\n",
    "nt = 512\n",
    "\n",
    "x = np.linspace(0., 8.*np.pi, nx)\n",
    "t = np.linspace(0., 100., nt)\n",
    "xx, tt = np.meshgrid(x, t)"
   ]
  },
  {
   "cell_type": "code",
   "execution_count": null,
   "metadata": {
    "collapsed": false
   },
   "outputs": [],
   "source": [
    "g = 9.81\n",
    "H = 1.\n",
    "omega1 = (g*k1)**.5 \n",
    "omega2 = (g*k2)**.5\n",
    "\n",
    "y1 = np.cos(k1*xx - omega1*tt)\n",
    "y2 = np.cos(k2*xx - omega2*tt)\n",
    "y = y1 + y2\n",
    "\n",
    "pl.plot(x, y[0,:])\n",
    "pl.xlabel('x')\n",
    "pl.ylabel('y')\n",
    "pl.tight_layout()"
   ]
  },
  {
   "cell_type": "code",
   "execution_count": null,
   "metadata": {
    "collapsed": false
   },
   "outputs": [],
   "source": [
    "c1 = g**.5 * k1**(-.5)\n",
    "c2 = g**.5 * k2**(-.5)\n",
    "cg1 = 0.5 * g**.5 * k1**(-.5)\n",
    "cg2 = 0.5 * g**.5 * k2**(-.5)\n",
    "print c1, c2, cg1, cg2\n",
    "\n",
    "c1_x = c1*t\n",
    "c2_x = c2*t\n",
    "cg1_x = cg1*t\n",
    "c1_x %= max(x)\n",
    "c2_x %= max(x)\n",
    "cg1_x %= max(x)"
   ]
  },
  {
   "cell_type": "code",
   "execution_count": null,
   "metadata": {
    "collapsed": false
   },
   "outputs": [],
   "source": [
    "from tempfile import NamedTemporaryFile\n",
    "\n",
    "VIDEO_TAG = \"\"\"<video controls>\n",
    " <source src=\"data:video/x-m4v;base64,{0}\" type=\"video/mp4\">\n",
    " Your browser does not support the video tag.\n",
    "</video>\"\"\"\n",
    "\n",
    "def anim_to_html(anim):\n",
    "    if not hasattr(anim, '_encoded_video'):\n",
    "        with NamedTemporaryFile(suffix='.mp4') as f:\n",
    "            anim.save(f.name, fps=20, extra_args=['-vcodec', 'libx264', '-pix_fmt', 'yuv420p'])\n",
    "            video = open(f.name, \"rb\").read()\n",
    "        anim._encoded_video = video.encode(\"base64\")\n",
    "    \n",
    "    return VIDEO_TAG.format(anim._encoded_video)\n",
    "\n",
    "from IPython.display import HTML\n",
    "\n",
    "def display_animation(anim):\n",
    "    pl.close(anim._fig)\n",
    "    return HTML(anim_to_html(anim))\n",
    "from matplotlib import animation\n",
    "\n",
    "# First set up the figure, the axis, and the plot element we want to animate\n",
    "fig = pl.figure(figsize=(13,8))\n",
    "xmin, xmax = np.min(x), np.max(x)\n",
    "ymin, ymax = -2., 2\n",
    "tmin, tmax = np.min(t), np.max(t)\n",
    "\n",
    "ax  = pl.subplot(411, xlim=(xmin, xmax), ylim=(ymin, ymax), ylabel='y')\n",
    "line,  = ax .plot([], [], lw=2, c='b')\n",
    "pl.setp(ax.get_xticklabels(), visible=False)\n",
    "ax1 = pl.subplot(412, xlim=(xmin, xmax), ylim=(ymin, ymax), ylabel='y')\n",
    "line1, = ax1.plot([], [], lw=2, c='r')\n",
    "pl.setp(ax1.get_xticklabels(), visible=False)\n",
    "ax2 = pl.subplot(413, xlim=(xmin, xmax), ylim=(ymin, ymax), xlabel='x', ylabel='y')\n",
    "line2, = ax2.plot([], [], lw=2, c='g')\n",
    "ax_c = pl.subplot(414, xlim=(xmin, xmax), ylim=(-1.1, 1.1), xlabel='x', ylabel='y')\n",
    "linet,  = ax_c.plot([], [], 'bo-', lw=2)\n",
    "linet1, = ax_c.plot([], [], 'ro-', lw=2)\n",
    "linet2, = ax_c.plot([], [], 'go-', lw=2)\n",
    "\n",
    "fig.tight_layout()\n",
    "\n",
    "# initialization function: plot the background of each frame\n",
    "def animate(i):\n",
    "    line .set_data(x, y [i,:])\n",
    "    line1.set_data(x, y1[i,:])\n",
    "    line2.set_data(x, y2[i,:])\n",
    "    \n",
    "    linet .set_data([0, cg1_x[i]], [ 1,  1])\n",
    "    linet1.set_data([0, c1_x [i]], [ 0,  0])\n",
    "    linet2.set_data([0, c2_x [i]], [-1, -1])\n",
    "    return line, line1, line2, linet, linet1, linet2\n",
    "\n",
    "# call the animator.  blit=True means only re-draw the parts that have changed.\n",
    "anim = animation.FuncAnimation(fig, animate, frames=y.shape[0], interval=1, blit=True)\n",
    "\n",
    "# call our new function to display the animation\n",
    "display_animation(anim)"
   ]
  },
  {
   "cell_type": "code",
   "execution_count": null,
   "metadata": {
    "collapsed": true
   },
   "outputs": [],
   "source": []
  }
 ],
 "metadata": {
  "kernelspec": {
   "display_name": "Python 2",
   "language": "python",
   "name": "python2"
  },
  "language_info": {
   "codemirror_mode": {
    "name": "ipython",
    "version": 2
   },
   "file_extension": ".py",
   "mimetype": "text/x-python",
   "name": "python",
   "nbconvert_exporter": "python",
   "pygments_lexer": "ipython2",
   "version": "2.7.12"
  }
 },
 "nbformat": 4,
 "nbformat_minor": 0
}
