{
 "cells": [
  {
   "cell_type": "code",
   "execution_count": null,
   "metadata": {
    "collapsed": false
   },
   "outputs": [],
   "source": [
    "from ipywidgets import interact # Package ipywidgets contains the features of interactive notebooks.\n",
    "import numpy as np              # Numpy is the fundamental package for scientific computing in Python.\n",
    "import netCDF4 as nc            # NetCDF is the data format of the meteorological data that we use.\n",
    "import matplotlib.pyplot as pl  # Matplotlib is a scientific plotting package.\n",
    "from mpl_toolkits.basemap import Basemap # Import the map plotting interface.\n",
    "\n",
    "# The statement below enforces the plots to be put into this notebook, instead of in their own windows.\n",
    "%pylab inline\n",
    "pl.rcParams.update({'font.size': 12})          # Set the standard font size of the plots to 11pt.\n",
    "pl.rcParams.update({'figure.figsize': [13,6]}) # Set the standard figure size.\n",
    "\n",
    "m = Basemap(llcrnrlon=-150, llcrnrlat=20, urcrnrlon=50, urcrnrlat=70, projection='mill', resolution='l')"
   ]
  },
  {
   "cell_type": "code",
   "execution_count": null,
   "metadata": {
    "collapsed": false
   },
   "outputs": [],
   "source": [
    "nc_file = nc.Dataset(\"data/test.nc\", \"r\")\n",
    "lat = nc_file.variables[\"latitude\"][:]\n",
    "lon = nc_file.variables[\"longitude\"][:]\n",
    "p = nc_file.variables[\"level\"][:]*100\n",
    "t = -1\n",
    "p_plot = 50000.\n",
    "n = abs(p-p_plot).argmin()\n",
    "nroll = lon.size//2\n",
    "lon = np.roll(lon, nroll)\n",
    "lon = np.where(lon>=180., lon-360., lon)\n",
    "\n",
    "u = np.roll(nc_file.variables[\"u\"][t,:,:,:], nroll, -1)\n",
    "v = np.roll(nc_file.variables[\"v\"][t,:,:,:], nroll, -1)\n",
    "z = np.roll(nc_file.variables[\"z\"][t,:,:,:], nroll, -1)\n",
    "T = np.roll(nc_file.variables[\"t\"][t,:,:,:], nroll, -1)\n",
    "U = (u**2 + v**2)**.5\n",
    "\n",
    "lons, lats = m(*np.meshgrid(lon, lat))\n",
    "lonrad, latrad = np.meshgrid(np.pi/180.*lon, np.pi/180.*lat)"
   ]
  },
  {
   "cell_type": "code",
   "execution_count": null,
   "metadata": {
    "collapsed": false
   },
   "outputs": [],
   "source": [
    "m.pcolormesh(lons, lats, T[n,:,:], cmap=pl.cm.inferno)\n",
    "m.colorbar()\n",
    "m.contour(lons, lats, z[n,:,:], 15, colors='w', linewidths=1.5)\n",
    "m.drawcoastlines(color='#222222')\n",
    "# draw parallels.\n",
    "parallels = np.arange(0.,90,30.)\n",
    "m.drawparallels(parallels,labels=[1,0,0,0])\n",
    "# draw meridians\n",
    "meridians = np.arange(0.,360.,60.)\n",
    "m.drawmeridians(meridians,labels=[0,0,0,1])\n",
    "pl.title('T at p = {0}'.format(p[n]));\n",
    "pl.tight_layout()"
   ]
  },
  {
   "cell_type": "code",
   "execution_count": null,
   "metadata": {
    "collapsed": false
   },
   "outputs": [],
   "source": [
    "r_earth = 6.37e6\n",
    "\n",
    "dzdx = np.zeros(z.shape)\n",
    "dzdy = np.zeros(z.shape)\n",
    "\n",
    "cos_lat = np.cos(latrad)\n",
    "for k in range(p.size):\n",
    "    for j in range(lat.size):\n",
    "        dzdx[k,j,:] = 1./(r_earth*cos_lat[j,:]) * np.gradient(z[k,j,:]) / np.gradient(lonrad[j,:])\n",
    "\n",
    "for k in range(p.size):\n",
    "    for i in range(lon.size):\n",
    "        dzdy[k,:,i] = (1./r_earth) * np.gradient(z[k,:,i]) / np.gradient(latrad[:,i])\n",
    "\n",
    "omega = 7.2921e-5\n",
    "f = 2.*omega*np.sin(latrad)\n",
    "ug = -1./f*dzdy\n",
    "vg =  1./f*dzdx\n",
    "Ug = (ug**2 + vg**2)**.5"
   ]
  },
  {
   "cell_type": "code",
   "execution_count": null,
   "metadata": {
    "collapsed": false
   },
   "outputs": [],
   "source": [
    "umin = 0.\n",
    "umax = 50.\n",
    "pl.subplot(211)\n",
    "m.pcolormesh(lons, lats, U[n,:,:], vmin=umin, vmax=umax, cmap=pl.cm.inferno)\n",
    "m.colorbar()\n",
    "m.contour(lons, lats, z[n,:,:], 15, colors='w', linewidths=1.5)\n",
    "m.drawcoastlines()\n",
    "# draw parallels.\n",
    "parallels = np.arange(0.,90,20.)\n",
    "m.drawparallels(parallels,labels=[1,0,0,0])\n",
    "# draw meridians\n",
    "meridians = np.arange(0.,360.,20.)\n",
    "m.drawmeridians(meridians,labels=[0,0,0,1]);\n",
    "pl.title('u (m/s)')\n",
    "pl.subplot(212)\n",
    "m.pcolormesh(lons, lats, Ug[n,:,:], vmin=umin, vmax=umax, cmap=pl.cm.inferno)\n",
    "m.colorbar();\n",
    "m.contour(lons, lats, z[n,:,:], 15, colors='w', linewidths=1.5)\n",
    "m.drawcoastlines()\n",
    "# draw parallels.\n",
    "parallels = np.arange(0.,90,20.)\n",
    "m.drawparallels(parallels,labels=[1,0,0,0])\n",
    "# draw meridians\n",
    "meridians = np.arange(0.,360.,20.)\n",
    "m.drawmeridians(meridians,labels=[0,0,0,1]);\n",
    "pl.title('u_g (m/s)')\n",
    "pl.tight_layout()"
   ]
  },
  {
   "cell_type": "code",
   "execution_count": null,
   "metadata": {
    "collapsed": false
   },
   "outputs": [],
   "source": [
    "dTdx = np.zeros(T.shape)\n",
    "dTdy = np.zeros(T.shape)\n",
    "\n",
    "cos_lat = np.cos(latrad)\n",
    "for k in range(p.size):\n",
    "    for j in range(lat.size):\n",
    "        dTdx[k,j,:] = 1./(r_earth*cos_lat[j,:]) * np.gradient(T[k,j,:]) / np.gradient(lonrad[j,:])\n",
    "\n",
    "for k in range(p.size):\n",
    "    for i in range(lon.size):\n",
    "        dTdy[k,:,i] = (1./r_earth) * np.gradient(T[k,:,i]) / np.gradient(latrad[:,i])"
   ]
  },
  {
   "cell_type": "code",
   "execution_count": null,
   "metadata": {
    "collapsed": false
   },
   "outputs": [],
   "source": [
    "R = 287.\n",
    "minmax=60.\n",
    "pl.subplot(211)\n",
    "m.pcolormesh(lons, lats, -R/f*dTdx[n,:,:], vmin=-minmax, vmax=minmax, cmap=pl.cm.seismic)\n",
    "m.colorbar()\n",
    "m.drawcoastlines()\n",
    "# draw parallels.\n",
    "parallels = np.arange(0.,90,20.)\n",
    "m.drawparallels(parallels,labels=[1,0,0,0])\n",
    "# draw meridians\n",
    "meridians = np.arange(0.,360.,20.)\n",
    "m.drawmeridians(meridians,labels=[0,0,0,1]);\n",
    "\n",
    "pl.subplot(212)\n",
    "m.pcolormesh(lons, lats,  R/f*dTdy[n,:,:], vmin=-minmax, vmax=minmax, cmap=pl.cm.seismic)\n",
    "m.colorbar();\n",
    "m.drawcoastlines()\n",
    "# draw parallels.\n",
    "parallels = np.arange(0.,90,20.)\n",
    "m.drawparallels(parallels,labels=[1,0,0,0])\n",
    "# draw meridians\n",
    "meridians = np.arange(0.,360.,20.)\n",
    "m.drawmeridians(meridians,labels=[0,0,0,1]);\n",
    "pl.tight_layout()"
   ]
  },
  {
   "cell_type": "code",
   "execution_count": null,
   "metadata": {
    "collapsed": false
   },
   "outputs": [],
   "source": [
    "dvgdlnp = (vg[n+1]-vg[n-1])/(np.log(p[n+1])-np.log(p[n-1]))\n",
    "dugdlnp = (ug[n+1]-ug[n-1])/(np.log(p[n+1])-np.log(p[n-1]))\n",
    "\n",
    "pl.subplot(211)\n",
    "m.pcolormesh(lons, lats, dvgdlnp, vmin=-minmax, vmax=minmax, cmap=pl.cm.seismic)\n",
    "m.colorbar()\n",
    "m.drawcoastlines()\n",
    "# draw parallels.\n",
    "parallels = np.arange(0.,90,20.)\n",
    "m.drawparallels(parallels,labels=[1,0,0,0])\n",
    "# draw meridians\n",
    "meridians = np.arange(0.,360.,20.)\n",
    "m.drawmeridians(meridians,labels=[0,0,0,1]);\n",
    "pl.subplot(212)\n",
    "m.pcolormesh(lons, lats, dugdlnp, vmin=-minmax, vmax=minmax, cmap=pl.cm.seismic)\n",
    "m.colorbar()\n",
    "m.drawcoastlines()\n",
    "# draw parallels.\n",
    "parallels = np.arange(0.,90,20.)\n",
    "m.drawparallels(parallels,labels=[1,0,0,0])\n",
    "# draw meridians\n",
    "meridians = np.arange(0.,360.,20.)\n",
    "m.drawmeridians(meridians,labels=[0,0,0,1]);\n",
    "pl.tight_layout()"
   ]
  },
  {
   "cell_type": "code",
   "execution_count": null,
   "metadata": {
    "collapsed": false
   },
   "outputs": [],
   "source": [
    "m.pcolormesh(lons, lats, dvgdlnp+R/f*dTdx[n,:,:], vmin=-minmax, vmax=minmax, cmap=pl.cm.seismic)\n",
    "m.colorbar();\n",
    "m.drawcoastlines()\n",
    "# draw parallels.\n",
    "parallels = np.arange(0.,90,20.)\n",
    "m.drawparallels(parallels,labels=[1,0,0,0])\n",
    "# draw meridians\n",
    "meridians = np.arange(0.,360.,20.)\n",
    "m.drawmeridians(meridians,labels=[0,0,0,1]);\n",
    "pl.tight_layout()"
   ]
  },
  {
   "cell_type": "code",
   "execution_count": null,
   "metadata": {
    "collapsed": false
   },
   "outputs": [],
   "source": [
    "minmax=20.\n",
    "m.pcolormesh(lons, lats, U[n,:,:]-Ug[n,:,:], vmin=-minmax, vmax=minmax, cmap=pl.cm.RdBu)\n",
    "m.colorbar();\n",
    "m.contour(lons, lats, z[n,:,:], 12, colors='k')\n",
    "m.drawcoastlines()\n",
    "# draw parallels.\n",
    "parallels = np.arange(0.,90,20.)\n",
    "m.drawparallels(parallels,labels=[1,0,0,0])\n",
    "# draw meridians\n",
    "meridians = np.arange(0.,360.,20.)\n",
    "m.drawmeridians(meridians,labels=[0,0,0,1]);\n",
    "pl.title('ua = u - ug (m/s)')\n",
    "pl.tight_layout()"
   ]
  },
  {
   "cell_type": "code",
   "execution_count": null,
   "metadata": {
    "collapsed": false
   },
   "outputs": [],
   "source": [
    "div = np.zeros(lons.shape)\n",
    "for j in range(lat.size):\n",
    "    div[j,:]  = 1./(r_earth*cos_lat[j,:]) * np.gradient(ug[n,j,:]) / np.gradient(lonrad[j,:])\n",
    "for i in range(lon.size):\n",
    "    div[:,i] += (1./r_earth) * np.gradient(vg[n,:,i]) / np.gradient(latrad[:,i])"
   ]
  },
  {
   "cell_type": "code",
   "execution_count": null,
   "metadata": {
    "collapsed": false
   },
   "outputs": [],
   "source": [
    "minmax = 0.5\n",
    "m.pcolormesh(lons, lats, 1e5*div, cmap=pl.cm.RdBu, vmin=-minmax, vmax=minmax)\n",
    "m.colorbar();\n",
    "m.contour(lons, lats, z[n,:,:], 12, colors='k')\n",
    "m.drawcoastlines()\n",
    "# draw parallels.\n",
    "parallels = np.arange(0.,90,20.)\n",
    "m.drawparallels(parallels,labels=[1,0,0,0])\n",
    "# draw meridians\n",
    "meridians = np.arange(0.,360.,20.)\n",
    "m.drawmeridians(meridians,labels=[0,0,0,1]);\n",
    "pl.title('div * 1e5 (1/s)')\n",
    "pl.tight_layout()"
   ]
  },
  {
   "cell_type": "code",
   "execution_count": null,
   "metadata": {
    "collapsed": false
   },
   "outputs": [],
   "source": [
    "Ug_masked = np.ma.masked_array(Ug, abs(Ug)<5.)\n",
    "error_range = np.linspace(0., 0.5, 6)\n",
    "m.contourf(lons, lats, abs( (U[n,:,:]-Ug_masked[n,:,:])/Ug_masked[n,:,:] ), error_range, extend='max', cmap=pl.cm.inferno_r)\n",
    "m.colorbar();\n",
    "m.contour(lons, lats, z[n,:,:], 12, colors='w', linewidths=1.5)\n",
    "m.drawcoastlines(color='k')\n",
    "# draw parallels.\n",
    "parallels = np.arange(0.,90,20.)\n",
    "m.drawparallels(parallels,labels=[1,0,0,0])\n",
    "# draw meridians\n",
    "meridians = np.arange(0.,360.,20.)\n",
    "m.drawmeridians(meridians,labels=[0,0,0,1]);\n",
    "pl.title('U_a/U_g')\n",
    "pl.tight_layout()"
   ]
  },
  {
   "cell_type": "code",
   "execution_count": null,
   "metadata": {
    "collapsed": true
   },
   "outputs": [],
   "source": []
  }
 ],
 "metadata": {
  "kernelspec": {
   "display_name": "Python 3",
   "language": "python",
   "name": "python3"
  },
  "language_info": {
   "codemirror_mode": {
    "name": "ipython",
    "version": 3
   },
   "file_extension": ".py",
   "mimetype": "text/x-python",
   "name": "python",
   "nbconvert_exporter": "python",
   "pygments_lexer": "ipython3",
   "version": "3.5.2"
  }
 },
 "nbformat": 4,
 "nbformat_minor": 0
}
