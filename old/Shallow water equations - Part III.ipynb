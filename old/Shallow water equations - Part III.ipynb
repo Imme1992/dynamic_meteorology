{
 "cells": [
  {
   "cell_type": "markdown",
   "metadata": {},
   "source": [
    "# Using shallow water equations to understand large-scale dynamics\n",
    "### MAQ - 32806, Chiel van Heerwaarden, 2016\n",
    "In this tutorial you will the concept of potential vorticity to understand the generation of Rossby waves over topography."
   ]
  },
  {
   "cell_type": "code",
   "execution_count": 2,
   "metadata": {
    "collapsed": false
   },
   "outputs": [],
   "source": [
    "%matplotlib inline\n",
    "import numpy as np\n",
    "import matplotlib.pyplot as pl\n",
    "from matplotlib import animation\n",
    "from IPython.display import HTML\n",
    "figsize_s = 6,4\n",
    "figsize_l = 10,4"
   ]
  },
  {
   "cell_type": "code",
   "execution_count": 3,
   "metadata": {
    "collapsed": false
   },
   "outputs": [
    {
     "name": "stdout",
     "output_type": "stream",
     "text": [
      "1.80335846611e-11\n"
     ]
    }
   ],
   "source": [
    "lat = 52.\n",
    "r_earth = 6.371e6\n",
    "omega = 7.29e-5\n",
    "f0 = 2.*omega*np.sin(np.pi/180.*lat)\n",
    "beta = 2.*omega*np.sin(np.pi/180.*lat) / r_earth\n",
    "g = 9.81\n",
    "L = r_earth * (2.*np.pi) * np.cos(np.pi/180.*lat)\n",
    "L_dist = 10.e6\n",
    "u_left = 10.\n",
    "h_left = 200.\n",
    "print(beta)"
   ]
  },
  {
   "cell_type": "code",
   "execution_count": 21,
   "metadata": {
    "collapsed": false
   },
   "outputs": [
    {
     "data": {
      "text/plain": [
       "<matplotlib.collections.PolyCollection at 0x1095e6dd8>"
      ]
     },
     "execution_count": 21,
     "metadata": {},
     "output_type": "execute_result"
    },
    {
     "data": {
      "image/png": "[encoded data removed]",
      "text/plain": [
       "<matplotlib.figure.Figure at 0x108d24a90>"
      ]
     },
     "metadata": {},
     "output_type": "display_data"
    }
   ],
   "source": [
    "nx = 1501\n",
    "x = np.linspace(-(1./3.)*L, (2./3.)*L, nx)\n",
    "#y = np.linspace(-1e6, 1e6, ny)\n",
    "dx = x[1]-x[0]\n",
    "x_sigma = L_dist/6.\n",
    "eta_bot = 0.2*h_left*np.exp(-x**2/(2.*x_sigma**2))\n",
    "eta_top = h_left*np.ones(nx)\n",
    "\n",
    "# Show the configuration\n",
    "pl.figure(figsize=figsize_s)\n",
    "pl.plot(x, eta_bot, 'k-')\n",
    "pl.plot(x, eta_top, 'k-')\n",
    "pl.xlim(x.min(), x.max())\n",
    "pl.ylim(0, 1.1*eta_top.max())\n",
    "pl.xlabel('x')\n",
    "pl.ylabel('h');\n",
    "pl.fill_between(x, 0, eta_bot, color='#cccccc')"
   ]
  },
  {
   "cell_type": "code",
   "execution_count": 22,
   "metadata": {
    "collapsed": false
   },
   "outputs": [],
   "source": [
    "h = eta_top - eta_bot\n",
    "u = h_left/h*u_left\n",
    "v = np.zeros(nx)\n",
    "\n",
    "nt = 50000\n",
    "ni = 500\n",
    "dt = 10.\n",
    "\n",
    "u_out = np.zeros((nt//ni+1, nx))\n",
    "v_out = np.zeros((nt//ni+1, nx))\n",
    "h_out = np.zeros((nt//ni+1, nx))\n",
    "u_out[0,:], v_out[0,:], h_out[0,:] = u, v, h\n",
    "\n",
    "for n in range(1,nt+1):\n",
    "    #u[0] = u_left\n",
    "    #v[0] = 0.\n",
    "    #h[0] = h_left\n",
    "    \n",
    "    eta_top[:] = eta_bot[:] + h[:]\n",
    "    \n",
    "    dudx = np.gradient(u, dx)\n",
    "    dvdx = np.gradient(v, dx)\n",
    "    deta_topdx = np.gradient(eta_top, dx)\n",
    "    dhdx = np.gradient(h, dx)\n",
    "    \n",
    "    u += dt * ( -u*dudx + f0*v - g*deta_topdx )\n",
    "    v += dt * ( -u*dvdx - f0*u )\n",
    "    h += dt * ( -u*dhdx - h*dudx )\n",
    "    \n",
    "    if (n%ni == 0):\n",
    "        u_out[n//ni,:] = u[:]\n",
    "        v_out[n//ni,:] = v[:]\n",
    "        h_out[n//ni,:] = h[:]\n",
    "\n",
    "eta_top_out = np.zeros(u_out.shape)\n",
    "for i in range(eta_top_out.shape[0]):\n",
    "    eta_top_out[i,:] = h_out[i,:] + eta_bot"
   ]
  },
  {
   "cell_type": "code",
   "execution_count": 28,
   "metadata": {
    "collapsed": false
   },
   "outputs": [
    {
     "name": "stdout",
     "output_type": "stream",
     "text": [
      "-8215011.91041 16430023.8208 0 220.038047851\n"
     ]
    },
    {
     "data": {
      "image/png": "[encoded data removed]",
      "text/plain": [
       "<matplotlib.figure.Figure at 0x108b03a20>"
      ]
     },
     "metadata": {},
     "output_type": "display_data"
    }
   ],
   "source": [
    "# First set up the figure, the axis, and the plot element we want to animate\n",
    "fig, ax = pl.subplots(figsize=figsize_l)\n",
    "xmin, xmax = min(x), max(x)\n",
    "zmin, zmax = 0, 1.1*np.max(eta_top_out)\n",
    "print(xmin, xmax, zmin, zmax)\n",
    "ax.set_xlim(xmin, xmax)\n",
    "ax.set_ylim(zmin, zmax)\n",
    "ax.set_xlabel('x')\n",
    "ax.set_ylabel('z')\n",
    "pl.fill_between(x, 0, eta_bot, color='#cccccc')\n",
    "ax.plot(x, eta_top_out[0,:], 'b:')\n",
    "line, = ax.plot([], [], lw=2)\n",
    "fig.tight_layout()"
   ]
  },
  {
   "cell_type": "code",
   "execution_count": 29,
   "metadata": {
    "collapsed": false
   },
   "outputs": [
    {
     "data": {
      "text/html": [
       "<video width=\"720.0\" height=\"288.0\" controls autoplay loop>\n",
       "  <source type=\"video/mp4\" src=\"data:video/mp4;base64,AAAAHGZ0eXBNNFYgAAACAGlzb21pc28yYXZjMQAAAAhmcmVlAAAXAm1kYXQAAAKuBgX//6rcRem9\n",
       "5tlIt5Ys2CDZI+7veDI2NCAtIGNvcmUgMTQ4IHIyNjY4IGZkMmMzMjQgLSBILjI2NC9NUEVHLTQg\n",
       "QVZDIGNvZGVjIC0gQ29weWxlZnQgMjAwMy0yMDE2IC0gaHR0cDovL3d3dy52aWRlb2xhbi5vcmcv\n",
       "eDI2NC5odG1sIC0gb3B0aW9uczogY2FiYWM9MSByZWY9MyBkZWJsb2NrPTE6MDowIGFuYWx5c2U9\n",
       "MHgzOjB4MTEzIG1lPWhleCBzdWJtZT03IHBzeT0xIHBzeV9yZD0xLjAwOjAuMDAgbWl4ZWRfcmVm\n",
       "PTEgbWVfcmFuZ2U9MTYgY2hyb21hX21lPTEgdHJlbGxpcz0xIDh4OGRjdD0xIGNxbT0wIGRlYWR6\n",
       "b25lPTIxLDExIGZhc3RfcHNraXA9MSBjaHJvbWFfcXBfb2Zmc2V0PS0yIHRocmVhZHM9NiBsb29r\n",
       "YWhlYWRfdGhyZWFkcz0xIHNsaWNlZF90aHJlYWRzPTAgbnI9MCBkZWNpbWF0ZT0xIGludGVybGFj\n",
       "ZWQ9MCBibHVyYXlfY29tcGF0PTAgY29uc3RyYWluZWRfaW50cmE9MCBiZnJhbWVzPTMgYl9weXJh\n",
       "bWlkPTIgYl9hZGFwdD0xIGJfYmlhcz0wIGRpcmVjdD0xIHdlaWdodGI9MSBvcGVuX2dvcD0wIHdl\n",
       "aWdodHA9MiBrZXlpbnQ9MjUwIGtleWludF9taW49MjUgc2NlbmVjdXQ9NDAgaW50cmFfcmVmcmVz\n",
       "aD0wIHJjX2xvb2thaGVhZD00MCByYz1jcmYgbWJ0cmVlPTEgY3JmPTIzLjAgcWNvbXA9MC42MCBx\n",
       "cG1pbj0wIHFwbWF4PTY5IHFwc3RlcD00IGlwX3JhdGlvPTEuNDAgYXE9MToxLjAwAIAAAAoUZYiE\n",
       "ADv//vdOvwKbRZdqA5Is/+hK2fEAkSl58oAfidm7K+R4MyyfNWFswn4pxS8BbAm2iUkp4+VT5EVs\n",
       "MdQyc9RqshApd5jzo0cnJpdK71XAAAAPHfY/GAsSoyUUa14jk+n1QXlc1edcNT3tABQLfqmjR36D\n",
       "RfC6Ol7MgKty8/sql9v6n3kMpUnETp1P+rqSML5jpqtmY4VwBgQORdFby/dDM9rtPCAZj9nDng4E\n",
       "WjkxvVzA0Qhdc02i5LEv0vO4mv+OoWDUov8pKdN6b8yG0LXbZ3iHWh5BiWhesrNEldQJWydH4Gvz\n",
       "knui6OASw857SIY4kFUSeUw/xO41vGiDJz5Cyf/t6IhlkwQ+KDDVtxCGAAADADmJjR5QLgiaXFF8\n",
       "7UclVSlOKw31tqCXtHM9tMu99Ew1j0akeppuvAh22KI2EPs8ue5i0La61eIA5dgqLxvpDdaIm5ur\n",
       "o84XSoN0Pcw0fJTpCEUiHc7OP88iie2A3x9hbLuco5kjKYKzZXXy7lkiZNf1Lmc+m3w1r/zLLc+g\n",
       "IyvwEZ6nN3gHAAF+/2mv0daNcFLVzjJd+8cLghTSbsODqnynzzdyutQDbT7R6+ibPt4/1VJScFmi\n",
       "AAADAABEUkbAAAADAkXukiN0+QvN/pnm1Mf55tw0IPQqguPnEefOUdYqVOGVpAa04t0dOWUWAWCe\n",
       "jkUCIAhzmSgUh819qyK1EN9xKcid9Gxnsw3miU5wnOpQX9DqpDr58POoy8Fkm5S22mpWGFBokav8\n",
       "RN5TDkCHmWzLatDqtciF9peiho814l9asLub2Wx4Tc/vdZLyUz0AsSukE5gpcPwT1PZmK6o8KxX6\n",
       "2HilyQvz18fhl+KSADfutpmu++4o6wA5WmkAAAMCNuMF7OvUPxhLkY/IcjV5/1GHyU17Kq9x93uh\n",
       "Ky8ARyOgF1dwuKl8l/dkbyTMyo8yY6MYJVAg9b3lxMdbAfDzoWvrTeXYDr49ZDnJgNh6MFfs9nNL\n",
       "o1NnnjIIDJIYjf9PmrpZXMZB9mSxqPhC5rhWepzCNcRvOvcYpCoAc2MYdNzoQ9bopba3zm10F57M\n",
       "F0DNohiCbQwCdpkum4uRd4mRELAS+LPoSqKP0ONYNkGmc0On4cp3wI4qVxPzWpoqwGOKSe9BeT+6\n",
       "fvCthlvdmzvGGYLRN6m3jY2/WzTzgcVj6P8luQAHy+b40361+nmae8E/9q9FQkbH+j0ttNGkaACF\n",
       "q8mKwAAAAwBeNtSzm5XeT+WCuqz+SHnVfipxvihlGEwaipqPWoYbYnbuVsAfwbqBt0qHCIG8AAGo\n",
       "P5nf8vUvWaUxbSQuiRH+kEoZhcLiYWYGQsDDnXBHcSTJKdvIaBHQU9kdUek7FBxYsNdtwUfja0t7\n",
       "JxMdFrHCgDv/um7XUud4MxItAAu0QJbmZlTOUxSn7EQbde6RfEzu+8QwYZ0dX1gMOInfooHJhw01\n",
       "tVHJs0Ew1Mnpc2gFUcd6+9CxHMqTp8Pt1wCu3M1e5iR5Xpq+dZGRH///k28TOK0i7+ochOthtcet\n",
       "sFNsywvhgVCytY9Oojok6q5lAYb9houZ5m5eVS52pQCxxReNYdOhDpCTAv7r88aaiAgIXHcaVQVx\n",
       "Z+Vb3hG/LjxpAfDCo6Ny2WpuZjthuldr6BCTvbEgi5TkfVfgfX1LiNQUwYA+M0zYYmqoYAFxUfDD\n",
       "XZHcfceLNzkJAcmdbGMeOHt2ozuFocRV37TjaikA6JPtJPWNmZIpvrNVNX7PrHVM8GTYJHb3H7Qr\n",
       "bOBTM7o1SsEN6Y0qVQZJK+8OpyMIO4r6G6IZ8WlSDIxePWTaA9DrlrZ5IXDesj6x6HS8xAvoBH8F\n",
       "BJaYBF3manuOzc9SOq6C4Ggj6/rp7TO0liN+cpg8q9HSVSNtpikBsaiMCWMp20FfrI2jCwNidnap\n",
       "g5oGSER+ysh9AG0/nYQCtHNs1x+nxS2oIbSbbO3XRE03jblROAWUPbbOts0JRySmX91+0gZDPRFT\n",
       "+fcoqwV6jsSNhaGoTPP2ItnVNjuDkKeDgHvywec/gLoyXVZEnXd0oiD2tqy+K1CvoP9xeWcj/Wpi\n",
       "dVE5fBnn//mArDd5qnBdISgSrCJ2ti0BG5NyYnHbKgavz1vLA+Bo2UjdTRx0Jaf9qqljLLz59Oaq\n",
       "U4AryGhQc267IofxgH0ZVLp4XQ8j380jD83cMmkxIMcCG0dmCK9OdnlOtwMBxl8uCpRN4IcWcL9p\n",
       "ByIubR4mnT3nzQlyaThhOC+24ovBquvLg8syC83bYyjY6+yusZB6Z4ZZJdh0RIA6BjjybBJXAuse\n",
       "EgFqiqpksbIqEpqa/mmLvDxSBsLtn4SnJatrFas6DMECRYgcn99IVegL/7RkZCh8UZlWyyglcKr+\n",
       "P2LY+zyJF3ypVc6oOrWn2D9EXT4a3b+jelqZ0ipNHJSbOeAfrIPpxfo/+N0wZX4/oESUAsSsy/cI\n",
       "VKre8AYclODhXndQCAYeWCWXn6gPMDY7J7ZcXuZhfToIogemMoK7n3ACkv65o9XhaVthz2QJC5Tc\n",
       "sV+Bo4JGNX82Mt1AmF31eNxs3AnfSr8hbumbA76HSWW6Acnyo/ULamN/IIi5hDDLkqEEl9a61h5Q\n",
       "JYX1ikqOhSpo54DOeH4qBhn5QYghaUOFCmU9bzBAr0BfPLt6k/qO9EVkAinq1TxlVpW544vhulo9\n",
       "Ixi/JQ76hvMPyWp5bBpCEm84c65Wa5GsU1sUkzFqYFOox0wMDhP+u21e+TG/fZ4EFQNp3aGE6Nn6\n",
       "DR5Y+gcxDeKbT/t6eCJOZCXPU6Oh8/TK4Z8m6b+In2MkpAm8hRm5flA89le0lS4+rHnPgo4nMHBI\n",
       "eW1hL2wzdgT9hQ+p4j9ikCMbhUu2Ii2htxmU6RrKd1DyOL7OCPtq1by1QNd9awnNFWOXr6rYIcre\n",
       "bzPlHDA4R3PCOMq/iLftSUzYCJaQZSf4KRYx3koq084+lobpBOuwKnC2UqGULjWdwYBdCYFESL5L\n",
       "itVWnMTjORmQNesefaL9owkJLC4hupcxW40QlTkguBVF+Dz7/fCGbCvwbVagsXsQEM+oAbSyRv2f\n",
       "ew3X2FUoBCWXNRmw4pmaWvmX5OHL6CMz9KnOTWNvCGZOA5+LTqtDc7psOILfTZ3yCUiZYVDbdQKk\n",
       "Rwn2Xn9mNLlqC1t1saewxyHSctG7aUcsWJrjSB0AtrfyRTJmrWUJL/l9+qM2sHIWC26lLnE+Y6nO\n",
       "LwZZW4X2avfD5KRgl8pGO0iSlPoOV15U9i7EvAOyax0tNykROKYpSxekDagX0RbPjlG3K1NCxHli\n",
       "PHzlL3SHSAQLhUqNOy14AEBBbM1umtCwyAEzREm+6C2iwUN0IyE2pqWKKi4XDQFh6lqozgIEc54P\n",
       "CO1mkJfVz4AAC+xbVxUw46uALiXoNnKN6iniGLQlro+RcqkAyUcL2wBuecpCHnka7i4oa7xOSD5m\n",
       "QRDt9b1ABGT0dCBjAAAAPUGaJGxDv/6pnGjgaAQi34wIn7sp8elqZVfnPzKCnfYPcfSMsAR0CIPx\n",
       "VvwBD18thUpup5ru07JQIzmDO4AAAAAZQZ5CeIX/AAADAEShq0eVFdIXL1/YHweATwAAAA8BnmF0\n",
       "Qr8AAAMAX3+l844AAAATAZ5jakK/AAADAF+dKNxXG/fhKQAAABZBmmhJqEFomUwId//+qZYAAAMA\n",
       "AA8JAAAAGkGehkURLC//AAADAEV85TG5m1ipLnk/54G5AAAAEwGepXRCvwAAAwBff6X2H0JZ+3EA\n",
       "AAATAZ6nakK/AAADAF+dKNxXG/fhKAAAABZBmqxJqEFsmUwId//+qZYAAAMAAA8IAAAAGkGeykUV\n",
       "LC//AAADAEV85TG5m1ipLnk/54G5AAAAEwGe6XRCvwAAAwBff6X2H0JZ+3AAAAATAZ7rakK/AAAD\n",
       "AF+dKNxXG/fhKAAAABZBmvBJqEFsmUwId//+qZYAAAMAAA8JAAAAGkGfDkUVLC//AAADAEV85TG5\n",
       "m1ipLnk/54G5AAAAEwGfLXRCvwAAAwBff6X2H0JZ+3EAAAATAZ8vakK/AAADAF+dKNxXG/fhKAAA\n",
       "ABZBmzRJqEFsmUwId//+qZYAAAMAAA8IAAAAGkGfUkUVLC//AAADAEV85TG5m1ipLnk/54G5AAAA\n",
       "EwGfcXRCvwAAAwBff6X2H0JZ+3AAAAATAZ9zakK/AAADAF+dKNxXG/fhKAAAABZBm3hJqEFsmUwI\n",
       "d//+qZYAAAMAAA8JAAAAGkGflkUVLC//AAADAEV85TG5m1ipLnk/54G4AAAAEwGftXRCvwAAAwBf\n",
       "f6X2H0JZ+3EAAAATAZ+3akK/AAADAF+dKNxXG/fhKQAAABZBm7xJqEFsmUwId//+qZYAAAMAAA8I\n",
       "AAAAGkGf2kUVLC//AAADAEV85TG5m1ipLnk/54G5AAAAEwGf+XRCvwAAAwBff6X2H0JZ+3AAAAAT\n",
       "AZ/7akK/AAADAF+dKNxXG/fhKQAAABZBm+BJqEFsmUwId//+qZYAAAMAAA8JAAAAGkGeHkUVLC//\n",
       "AAADAEV85TG5m1ipLnk/54G4AAAAEwGePXRCvwAAAwBff6X2H0JZ+3AAAAATAZ4/akK/AAADAF+d\n",
       "KNxXG/fhKQAAABZBmiRJqEFsmUwId//+qZYAAAMAAA8IAAAAGkGeQkUVLC//AAADAEV85TG5m1ip\n",
       "Lnk/54G5AAAAEwGeYXRCvwAAAwBff6X2H0JZ+3AAAAATAZ5jakK/AAADAF+dKNxXG/fhKQAAABZB\n",
       "mmhJqEFsmUwId//+qZYAAAMAAA8JAAAAGkGehkUVLC//AAADAEV85TG5m1ipLnk/54G5AAAAEwGe\n",
       "pXRCvwAAAwBff6X2H0JZ+3EAAAATAZ6nakK/AAADAF+dKNxXG/fhKAAAABZBmqxJqEFsmUwId//+\n",
       "qZYAAAMAAA8IAAAAGkGeykUVLC//AAADAEV85TG5m1ipLnk/54G5AAAAEwGe6XRCvwAAAwBff6X2\n",
       "H0JZ+3AAAAATAZ7rakK/AAADAF+dKNxXG/fhKAAAABZBmvBJqEFsmUwId//+qZYAAAMAAA8JAAAA\n",
       "GkGfDkUVLC//AAADAEV85TG5m1ipLnk/54G5AAAAEwGfLXRCvwAAAwBff6X2H0JZ+3EAAAATAZ8v\n",
       "akK/AAADAF+dKNxXG/fhKAAAABZBmzRJqEFsmUwId//+qZYAAAMAAA8IAAAAGkGfUkUVLC//AAAD\n",
       "AEV85TG5m1ipLnk/54G5AAAAEwGfcXRCvwAAAwBff6X2H0JZ+3AAAAATAZ9zakK/AAADAF+dKNxX\n",
       "G/fhKAAAABZBm3hJqEFsmUwId//+qZYAAAMAAA8JAAAAGkGflkUVLC//AAADAEV85TG5m1ipLnk/\n",
       "54G4AAAAEwGftXRCvwAAAwBff6X2H0JZ+3EAAAATAZ+3akK/AAADAF+dKNxXG/fhKQAAABZBm7xJ\n",
       "qEFsmUwId//+qZYAAAMAAA8IAAAAGkGf2kUVLC//AAADAEV85TG5m1ipLnk/54G5AAAAEwGf+XRC\n",
       "vwAAAwBff6X2H0JZ+3AAAAATAZ/7akK/AAADAF+dKNxXG/fhKQAAABZBm+BJqEFsmUwId//+qZYA\n",
       "AAMAAA8JAAAAGkGeHkUVLC//AAADAEV85TG5m1ipLnk/54G4AAAAEwGePXRCvwAAAwBff6X2H0JZ\n",
       "+3AAAAATAZ4/akK/AAADAF+dKNxXG/fhKQAAACRBmiRJqEFsmUwId//+qZYAsJq1AALNLA6iwXEf\n",
       "uJ7peYAAChgAAAAaQZ5CRRUsL/8AAAMARXzlMbmbWKkueT/ngbkAAAATAZ5hdEK/AAADAF9/pfYf\n",
       "Qln7cAAAABMBnmNqQr8AAAMAX50o3Fcb9+EpAAAAGEGaaEmoQWyZTAh3//6plgCwrpsuQAADCwAA\n",
       "ABxBnoZFFSwv/wC81JZdAIr/xQE4Qce0fNDGVGXBAAAAEwGepXRCvwAAAwBff6X2H0JZ+3EAAAAT\n",
       "AZ6nakK/AAADAF+dKNxXG/fhKAAAABZBmqxJqEFsmUwId//+qZYAAAMAAA8IAAAAG0GeykUVLC//\n",
       "AL7kXSgB0JmxNAwapPW3a8YGsQAAABMBnul0Qr8AAAMAX3+l9h9CWftwAAAAEwGe62pCvwAAAwBf\n",
       "nSjcVxv34SgAAAAWQZrwSahBbJlMCHf//qmWAAADAAAPCQAAABtBnw5FFSwv/wC+5F0oAdCZsTQM\n",
       "GqT1t2vGBrEAAAATAZ8tdEK/AAADAF9/pfYfQln7cQAAABMBny9qQr8AAAMAX50o3Fcb9+EoAAAA\n",
       "FkGbNEmoQWyZTAh3//6plgAAAwAADwgAAAAbQZ9SRRUsL/8AvuRdKAHQmbE0DBqk9bdrxgaxAAAA\n",
       "EwGfcXRCvwAAAwBff6X2H0JZ+3AAAAATAZ9zakK/AAADAF+dKNxXG/fhKAAAABZBm3hJqEFsmUwI\n",
       "d//+qZYAAAMAAA8JAAAAG0GflkUVLC//AL7kXSgB0JmxNAwapPW3a8YGsAAAABMBn7V0Qr8AAAMA\n",
       "X3+l9h9CWftxAAAAEwGft2pCvwAAAwBfnSjcVxv34SkAAAAWQZu8SahBbJlMCG///qeEAAADAAAd\n",
       "0AAAABtBn9pFFSwv/wC+5F0oAdCZsTQMGqT1t2vGBrEAAAATAZ/5dEK/AAADAF9/pfYfQln7cAAA\n",
       "ABMBn/tqQr8AAAMAX50o3Fcb9+EpAAAAFkGb4EmoQWyZTAhn//6eEAAAAwAAdMEAAAAbQZ4eRRUs\n",
       "L/8AvuRdKAHQmbE0DBqk9bdrxgawAAAAEwGePXRCvwAAAwBff6X2H0JZ+3AAAAATAZ4/akK/AAAD\n",
       "AF+dKNxXG/fhKQAAABVBmiRJqEFsmUwIV//+OEAAAAMAAccAAAAbQZ5CRRUsL/8AvuRdKAHQmbE0\n",
       "DBqk9bdrxgaxAAAAEwGeYXRCvwAAAwBff6X2H0JZ+3AAAAATAZ5jakK/AAADAF+dKNxXG/fhKQAA\n",
       "B+ptb292AAAAbG12aGQAAAAAAAAAAAAAAAAAAAPoAAAPyAABAAABAAAAAAAAAAAAAAAAAQAAAAAA\n",
       "AAAAAAAAAAAAAAEAAAAAAAAAAAAAAAAAAEAAAAAAAAAAAAAAAAAAAAAAAAAAAAAAAAAAAAAAAAAC\n",
       "AAAHFHRyYWsAAABcdGtoZAAAAAMAAAAAAAAAAAAAAAEAAAAAAAAPyAAAAAAAAAAAAAAAAAAAAAAA\n",
       "AQAAAAAAAAAAAAAAAAAAAAEAAAAAAAAAAAAAAAAAAEAAAAAC0AAAASAAAAAAACRlZHRzAAAAHGVs\n",
       "c3QAAAAAAAAAAQAAD8gAAAQAAAEAAAAABoxtZGlhAAAAIG1kaGQAAAAAAAAAAAAAAAAAADIAAADK\n",
       "AFXEAAAAAAAtaGRscgAAAAAAAAAAdmlkZQAAAAAAAAAAAAAAAFZpZGVvSGFuZGxlcgAAAAY3bWlu\n",
       "ZgAAABR2bWhkAAAAAQAAAAAAAAAAAAAAJGRpbmYAAAAcZHJlZgAAAAAAAAABAAAADHVybCAAAAAB\n",
       "AAAF93N0YmwAAACzc3RzZAAAAAAAAAABAAAAo2F2YzEAAAAAAAAAAQAAAAAAAAAAAAAAAAAAAAAC\n",
       "0AEgAEgAAABIAAAAAAAAAAEAAAAAAAAAAAAAAAAAAAAAAAAAAAAAAAAAAAAAAAAAAAAY//8AAAAx\n",
       "YXZjQwFkABb/4QAYZ2QAFqzZQLQloQAAAwABAAADADIPFi2WAQAGaOvjyyLAAAAAHHV1aWRraEDy\n",
       "XyRPxbo5pRvPAyPzAAAAAAAAABhzdHRzAAAAAAAAAAEAAABlAAACAAAAABRzdHNzAAAAAAAAAAEA\n",
       "AAABAAADOGN0dHMAAAAAAAAAZQAAAAEAAAQAAAAAAQAACgAAAAABAAAEAAAAAAEAAAAAAAAAAQAA\n",
       "AgAAAAABAAAKAAAAAAEAAAQAAAAAAQAAAAAAAAABAAACAAAAAAEAAAoAAAAAAQAABAAAAAABAAAA\n",
       "AAAAAAEAAAIAAAAAAQAACgAAAAABAAAEAAAAAAEAAAAAAAAAAQAAAgAAAAABAAAKAAAAAAEAAAQA\n",
       "AAAAAQAAAAAAAAABAAACAAAAAAEAAAoAAAAAAQAABAAAAAABAAAAAAAAAAEAAAIAAAAAAQAACgAA\n",
       "AAABAAAEAAAAAAEAAAAAAAAAAQAAAgAAAAABAAAKAAAAAAEAAAQAAAAAAQAAAAAAAAABAAACAAAA\n",
       "AAEAAAoAAAAAAQAABAAAAAABAAAAAAAAAAEAAAIAAAAAAQAACgAAAAABAAAEAAAAAAEAAAAAAAAA\n",
       "AQAAAgAAAAABAAAKAAAAAAEAAAQAAAAAAQAAAAAAAAABAAACAAAAAAEAAAoAAAAAAQAABAAAAAAB\n",
       "AAAAAAAAAAEAAAIAAAAAAQAACgAAAAABAAAEAAAAAAEAAAAAAAAAAQAAAgAAAAABAAAKAAAAAAEA\n",
       "AAQAAAAAAQAAAAAAAAABAAACAAAAAAEAAAoAAAAAAQAABAAAAAABAAAAAAAAAAEAAAIAAAAAAQAA\n",
       "CgAAAAABAAAEAAAAAAEAAAAAAAAAAQAAAgAAAAABAAAKAAAAAAEAAAQAAAAAAQAAAAAAAAABAAAC\n",
       "AAAAAAEAAAoAAAAAAQAABAAAAAABAAAAAAAAAAEAAAIAAAAAAQAACgAAAAABAAAEAAAAAAEAAAAA\n",
       "AAAAAQAAAgAAAAABAAAKAAAAAAEAAAQAAAAAAQAAAAAAAAABAAACAAAAAAEAAAoAAAAAAQAABAAA\n",
       "AAABAAAAAAAAAAEAAAIAAAAAAQAACgAAAAABAAAEAAAAAAEAAAAAAAAAAQAAAgAAAAABAAAKAAAA\n",
       "AAEAAAQAAAAAAQAAAAAAAAABAAACAAAAAAEAAAoAAAAAAQAABAAAAAABAAAAAAAAAAEAAAIAAAAA\n",
       "AQAACgAAAAABAAAEAAAAAAEAAAAAAAAAAQAAAgAAAAAcc3RzYwAAAAAAAAABAAAAAQAAAGUAAAAB\n",
       "AAABqHN0c3oAAAAAAAAAAAAAAGUAAAzKAAAAQQAAAB0AAAATAAAAFwAAABoAAAAeAAAAFwAAABcA\n",
       "AAAaAAAAHgAAABcAAAAXAAAAGgAAAB4AAAAXAAAAFwAAABoAAAAeAAAAFwAAABcAAAAaAAAAHgAA\n",
       "ABcAAAAXAAAAGgAAAB4AAAAXAAAAFwAAABoAAAAeAAAAFwAAABcAAAAaAAAAHgAAABcAAAAXAAAA\n",
       "GgAAAB4AAAAXAAAAFwAAABoAAAAeAAAAFwAAABcAAAAaAAAAHgAAABcAAAAXAAAAGgAAAB4AAAAX\n",
       "AAAAFwAAABoAAAAeAAAAFwAAABcAAAAaAAAAHgAAABcAAAAXAAAAGgAAAB4AAAAXAAAAFwAAACgA\n",
       "AAAeAAAAFwAAABcAAAAcAAAAIAAAABcAAAAXAAAAGgAAAB8AAAAXAAAAFwAAABoAAAAfAAAAFwAA\n",
       "ABcAAAAaAAAAHwAAABcAAAAXAAAAGgAAAB8AAAAXAAAAFwAAABoAAAAfAAAAFwAAABcAAAAaAAAA\n",
       "HwAAABcAAAAXAAAAGQAAAB8AAAAXAAAAFwAAABRzdGNvAAAAAAAAAAEAAAAsAAAAYnVkdGEAAABa\n",
       "bWV0YQAAAAAAAAAhaGRscgAAAAAAAAAAbWRpcmFwcGwAAAAAAAAAAAAAAAAtaWxzdAAAACWpdG9v\n",
       "AAAAHWRhdGEAAAABAAAAAExhdmY1Ny40MS4xMDA=\n",
       "\">\n",
       "  Your browser does not support the video tag.\n",
       "</video>"
      ],
      "text/plain": [
       "<IPython.core.display.HTML object>"
      ]
     },
     "execution_count": 29,
     "metadata": {},
     "output_type": "execute_result"
    }
   ],
   "source": [
    "# initialization function: plot the background of each frame\n",
    "def init():\n",
    "    line.set_data([], [])\n",
    "    return (line,)\n",
    "\n",
    "def animate(i):\n",
    "    line.set_data(x, eta_top_out[i,:])\n",
    "    return (line,)\n",
    "\n",
    "# call the animator.  blit=True means only re-draw the parts that have changed.\n",
    "anim = animation.FuncAnimation(fig, animate, init_func=init,\n",
    "                               frames=eta_top_out.shape[0], interval=40, blit=True)\n",
    "\n",
    "# call our new function to display the animation\n",
    "HTML(anim.to_html5_video())"
   ]
  },
  {
   "cell_type": "code",
   "execution_count": 32,
   "metadata": {
    "collapsed": false
   },
   "outputs": [
    {
     "data": {
      "text/plain": [
       "[<matplotlib.lines.Line2D at 0x10a7ca0b8>]"
      ]
     },
     "execution_count": 32,
     "metadata": {},
     "output_type": "execute_result"
    },
    {
     "data": {
      "image/png": "[encoded data removed]",
      "text/plain": [
       "<matplotlib.figure.Figure at 0x10a7ca198>"
      ]
     },
     "metadata": {},
     "output_type": "display_data"
    }
   ],
   "source": [
    "pl.plot(x, u_out[0,:])\n",
    "pl.plot(x, u_out[10,:])"
   ]
  },
  {
   "cell_type": "code",
   "execution_count": null,
   "metadata": {
    "collapsed": true
   },
   "outputs": [],
   "source": []
  }
 ],
 "metadata": {
  "kernelspec": {
   "display_name": "Python 3",
   "language": "python",
   "name": "python3"
  },
  "language_info": {
   "codemirror_mode": {
    "name": "ipython",
    "version": 3
   },
   "file_extension": ".py",
   "mimetype": "text/x-python",
   "name": "python",
   "nbconvert_exporter": "python",
   "pygments_lexer": "ipython3",
   "version": "3.5.2"
  }
 },
 "nbformat": 4,
 "nbformat_minor": 0
}
