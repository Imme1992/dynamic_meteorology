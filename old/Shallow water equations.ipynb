{
 "cells": [
  {
   "cell_type": "markdown",
   "metadata": {},
   "source": [
    "# Using shallow water equations to understand large-scale dynamics\n",
    "### MAQ - 32806, Chiel van Heerwaarden, 2016\n",
    "The complete set of equations that describe atmospheric motions is too complex to easily derive important characteristics of large-scale atmospheric flow. A much simpler system that carries many of the same properties as the atmospheric flow are the shallow water equations. Carl-Gustav Rossby showed the concept first for ocean currents. Later it turned out that this set of equations is a very good predictor for the evolution of the 500 hPa geopotential, and therefore can be used to do weather forecasting. Furthermore, he showed that this already simple set of equations can be simplified even more by introducing the concept of potential vorticity.\n",
    "\n",
    "The shallow water equations describe the motions of a thin layer of fluid of uniform density. In this tutorial, you will derive the shallow water equations and the potential vorticity."
   ]
  },
  {
   "cell_type": "markdown",
   "metadata": {},
   "source": [
    "## 1. The derivation of the shallow water conservation equations\n",
    "Our starting point is the following set of equations, consisting of three equations for the three velocity components and one for the conservation of mass. Assume that we are on a $\\beta$-plane, thus that $f = f_0 + \\beta y$.\n",
    "$$\n",
    "\\dfrac{du}{dt} = - \\dfrac{1}{\\rho_0}\\dfrac{\\partial p}{\\partial x} + fv\\\\\n",
    "\\dfrac{dv}{dt} = - \\dfrac{1}{\\rho_0}\\dfrac{\\partial p}{\\partial y} - fu\\\\\n",
    "0 = - \\dfrac{1}{\\rho_0}\\dfrac{\\partial p}{\\partial z} - g\\\\\n",
    "\\nabla \\cdot \\boldsymbol{u} = 0\n",
    "$$\n",
    "\n",
    "___\n",
    "* Which simplifications have been applied to the equations of motions that are presented above?\n",
    "* Why is there no thermodynamic equation in this set?\n",
    "* Which of these simplifications would not hold if the depth of the water were not shallow?\n",
    "___"
   ]
  },
  {
   "cell_type": "markdown",
   "metadata": {},
   "source": [
    "Now, you will step-by-step derive the shallow water equations. First, you will derive an equation for $p$ from the conservation equation of the vertical component of velocity $w$. Assume that the surface is flat, and that the pressure at the top of the layer is negligible.\n",
    "___\n",
    "* Integrate the equation from 0 to $z$ to get an equation $p(x,y,z,t)$. TIP: The pressure at the bottom $p(x,y,0,t)$ relates to the water mass on top.\n",
    "___"
   ]
  },
  {
   "cell_type": "markdown",
   "metadata": {},
   "source": [
    "With the expression derived above, it is possible to replace pressure by $h(x,y)$ in the horizontal momentum equations.\n",
    "___\n",
    "* Take the horizontal derivatives of the equation for $p$ and substitute these expressions into the two evolution equations for horizontal velocity.\n",
    "* Write the two evolution equations for horizontal velocity into a single equation in vector form.\n",
    "* How does the horizontal velocity vary with respect to $z$ within the fluid layer? Can you see this in the equation?\n",
    "___"
   ]
  },
  {
   "cell_type": "markdown",
   "metadata": {},
   "source": [
    "The next challenge is to derive an evolution equation for the depth of the layer. With the help of the conservation of mass you will derive this equation.\n",
    "___\n",
    "* Separate the vertical velocity component in the conservation of mass equation from the two horizontal ones and integrate the equation in the $z$-direction from $0$ to $h$.\n",
    "* How does the velocity at the top $w(h)$ relate to the rate of change in time $dh/dt$?\n",
    "___"
   ]
  },
  {
   "cell_type": "markdown",
   "metadata": {
    "collapsed": true
   },
   "source": [
    "## 2. The derivation of potential vorticity\n",
    "The starting point of this step in the tutorial is the set of three equations derived in the previous exercise\n",
    "\n",
    "$$\n",
    "\\dfrac{du}{dt} = fv - g \\dfrac{\\partial h}{\\partial x}, \\\\\n",
    "\\dfrac{dv}{dt} = -fu - g \\dfrac{\\partial h}{\\partial y}, \\\\\n",
    "\\dfrac{dh}{dt} = -h \\left( \\dfrac{\\partial u}{\\partial x} + \\dfrac{\\partial v}{\\partial y} \\right).\n",
    "$$\n",
    "\n",
    "In the next step we are going to combine these equations to a single conservation equation: that of potential vorticity. This step, first done by Rossby in 193X, is one of the greatest steps forward ever made in large-scale meteorology.\n",
    "\n",
    "To get this equation, you will follow a sequence of steps; first, you will derive a conservation equation for the vertical component of the relative vorticity $\\zeta \\equiv  \\partial v / \\partial x + \\partial u / \\partial y$, then you will rewrite this equation as a conservation equation for the absolute vorticity $\\zeta + f$, and with this equation, you will form the conservation equation for shallow water potential vorticity $q \\equiv (\\zeta + f) / h$\n",
    "\n",
    "___\n",
    "* Derive the conservation equation for the relative vorticity $\\zeta$, by subtracting the horizontal derivatives of the two conservation equations of horizontal velocity from each other. TIP: expand $du/dt$ and $dv/dt$ before you take the derivative. Group all terms in such a way that the equation can be written in terms of $\\zeta$ and horizontal divergence ($du/dx + dv/dy$). Remember that we are on a $\\beta$-plane, thus $f = f_0 + \\beta y$.\n",
    "* Rewrite the latter equation into a conservation equation for the absolute vertical vorticity $\\zeta + f$. TIP: include $f$ into the total derivative, and check carefully how $df/dt$ relates to $v(df/dy)$.\n",
    "___"
   ]
  },
  {
   "cell_type": "markdown",
   "metadata": {},
   "source": [
    "If everything has worked out fine, you have ended up with:\n",
    "\n",
    "$$\n",
    "\\dfrac{d \\left( \\zeta + f \\right)}{dt} + \\left( \\zeta + f \\right) \\left( \\dfrac{\\partial u}{\\partial x} + \\dfrac{\\partial v}{\\partial y}\\right) = 0\n",
    "$$\n",
    "\n",
    "In the last step, you have to introduce the conservation equation of the layer depth $h$ into the equation.\n",
    "___\n",
    "* Eliminate the divergence term from the conservation equation for absolute vorticity.\n",
    "* Combine the two terms of the previous equation into a single time derivative. TIP: remember the quotient rule: $$\\dfrac{d}{dt}\\left(\\dfrac{a}{b}\\right) = \\dfrac{b \\dfrac{da}{dt} - a \\dfrac{db}{dt}}{b^2} \n",
    "                                         = \\dfrac{1}{b} \\dfrac{da}{dt} - \\dfrac{a}{b^2} \\dfrac{db}{dt}$$\n",
    "___"
   ]
  },
  {
   "cell_type": "markdown",
   "metadata": {},
   "source": [
    "With the last step you have completed the derivation of the conservation for shallow water potential vorticity $q \\equiv \\left( \\zeta + f \\right) / h$:\n",
    "\n",
    "$$\n",
    "\\dfrac{d}{dt} \\left( \\dfrac{\\zeta + f}{h} \\right) = \\dfrac{dq}{dt}= 0.\n",
    "$$\n",
    "\n",
    "This powerful equation shows that the absolute vorticity divided by the layer depth is conserved. With this accomplishment you have reduced a set of four equations with four unknowns $(u, v, w, p)$ into a single equation. This greatly simplifies the analysis of atmospheric flow, as you will discover in future tutorials."
   ]
  },
  {
   "cell_type": "markdown",
   "metadata": {},
   "source": [
    "___\n",
    "End of tutorial.\n",
    "___"
   ]
  }
 ],
 "metadata": {
  "kernelspec": {
   "display_name": "Python 2",
   "language": "python",
   "name": "python2"
  },
  "language_info": {
   "codemirror_mode": {
    "name": "ipython",
    "version": 2
   },
   "file_extension": ".py",
   "mimetype": "text/x-python",
   "name": "python",
   "nbconvert_exporter": "python",
   "pygments_lexer": "ipython2",
   "version": "2.7.12"
  }
 },
 "nbformat": 4,
 "nbformat_minor": 0
}
