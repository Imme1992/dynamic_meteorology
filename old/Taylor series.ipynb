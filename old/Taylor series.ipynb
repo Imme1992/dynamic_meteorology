{
 "cells": [
  {
   "cell_type": "markdown",
   "metadata": {},
   "source": [
    "# Taylor series\n",
    "\n",
    "$$\n",
    "f \\left( x + \\delta x, y, z, t \\right) = f \\left( x,y,z,t \\right) \n",
    "    + \\left( \\delta x \\right) \\left. \\dfrac{\\partial f}{\\partial x} \\right|_x\n",
    "    + \\dfrac{ \\left( \\delta x \\right)^2 }{2!} \\left. \\dfrac{\\partial^2 f}{\\partial x^2} \\right|_x\n",
    "    + \\dfrac{ \\left( \\delta x \\right)^3 }{3!} \\left. \\dfrac{\\partial^3 f}{\\partial x^3} \\right|_x + \\cdots\n",
    "$$\n",
    "\n",
    "If $\\delta x$ is an inifinitesimal element $dx$ and the limit $dx \\rightarrow 0$ is taken then\n",
    "$$\n",
    "\\lim_{dx \\rightarrow 0} \\dfrac{f(x + dx, y, z, t) - f(x, y, z, t)}{dx} = \\dfrac{\\partial f}{\\partial x}\n",
    "$$"
   ]
  },
  {
   "cell_type": "markdown",
   "metadata": {},
   "source": [
    "This Taylor approximation and infinitesimal control volumes are used in atmospheric science to express budgets of mass momentum and energy. \n",
    "Two types of control volumes are used in fluid dynamics: the Eulerian and Lagrangian frame.\n",
    "\n",
    "Here, we consider a fixed infinitesimal box of size $\\delta x \\times \\delta y \\times \\delta z$.\n",
    "In such a box the net rate of mass in- and outflow trough the sides must equal the rate of accumulation of mass within the volume.\n",
    "\n",
    "$$\n",
    "  \\rho \\left( x, y, z, t + \\delta t \\right) \\delta x\\,\\delta y\\,\\delta z\n",
    "- \\rho \\left( x, y, z, t \\right) \\delta x\\,\\delta y\\,\\delta z \\\\\n",
    "+ \\rho u \\left( x + \\tfrac{1}{2}\\delta x, y, z, t \\right) \\delta y\\,\\delta z\\,\\delta t\n",
    "- \\rho u \\left( x - \\tfrac{1}{2}\\delta x, y, z, t \\right) \\delta y\\,\\delta z\\,\\delta t \\\\\n",
    "+ \\rho v \\left( x, y + \\tfrac{1}{2}\\delta y, z, t \\right) \\delta x\\,\\delta z\\,\\delta t\n",
    "- \\rho v \\left( x, y - \\tfrac{1}{2}\\delta y, z, t \\right) \\delta x\\,\\delta z\\,\\delta t \\\\\n",
    "+ \\rho w \\left( x, y, z + \\tfrac{1}{2}\\delta z,t  \\right) \\delta x\\,\\delta y\\,\\delta t\n",
    "- \\rho w \\left( x, y, z - \\tfrac{1}{2}\\delta z, t \\right) \\delta x\\,\\delta y\\,\\delta t = 0\n",
    "$$\n",
    "\n",
    "* Divide by $\\delta x\\,\\delta y\\,\\delta z\\,\\delta t$\n",
    "* Apply the Taylor approximation\n",
    "\n",
    "You have now derived the continuity equation from an Eulerian frame (mass divergence form).\n",
    "\n",
    "$$\n",
    "\\dfrac{\\partial \\rho}{\\partial t} + \\nabla \\rho U = 0\n",
    "$$\n",
    "\n",
    "You can rewrite this equation into the form of a Lagrangian frame (velocity divergence form).\n",
    "\n",
    "$$\n",
    "\\dfrac{D \\rho}{D t} + \\rho \\nabla U = 0\n",
    "$$\n",
    "\n",
    "What happens with the continuity equation if we assume: $$ \\rho = \\rho_{0}$$"
   ]
  },
  {
   "cell_type": "code",
   "execution_count": null,
   "metadata": {
    "collapsed": true
   },
   "outputs": [],
   "source": []
  }
 ],
 "metadata": {
  "anaconda-cloud": {},
  "kernelspec": {
   "display_name": "Python [Root]",
   "language": "python",
   "name": "Python [Root]"
  },
  "language_info": {
   "codemirror_mode": {
    "name": "ipython",
    "version": 2
   },
   "file_extension": ".py",
   "mimetype": "text/x-python",
   "name": "python",
   "nbconvert_exporter": "python",
   "pygments_lexer": "ipython2",
   "version": "2.7.12"
  }
 },
 "nbformat": 4,
 "nbformat_minor": 0
}
