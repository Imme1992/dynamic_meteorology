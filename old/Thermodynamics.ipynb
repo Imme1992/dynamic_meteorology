{
 "cells": [
  {
   "cell_type": "markdown",
   "metadata": {},
   "source": [
    "# Tutorial: Thermodynamics\n",
    "### MAQ - 32806, Chiel van Heerwaarden, 2016"
   ]
  },
  {
   "cell_type": "markdown",
   "metadata": {},
   "source": [
    "In this tutorial, we refresh the key concepts of thermodynamics that are of importance in this course. Many of you have seen the potential temperature $\\theta$ before, but how is it exactly related to the first law of thermodynamics?\n",
    "\n",
    "Topics of this tutorial:\n",
    "* The first law of thermodynamics\n",
    "* The specific heat capacity at constant volume and at constant pressure\n",
    "* Potential temperature\n",
    "* The conservation equation of potential temperature\n",
    "* The dry adiabatic lapse rate\n",
    "\n",
    "## From the first law of thermodynamics to a conservation equation for temperature\n",
    "\n",
    "The first law of thermodynamics, for a system in thermodynamic equilibrium is:\n",
    "\n",
    "$$du = \\delta q - p\\,dv,$$\n",
    "\n",
    "where $du$ is the change in specific internal energy, $\\delta q$ the added specific heat, and the second term on the right hand side is the work done by the system described using pressure $p$ and the specific volume $v$.\n",
    "___\n",
    "1. What are the units of the involved variables in SI units?\n",
    "___"
   ]
  },
  {
   "cell_type": "markdown",
   "metadata": {},
   "source": [
    "In the equation above there is no temperature $T$. The specific internal energy $u$ of the system is related to the temperature through the specific heat capacity at constant volume $c_v$. This heat capacity is defined as:\n",
    "\n",
    "$$ c_v \\equiv \\left( \\dfrac{\\partial u}{\\partial T} \\right)_v =\n",
    "              \\left( \\dfrac{\\partial Q}{\\partial T} \\right)_v,$$\n",
    "\n",
    "which means that if the volume is kept constant ($dv = 0$ m$^3$ kg$^{-1}$) the heat capacity describes how much energy needs to be added to the system in order to increase the temperature by a certain amount. This means that $du = c_v dT$.\n",
    "\n",
    "___\n",
    "1. Introduce the heat capacity $c_v$ into the first law of thermodynamics and eliminate $du$.\n",
    "1. What are the units of the specific heat capacity in SI units?\n",
    "___"
   ]
  },
  {
   "cell_type": "markdown",
   "metadata": {},
   "source": [
    "Rather than working with specific volume, we prefer to work with density as this allows us to work with fixed control volumes.\n",
    "___\n",
    "1. Substitute the specific volume $v$ by density $\\rho = 1/v$ in the first law of thermodynamics and rewrite it to have $d \\rho$. Hint: apply the chain rule to $d (1/\\rho)$.\n",
    "___"
   ]
  },
  {
   "cell_type": "markdown",
   "metadata": {},
   "source": [
    "The state variables of the fluid (in our case the atmosphere, but we can do a similar exercise for the ocean) are related to each other in the so-called equation of state. In the atmosphere we use the ideal gas law, that relates pressure $p$, density $\\rho$ and temperature $T$:\n",
    "\n",
    "$$ p = \\rho R_d T $$\n",
    "\n",
    "With the help of the gas law and the chain rule it is possible to eliminate density entirely out of the equation. Hint:\n",
    "\n",
    "$$ d\\rho = \\dfrac{\\partial \\rho}{\\partial p}dp + \\dfrac{\\partial \\rho}{\\partial T} dT$$\n",
    "\n",
    "___\n",
    "3. Substitute $d\\rho$ by the right hand side of the previous equation and use the gas law to get rid of the partial derivatives in the equation. Group the terms that have $dT$ in them and bring them to the left hand side.\n",
    "___"
   ]
  },
  {
   "cell_type": "markdown",
   "metadata": {},
   "source": [
    "If everything worked out fine, you have ended up with:\n",
    "\n",
    "$$ (c_v + R_d)\\,dT = \\delta q + \\dfrac{1}{\\rho} dp$$\n",
    "\n",
    "During this exercise you have rewritten the first law of thermodynamics in a form that is suitable for atmospheric modeling. There is one last question remaining:\n",
    "\n",
    "___\n",
    "1. What is the heat capacity at constant pressure $c_p$?\n",
    "2. Why is this heat capacity higher / lower than the one at constant volume $c_v$?\n",
    "___"
   ]
  },
  {
   "cell_type": "markdown",
   "metadata": {
    "collapsed": true
   },
   "source": [
    "## The conservation equation for potential temperature and the dry adiabatic lapse rate\n",
    "\n",
    "We continue with the derivation of the expression for potential temperature. The first law of thermodynamics can be split into two parts: a part related to the added heat and an adiabatic part:\n",
    "\n",
    "$$c_p dT = \\overbrace{\\delta q}^\\textrm{added heat} + \\overbrace{\\dfrac{1}{\\rho} dp}^\\textrm{adiabatic}$$\n",
    "\n",
    "If we bring the adiabatic part to the left hand side, we have the basis for the derivation of an expression for potential temperature:\n",
    "\n",
    "$$c_p dT - \\dfrac{1}{\\rho} dp = \\delta q $$\n",
    "\n",
    "We know that under adiabatic displacements during which the absolute temperature $T$ changes with pressure $p$, the potential temperature $\\theta$ is constant. This statement also implies that as long as $\\delta q = 0$, also $d \\theta = 0$. The equation above has variables $T$, $\\rho$ and $p$. In order to get rid of $\\rho$, we use the equation of state: the ideal gas law.\n",
    "\n",
    "___\n",
    "1. Eliminate $\\rho$ from the equation above.\n",
    "___"
   ]
  },
  {
   "cell_type": "markdown",
   "metadata": {},
   "source": [
    "If everything worked out fine, you have ended up with:\n",
    "\n",
    "$$\\theta \\equiv T_0 = T \\left( \\dfrac{p_0}{p} \\right)^\\frac{R_d}{c_p}$$\n",
    "\n",
    "The reciprocal of the pressure term is called the Exner function, often denoted with $\\pi$ and is a widely used variable in atmospheric modeling:\n",
    "\n",
    "$$\\pi \\equiv \\left( \\dfrac{p}{p_0} \\right)^\\frac{R_d}{c_p} = \\dfrac{T}{\\theta}$$\n",
    "\n",
    "___\n",
    "1. Rewrite the first law of thermodynamics that used the heat capacity at constant pressure in terms of the potential temperature $\\theta$, rather than the absolute temperature $T$.\n",
    "2. Does the acquired expression show that the potential temperature $\\theta$ can only change by adding heat $\\delta q$?\n",
    "3. Does the potential temperature change faster or slower for the same heat input if we move to higher altitudes (thus to lower pressures)? \n",
    "___"
   ]
  },
  {
   "cell_type": "markdown",
   "metadata": {},
   "source": [
    "The dry adiabatic lapse rate describes the change of absolute temperature $T$ with height. Under adiabatic displacement we know that the potential temperature is constant.\n",
    "\n",
    "___\n",
    "1. Use the answer of the previous task to derive the dry adiabatic lapse rate $dT/dz$.\n",
    "___"
   ]
  },
  {
   "cell_type": "markdown",
   "metadata": {},
   "source": [
    "The tutorial above should have refreshed the most important aspects of the thermodynamics that play a role in this course. Potential temperature $\\theta$ is the thermodynamic variable that we use throughout this course. Its vertical and horizontal gradients are of great importance in many aspects of the large scale circulation, for instance in the formation of internal gravity waves, and baroclinic instabilities.\n",
    "\n",
    "End of tutorial."
   ]
  }
 ],
 "metadata": {
  "kernelspec": {
   "display_name": "Python 2",
   "language": "python",
   "name": "python2"
  },
  "language_info": {
   "codemirror_mode": {
    "name": "ipython",
    "version": 2
   },
   "file_extension": ".py",
   "mimetype": "text/x-python",
   "name": "python",
   "nbconvert_exporter": "python",
   "pygments_lexer": "ipython2",
   "version": "2.7.11"
  }
 },
 "nbformat": 4,
 "nbformat_minor": 0
}
