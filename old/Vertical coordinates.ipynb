{
 "cells": [
  {
   "cell_type": "markdown",
   "metadata": {},
   "source": [
    "# Changing vertical coordinates from height to pressure\n",
    "### MAQ - 32806, Chiel van Heerwaarden, 2016\n",
    "In meteorological applications, it is often very handy to work with other vertical coordinates than height. Two coordinates are widely used, pressure $p$ and potential temperature $\\theta$, because they often make mathematical analysis of systems a lot simpler. In this tutorial, you are going to transform the conservation equation of zonal wind $u$ into pressure coordinates. You will use the two-dimensional equations. This is a very mathematical tutorial to show you once the entire procedure of changing coordinates.\n",
    "\n",
    "## The governing equations and the requirements for coordinate transformation\n",
    "For adiabatic flow, this equation is\n",
    "\n",
    "$$ \\dfrac{\\partial u}{\\partial t} + u \\dfrac{\\partial u}{\\partial x} \n",
    "                                  + w \\dfrac{\\partial u}{\\partial z} \n",
    "   = -\\dfrac{1}{\\rho}\\dfrac{\\partial p}{\\partial x} + fv.$$\n",
    "   \n",
    "You will transfer this equation to a set that has pressure $p$ as a vertical coordinate, and in which any variable is a function of $x$, $p$ and $t$.\n",
    "___\n",
    "* Under which conditions can we rewrite $u(x,z,t)$ into $u(x,p,t)$? TIP: Think about under which conditions a function $f(z)$ can be written as $f(p)$.\n",
    "___"
   ]
  },
  {
   "cell_type": "markdown",
   "metadata": {},
   "source": [
    "## The derivatives in the new coordinate system\n",
    "To rewrite the equation, we have to take into account that $z$ is no longer an independent coordinate, but instead a function $z(x,p,t)$. To make the connection to the $(x,z,t)$-system in which the governing equations are written, we can write for instance the zonal wind $u$ as $u(x,z(x,p,t),t)$.\n",
    "\n",
    "Let us start with the left-hand side of the first equation. \n",
    "___\n",
    "* Write out the partial derivative $\\partial u / \\partial t$ at constant $p$ in the $(x,p,t)$ system and fill in the dots. TIP: Apply the chain rule to $u(x,z(x,p,t),t)$.\n",
    "\n",
    "$$\\left( \\dfrac{\\partial u}{\\partial t} \\right)_p = \\dots $$\n",
    "___"
   ]
  },
  {
   "cell_type": "markdown",
   "metadata": {},
   "source": [
    "The partial derivative to $x$ can be found in the same way as that to $t$. For the partial derivative of $u$ to $z$ we follow a different approach\n",
    "\n",
    "$$ \\dfrac{\\partial u}{\\partial p} = \\dfrac{\\partial u}{\\partial z}\n",
    "                                    \\dfrac{\\partial z}{\\partial p},$$\n",
    "                                    \n",
    "which can be rewritten as\n",
    "\n",
    "$$ \\dfrac{\\partial u}{\\partial z} = \\dfrac{\\partial u}{\\partial p}\n",
    "                                    \\dfrac{\\partial p}{\\partial z}.$$\n",
    "                                    \n",
    "___\n",
    "* Under which condition (in words is sufficient) can we rewrite the equation in this way?\n",
    "___"
   ]
  },
  {
   "cell_type": "markdown",
   "metadata": {},
   "source": [
    "## Rewriting the equation for zonal wind to pressure coordinates\n",
    "Now, the hard part starts. You are going to transform the zonal momentum equation to the $(x,p,t)$-system. First, you will transform the left-hand side of the equation. To help you, the partial derivatives taken at constant $z$ are indicated.\n",
    "\n",
    "$$ \\left( \\dfrac{\\partial u}{\\partial t} \\right)_z\n",
    "   + u  \\left( \\dfrac{\\partial u}{\\partial x} \\right)_z\n",
    "   + w  \\dfrac{\\partial u}{\\partial z}$$\n",
    "   \n",
    "___\n",
    "* Substitute all derivatives in the equation above with those derived in the previous section, and group all terms that have $(\\partial u/\\partial p)(\\partial p/\\partial z)$ in them.\n",
    "___"
   ]
  },
  {
   "cell_type": "markdown",
   "metadata": {},
   "source": [
    "To make the final step, it is important to realize that the vertical velocity is defined as $w \\equiv dz/dt$. Furthermore, we define a new velocity $\\omega \\equiv dp/dt$ that has units of Pa s$^{-1}$ and that is the standard way of expression velocity in large-scale meteorology.\n",
    "___\n",
    "* Write the expression for $w$, knowing that $z(x,p,t)$.\n",
    "* Substitute the expression for $w$ in the left-hand side of the rewritten momentum equation.\n",
    "___"
   ]
  },
  {
   "cell_type": "markdown",
   "metadata": {},
   "source": [
    "If everything has worked out well, you have found that the left-hand side of the momentum equation is\n",
    "\n",
    "$$ \\left( \\dfrac{\\partial u}{\\partial t} \\right)_p\n",
    "   + u  \\left( \\dfrac{\\partial u}{\\partial x} \\right)_p\n",
    "   + \\omega \\dfrac{\\partial u}{\\partial p}.$$\n",
    "   \n",
    "We continue with the right-hand side $-(1/\\rho)(\\partial p / \\partial x) + fv$.\n",
    "___\n",
    "* Write out the partial derivative $\\partial p / \\partial x$ at constant $p$ in the $(x,p,t)$ system and fill in the dots. Check if any terms can be neglected. TIP: Make a sketch using the figure below to see the different terms.\n",
    "\n",
    "$$\\left( \\dfrac{\\partial p}{\\partial x} \\right)_p = \\dots $$\n",
    "___"
   ]
  },
  {
   "cell_type": "code",
   "execution_count": 1,
   "metadata": {
    "collapsed": false
   },
   "outputs": [
    {
     "name": "stdout",
     "output_type": "stream",
     "text": [
      "Populating the interactive namespace from numpy and matplotlib\n"
     ]
    },
    {
     "data": {
      "image/png": "[encoded data removed]",
      "text/plain": [
       "<matplotlib.figure.Figure at 0x107686d10>"
      ]
     },
     "metadata": {},
     "output_type": "display_data"
    }
   ],
   "source": [
    "import matplotlib.pylab as pl\n",
    "%pylab inline\n",
    "x  = pl.linspace(0., 100000., 10)\n",
    "zp = 1000. + x/1000.\n",
    "pl.plot(x, zp, label='height of 850 hPa')\n",
    "pl.xlabel('x (m)')\n",
    "pl.ylabel('z (m)')\n",
    "pl.ylim(980, 1120)\n",
    "pl.legend(loc=0, frameon=False);"
   ]
  },
  {
   "cell_type": "markdown",
   "metadata": {},
   "source": [
    "## The hydrostatic approximation\n",
    "In large-scale meteorology the hydrostatic approximation is often applied.\n",
    "___\n",
    "* What does the hydrostatic approximation mean in terms of physics?\n",
    "* Substitute the hydrostatic approximation into the derived expression for the horizontal pressure gradient, and write the solution in terms of the geopotential $\\Phi$ that is defined as $\\Phi \\equiv gz$.\n",
    "* What is the advantage of using pressure coordinates? What did we gain by going through this extensive exercise?\n",
    "___\n",
    "\n",
    "End of tutorial."
   ]
  }
 ],
 "metadata": {
  "kernelspec": {
   "display_name": "Python 2",
   "language": "python",
   "name": "python2"
  },
  "language_info": {
   "codemirror_mode": {
    "name": "ipython",
    "version": 2
   },
   "file_extension": ".py",
   "mimetype": "text/x-python",
   "name": "python",
   "nbconvert_exporter": "python",
   "pygments_lexer": "ipython2",
   "version": "2.7.11"
  }
 },
 "nbformat": 4,
 "nbformat_minor": 0
}
